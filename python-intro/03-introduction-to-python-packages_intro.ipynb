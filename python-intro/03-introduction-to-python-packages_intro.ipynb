{
 "cells": [
  {
   "cell_type": "markdown",
   "id": "807c06b5",
   "metadata": {},
   "source": [
    "***\n",
    "**Introduction to Machine Learning** <br>\n",
    "__[https://slds-lmu.github.io/i2ml/](https://slds-lmu.github.io/i2ml/)__\n",
    "***"
   ]
  },
  {
   "cell_type": "markdown",
   "id": "98a89ecc",
   "metadata": {},
   "source": [
    "# 3. Packages"
   ]
  },
  {
   "cell_type": "markdown",
   "id": "fcd0ec11",
   "metadata": {},
   "source": [
    "## 3.1 Import packages in python script"
   ]
  },
  {
   "cell_type": "markdown",
   "id": "ab6b4a32",
   "metadata": {},
   "source": [
    "In Python, packages are imported via 'import \\<package\\>', e.g., to import the package 'math':"
   ]
  },
  {
   "cell_type": "code",
   "execution_count": 1,
   "id": "d51bd85b",
   "metadata": {},
   "outputs": [
    {
     "data": {
      "text/plain": [
       "2.718281828459045"
      ]
     },
     "execution_count": 1,
     "metadata": {},
     "output_type": "execute_result"
    }
   ],
   "source": [
    "import math\n",
    "# Functions inside a package are addressed via\n",
    "# package.function()\n",
    "math.exp(1)"
   ]
  },
  {
   "cell_type": "markdown",
   "id": "924f93df",
   "metadata": {},
   "source": [
    "You can assign a different name to a package via 'import \\<package\\> as \\<my_name\\>', where you can choose the name with 'as'."
   ]
  },
  {
   "cell_type": "code",
   "execution_count": 2,
   "id": "08c8e7ab",
   "metadata": {},
   "outputs": [
    {
     "data": {
      "text/plain": [
       "2.718281828459045"
      ]
     },
     "execution_count": 2,
     "metadata": {},
     "output_type": "execute_result"
    }
   ],
   "source": [
    "import math as m\n",
    "\n",
    "# You can then use this name to address the package.\n",
    "m.exp(1)"
   ]
  },
  {
   "cell_type": "code",
   "execution_count": 3,
   "id": "4ec97c97",
   "metadata": {},
   "outputs": [
    {
     "ename": "NameError",
     "evalue": "name 'exp' is not defined",
     "output_type": "error",
     "traceback": [
      "\u001b[1;31m---------------------------------------------------------------------------\u001b[0m",
      "\u001b[1;31mNameError\u001b[0m                                 Traceback (most recent call last)",
      "Cell \u001b[1;32mIn[3], line 2\u001b[0m\n\u001b[0;32m      1\u001b[0m \u001b[38;5;66;03m# ...it does not work without the package name (unlike R):\u001b[39;00m\n\u001b[1;32m----> 2\u001b[0m \u001b[43mexp\u001b[49m(\u001b[38;5;241m1\u001b[39m)\n",
      "\u001b[1;31mNameError\u001b[0m: name 'exp' is not defined"
     ]
    }
   ],
   "source": [
    "# ...it does not work without the package name (unlike R):\n",
    "exp(1)"
   ]
  },
  {
   "cell_type": "markdown",
   "id": "38e99d11",
   "metadata": {},
   "source": [
    "To load a certain function of a package: 'from \\<package\\> import \\<function\\>'\n",
    "Advantages:\n",
    "- Fewer things are loaded; only those that are really needed\n",
    "- The function can be used directly with its name:"
   ]
  },
  {
   "cell_type": "code",
   "execution_count": 4,
   "id": "3e1dc58a",
   "metadata": {},
   "outputs": [
    {
     "data": {
      "text/plain": [
       "2.718281828459045"
      ]
     },
     "execution_count": 4,
     "metadata": {},
     "output_type": "execute_result"
    }
   ],
   "source": [
    "from math import exp\n",
    "exp(1)"
   ]
  },
  {
   "cell_type": "code",
   "execution_count": null,
   "id": "a4fa8d16",
   "metadata": {},
   "outputs": [],
   "source": [
    "# Install a package in the console / command line / terminal via\n",
    "# 'pip install <package>'\n",
    "pip install opencv-python\n",
    "# Help:\n",
    "pip install --help"
   ]
  },
  {
   "cell_type": "code",
   "execution_count": null,
   "id": "670958ef",
   "metadata": {},
   "outputs": [],
   "source": [
    "# Access the command line directly from Python via '! <command>'\n",
    "!python --version"
   ]
  },
  {
   "cell_type": "markdown",
   "id": "59c0eebe",
   "metadata": {},
   "source": [
    "https://packaging.python.org/tutorials/installing-packages/ for\n",
    "more info about options during installation and https://pypi.org for\n",
    "available packages."
   ]
  },
  {
   "cell_type": "markdown",
   "id": "656e1da2",
   "metadata": {},
   "source": [
    "## 3.2 Package Math"
   ]
  },
  {
   "cell_type": "markdown",
   "id": "4b0a5e0f",
   "metadata": {},
   "source": [
    "Documentation: https://docs.python.org/3/library/math.html"
   ]
  },
  {
   "cell_type": "code",
   "execution_count": 5,
   "id": "ada386b0",
   "metadata": {},
   "outputs": [
    {
     "data": {
      "text/plain": [
       "3.141592653589793"
      ]
     },
     "execution_count": 5,
     "metadata": {},
     "output_type": "execute_result"
    }
   ],
   "source": [
    "# Constants\n",
    "math.pi"
   ]
  },
  {
   "cell_type": "code",
   "execution_count": 6,
   "id": "04e46009",
   "metadata": {},
   "outputs": [
    {
     "data": {
      "text/plain": [
       "2.718281828459045"
      ]
     },
     "execution_count": 6,
     "metadata": {},
     "output_type": "execute_result"
    }
   ],
   "source": [
    "math.e"
   ]
  },
  {
   "cell_type": "code",
   "execution_count": 7,
   "id": "2a0f8953",
   "metadata": {},
   "outputs": [
    {
     "data": {
      "text/plain": [
       "8.0"
      ]
     },
     "execution_count": 7,
     "metadata": {},
     "output_type": "execute_result"
    }
   ],
   "source": [
    "math.pow(2,3) # a to the power of b"
   ]
  },
  {
   "cell_type": "code",
   "execution_count": 8,
   "id": "dc9fc526",
   "metadata": {},
   "outputs": [
    {
     "data": {
      "text/plain": [
       "1.4142135623730951"
      ]
     },
     "execution_count": 8,
     "metadata": {},
     "output_type": "execute_result"
    }
   ],
   "source": [
    "math.sqrt(2) # square root"
   ]
  },
  {
   "cell_type": "code",
   "execution_count": 9,
   "id": "d9e37dab",
   "metadata": {},
   "outputs": [
    {
     "data": {
      "text/plain": [
       "2.0"
      ]
     },
     "execution_count": 9,
     "metadata": {},
     "output_type": "execute_result"
    }
   ],
   "source": [
    "math.pow(8, 1/3) # arbitrary root"
   ]
  },
  {
   "cell_type": "code",
   "execution_count": 10,
   "id": "18d2fa0f",
   "metadata": {},
   "outputs": [
    {
     "data": {
      "text/plain": [
       "3.0"
      ]
     },
     "execution_count": 10,
     "metadata": {},
     "output_type": "execute_result"
    }
   ],
   "source": [
    "math.fabs(-3) # Absolute value"
   ]
  },
  {
   "cell_type": "code",
   "execution_count": 11,
   "id": "30582efb",
   "metadata": {},
   "outputs": [
    {
     "data": {
      "text/plain": [
       "120"
      ]
     },
     "execution_count": 11,
     "metadata": {},
     "output_type": "execute_result"
    }
   ],
   "source": [
    "math.factorial(5) # Factorial"
   ]
  },
  {
   "cell_type": "code",
   "execution_count": 12,
   "id": "2598315b",
   "metadata": {},
   "outputs": [
    {
     "data": {
      "text/plain": [
       "2.718281828459045"
      ]
     },
     "execution_count": 12,
     "metadata": {},
     "output_type": "execute_result"
    }
   ],
   "source": [
    "math.exp(1) # Exponential function"
   ]
  },
  {
   "cell_type": "code",
   "execution_count": 13,
   "id": "ea5900a7",
   "metadata": {},
   "outputs": [
    {
     "data": {
      "text/plain": [
       "1.0"
      ]
     },
     "execution_count": 13,
     "metadata": {},
     "output_type": "execute_result"
    }
   ],
   "source": [
    "math.log(math.e) # Logarithm"
   ]
  },
  {
   "cell_type": "code",
   "execution_count": 14,
   "id": "372ed86a",
   "metadata": {},
   "outputs": [
    {
     "data": {
      "text/plain": [
       "3.0"
      ]
     },
     "execution_count": 14,
     "metadata": {},
     "output_type": "execute_result"
    }
   ],
   "source": [
    "math.log(8, 2) # Log base 2"
   ]
  },
  {
   "cell_type": "code",
   "execution_count": 15,
   "id": "8b45f8c7",
   "metadata": {},
   "outputs": [
    {
     "data": {
      "text/plain": [
       "0.5000000000000001"
      ]
     },
     "execution_count": 15,
     "metadata": {},
     "output_type": "execute_result"
    }
   ],
   "source": [
    "math.cos(math.pi/3) # Trigonometric functions"
   ]
  }
 ],
 "metadata": {
  "kernelspec": {
   "display_name": "python-i2ml",
   "language": "python",
   "name": "python-i2ml"
  },
  "language_info": {
   "codemirror_mode": {
    "name": "ipython",
    "version": 3
   },
   "file_extension": ".py",
   "mimetype": "text/x-python",
   "name": "python",
   "nbconvert_exporter": "python",
   "pygments_lexer": "ipython3",
   "version": "3.10.12"
  }
 },
 "nbformat": 4,
 "nbformat_minor": 5
}
