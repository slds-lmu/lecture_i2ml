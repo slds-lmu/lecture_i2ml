{
 "cells": [
  {
   "cell_type": "markdown",
   "id": "807c06b5",
   "metadata": {},
   "source": [
    "***\n",
    "**Introduction to Machine Learning** <br>\n",
    "__[https://slds-lmu.github.io/i2ml/](https://slds-lmu.github.io/i2ml/)__\n",
    "***"
   ]
  },
  {
   "cell_type": "markdown",
   "id": "98a89ecc",
   "metadata": {},
   "source": [
    "# 3. Packages"
   ]
  },
  {
   "cell_type": "markdown",
   "id": "b80e1345",
   "metadata": {},
   "source": [
    "## 3.3 Numpy Package"
   ]
  },
  {
   "cell_type": "markdown",
   "id": "3e319421",
   "metadata": {},
   "source": [
    "Official Website: https://numpy.org/"
   ]
  },
  {
   "cell_type": "markdown",
   "id": "bfa36708",
   "metadata": {},
   "source": [
    "### 3.3.1 Array Creation"
   ]
  },
  {
   "cell_type": "markdown",
   "id": "ede4c626",
   "metadata": {},
   "source": [
    "### a) Convert a list to a NumPy array => 'Vector'"
   ]
  },
  {
   "cell_type": "code",
   "execution_count": 16,
   "id": "edb7e9c5",
   "metadata": {},
   "outputs": [
    {
     "data": {
      "text/plain": [
       "array([1, 2, 3])"
      ]
     },
     "execution_count": 16,
     "metadata": {},
     "output_type": "execute_result"
    }
   ],
   "source": [
    "import numpy as np\n",
    "\n",
    "my_list = [1,2,3]\n",
    "np.array(my_list)"
   ]
  },
  {
   "cell_type": "markdown",
   "id": "a82804cb",
   "metadata": {},
   "source": [
    "### b) Convert a list of lists to a NumPy array => 'Matrix'"
   ]
  },
  {
   "cell_type": "code",
   "execution_count": 17,
   "id": "3fb732da",
   "metadata": {},
   "outputs": [
    {
     "data": {
      "text/plain": [
       "array([[1, 2, 3],\n",
       "       [4, 5, 6],\n",
       "       [7, 8, 9]])"
      ]
     },
     "execution_count": 17,
     "metadata": {},
     "output_type": "execute_result"
    }
   ],
   "source": [
    "my_matrix = [[1,2,3],[4,5,6],[7,8,9]]\n",
    "np.array(my_matrix)\n"
   ]
  },
  {
   "cell_type": "markdown",
   "id": "c8e9028f",
   "metadata": {},
   "source": [
    "### c) Arange: integers within an interval"
   ]
  },
  {
   "cell_type": "code",
   "execution_count": 18,
   "id": "3e4cd9be",
   "metadata": {},
   "outputs": [
    {
     "data": {
      "text/plain": [
       "array([0, 1, 2, 3, 4, 5, 6, 7, 8, 9])"
      ]
     },
     "execution_count": 18,
     "metadata": {},
     "output_type": "execute_result"
    }
   ],
   "source": [
    "# (the last element is excluded):\n",
    "np.arange(0,10)"
   ]
  },
  {
   "cell_type": "code",
   "execution_count": 19,
   "id": "3ed7bf16",
   "metadata": {},
   "outputs": [
    {
     "data": {
      "text/plain": [
       "array([ 0,  2,  4,  6,  8, 10])"
      ]
     },
     "execution_count": 19,
     "metadata": {},
     "output_type": "execute_result"
    }
   ],
   "source": [
    "# The distance between the integers is adjustable:\n",
    "np.arange(0,11,2)"
   ]
  },
  {
   "cell_type": "markdown",
   "id": "f1b402b9",
   "metadata": {},
   "source": [
    "### d) Array with zeros"
   ]
  },
  {
   "cell_type": "code",
   "execution_count": 20,
   "id": "c6d66f94",
   "metadata": {},
   "outputs": [
    {
     "data": {
      "text/plain": [
       "array([0., 0., 0.])"
      ]
     },
     "execution_count": 20,
     "metadata": {},
     "output_type": "execute_result"
    }
   ],
   "source": [
    "# 1D\n",
    "np.zeros(3)"
   ]
  },
  {
   "cell_type": "code",
   "execution_count": 21,
   "id": "e1c173a6",
   "metadata": {},
   "outputs": [
    {
     "data": {
      "text/plain": [
       "array([[0., 0., 0., 0., 0.],\n",
       "       [0., 0., 0., 0., 0.],\n",
       "       [0., 0., 0., 0., 0.],\n",
       "       [0., 0., 0., 0., 0.],\n",
       "       [0., 0., 0., 0., 0.]])"
      ]
     },
     "execution_count": 21,
     "metadata": {},
     "output_type": "execute_result"
    }
   ],
   "source": [
    "# 2D\n",
    "np.zeros((5,5))"
   ]
  },
  {
   "cell_type": "markdown",
   "id": "740ceaa4",
   "metadata": {},
   "source": [
    "### e) Array with ones"
   ]
  },
  {
   "cell_type": "code",
   "execution_count": 23,
   "id": "9746b89b",
   "metadata": {},
   "outputs": [
    {
     "data": {
      "text/plain": [
       "array([1., 1., 1.])"
      ]
     },
     "execution_count": 23,
     "metadata": {},
     "output_type": "execute_result"
    }
   ],
   "source": [
    "# 1D\n",
    "np.ones(3)"
   ]
  },
  {
   "cell_type": "code",
   "execution_count": 24,
   "id": "e4bc33a6",
   "metadata": {},
   "outputs": [
    {
     "data": {
      "text/plain": [
       "array([[1., 1., 1.],\n",
       "       [1., 1., 1.],\n",
       "       [1., 1., 1.]])"
      ]
     },
     "execution_count": 24,
     "metadata": {},
     "output_type": "execute_result"
    }
   ],
   "source": [
    "# 2D\n",
    "np.ones((3,3))"
   ]
  },
  {
   "cell_type": "markdown",
   "id": "42a5b785",
   "metadata": {},
   "source": [
    "### f) linspace(): equidistant numbers within an interval"
   ]
  },
  {
   "cell_type": "code",
   "execution_count": 25,
   "id": "3e98d158",
   "metadata": {},
   "outputs": [
    {
     "data": {
      "text/plain": [
       "array([ 0.,  5., 10.])"
      ]
     },
     "execution_count": 25,
     "metadata": {},
     "output_type": "execute_result"
    }
   ],
   "source": [
    "# 3 numbers between 0 and 10 (10 is included)\n",
    "np.linspace(0, 10, 3)"
   ]
  },
  {
   "cell_type": "code",
   "execution_count": 26,
   "id": "7f53f3bc",
   "metadata": {},
   "outputs": [
    {
     "data": {
      "text/plain": [
       "array([0, 3, 6, 9])"
      ]
     },
     "execution_count": 26,
     "metadata": {},
     "output_type": "execute_result"
    }
   ],
   "source": [
    "# To compare with arange():\n",
    "# 3 is the distance, not 3 numbers\n",
    "# Integers instead of floats\n",
    "np.arange(0, 10, 3)"
   ]
  },
  {
   "cell_type": "markdown",
   "id": "dbd4b5fb",
   "metadata": {},
   "source": [
    "### g) eye(): identity matrix"
   ]
  },
  {
   "cell_type": "code",
   "execution_count": 27,
   "id": "ec995625",
   "metadata": {},
   "outputs": [
    {
     "data": {
      "text/plain": [
       "array([[1., 0., 0., 0.],\n",
       "       [0., 1., 0., 0.],\n",
       "       [0., 0., 1., 0.],\n",
       "       [0., 0., 0., 1.]])"
      ]
     },
     "execution_count": 27,
     "metadata": {},
     "output_type": "execute_result"
    }
   ],
   "source": [
    "np.eye(4)"
   ]
  },
  {
   "cell_type": "markdown",
   "id": "b57b6581",
   "metadata": {},
   "source": [
    "### 3.3.2 Random numbers"
   ]
  },
  {
   "cell_type": "markdown",
   "id": "d4787de2",
   "metadata": {},
   "source": [
    "### a) rand(): an array with a specified size and values from a uniform distribution over [0,1)"
   ]
  },
  {
   "cell_type": "code",
   "execution_count": 28,
   "id": "e2b41a9e",
   "metadata": {},
   "outputs": [
    {
     "data": {
      "text/plain": [
       "array([0.95552993, 0.40964415])"
      ]
     },
     "execution_count": 28,
     "metadata": {},
     "output_type": "execute_result"
    }
   ],
   "source": [
    "# 1D\n",
    "np.random.rand(2)"
   ]
  },
  {
   "cell_type": "code",
   "execution_count": 29,
   "id": "90b1b6a7",
   "metadata": {},
   "outputs": [
    {
     "data": {
      "text/plain": [
       "array([[0.31884859, 0.38797628, 0.5285368 ],\n",
       "       [0.89377178, 0.77992624, 0.09595719],\n",
       "       [0.61693628, 0.51100312, 0.10244393]])"
      ]
     },
     "execution_count": 29,
     "metadata": {},
     "output_type": "execute_result"
    }
   ],
   "source": [
    "# 2D\n",
    "np.random.rand(3,3)"
   ]
  },
  {
   "cell_type": "code",
   "execution_count": 30,
   "id": "fe4c3423",
   "metadata": {},
   "outputs": [
    {
     "data": {
      "text/plain": [
       "array([[[0.50100396, 0.1595289 ],\n",
       "        [0.14919154, 0.66935693]],\n",
       "\n",
       "       [[0.79224251, 0.36059737],\n",
       "        [0.96975931, 0.09454554]]])"
      ]
     },
     "execution_count": 30,
     "metadata": {},
     "output_type": "execute_result"
    }
   ],
   "source": [
    "# 3D\n",
    "np.random.rand(2,2,2)"
   ]
  },
  {
   "cell_type": "markdown",
   "id": "644e32b5",
   "metadata": {},
   "source": [
    "### b) randn(): similar to rand() but the values from N(0,1)"
   ]
  },
  {
   "cell_type": "code",
   "execution_count": 32,
   "id": "d341eecc",
   "metadata": {},
   "outputs": [
    {
     "data": {
      "text/plain": [
       "array([0.70539226, 1.12425172])"
      ]
     },
     "execution_count": 32,
     "metadata": {},
     "output_type": "execute_result"
    }
   ],
   "source": [
    "np.random.randn(2)"
   ]
  },
  {
   "cell_type": "markdown",
   "id": "138faa92",
   "metadata": {},
   "source": [
    "### c) randint(): integers from range [a, b)"
   ]
  },
  {
   "cell_type": "code",
   "execution_count": 33,
   "id": "929d4f99",
   "metadata": {},
   "outputs": [
    {
     "data": {
      "text/plain": [
       "array([18, 91, 20, 21, 20, 48, 45, 21, 85, 95])"
      ]
     },
     "execution_count": 33,
     "metadata": {},
     "output_type": "execute_result"
    }
   ],
   "source": [
    "# 10 numbers between 1 and 100 (drawn with replacement)\n",
    "np.random.randint(1,100,10)"
   ]
  },
  {
   "cell_type": "markdown",
   "id": "e4269984",
   "metadata": {},
   "source": [
    "### d) normal(): random numbers from N(mu, sigmaˆ2)-distrubtion"
   ]
  },
  {
   "cell_type": "code",
   "execution_count": 34,
   "id": "1b904f49",
   "metadata": {},
   "outputs": [
    {
     "data": {
      "text/plain": [
       "array([-1.01045973,  3.33899999,  1.75641276,  3.42974568,  1.66340832])"
      ]
     },
     "execution_count": 34,
     "metadata": {},
     "output_type": "execute_result"
    }
   ],
   "source": [
    "np.random.normal(2,2,5)"
   ]
  },
  {
   "cell_type": "markdown",
   "id": "c3200ef5",
   "metadata": {},
   "source": [
    "### e) poisson(): random numbers from a Poisson-distrubtion"
   ]
  },
  {
   "cell_type": "code",
   "execution_count": 35,
   "id": "45376ba3",
   "metadata": {},
   "outputs": [
    {
     "data": {
      "text/plain": [
       "array([8, 6, 2, 4, 4, 7, 6, 6, 5, 5])"
      ]
     },
     "execution_count": 35,
     "metadata": {},
     "output_type": "execute_result"
    }
   ],
   "source": [
    "np.random.poisson(5,10)"
   ]
  },
  {
   "cell_type": "markdown",
   "id": "fc3e8716",
   "metadata": {},
   "source": [
    "### f) shuffle(): random rearrangement of a sequence."
   ]
  },
  {
   "cell_type": "code",
   "execution_count": 36,
   "id": "ef19b01b",
   "metadata": {},
   "outputs": [
    {
     "name": "stdout",
     "output_type": "stream",
     "text": [
      "[0 1 2 3 4 5 6 7 8 9]\n"
     ]
    }
   ],
   "source": [
    "# It works 'in-place', i.e., the result need not be saved again\n",
    "arr = np.arange(10)\n",
    "print(arr)"
   ]
  },
  {
   "cell_type": "code",
   "execution_count": 37,
   "id": "b6090a1f",
   "metadata": {},
   "outputs": [
    {
     "name": "stdout",
     "output_type": "stream",
     "text": [
      "[4 2 0 8 6 7 1 9 3 5]\n"
     ]
    }
   ],
   "source": [
    "np.random.shuffle(arr)\n",
    "print(arr)"
   ]
  },
  {
   "cell_type": "code",
   "execution_count": 38,
   "id": "597e9177",
   "metadata": {},
   "outputs": [
    {
     "data": {
      "text/plain": [
       "array([0, 1, 2, 3, 4, 5, 6, 7, 8, 9])"
      ]
     },
     "execution_count": 38,
     "metadata": {},
     "output_type": "execute_result"
    }
   ],
   "source": [
    "# Attention: the sorting is NOT done 'in-place'.\n",
    "np.sort(arr)"
   ]
  },
  {
   "cell_type": "code",
   "execution_count": 39,
   "id": "825e6eb9",
   "metadata": {},
   "outputs": [
    {
     "name": "stdout",
     "output_type": "stream",
     "text": [
      "[4 2 0 8 6 7 1 9 3 5]\n"
     ]
    }
   ],
   "source": [
    "print(arr)"
   ]
  },
  {
   "cell_type": "markdown",
   "id": "da5e21c1",
   "metadata": {},
   "source": [
    "### g) seed (): set a seed for generating random numbers"
   ]
  },
  {
   "cell_type": "code",
   "execution_count": 41,
   "id": "141bfc2d",
   "metadata": {},
   "outputs": [
    {
     "name": "stdout",
     "output_type": "stream",
     "text": [
      "[-1.64461804]\n"
     ]
    }
   ],
   "source": [
    "print(np.random.randn(1))"
   ]
  },
  {
   "cell_type": "code",
   "execution_count": 42,
   "id": "124ccbd3",
   "metadata": {},
   "outputs": [
    {
     "name": "stdout",
     "output_type": "stream",
     "text": [
      "[-0.30679084]\n"
     ]
    }
   ],
   "source": [
    "print(np.random.randn(1))"
   ]
  },
  {
   "cell_type": "code",
   "execution_count": 43,
   "id": "7ad5e9b3",
   "metadata": {},
   "outputs": [
    {
     "name": "stdout",
     "output_type": "stream",
     "text": [
      "[0.505581]\n"
     ]
    }
   ],
   "source": [
    "np.random.seed(1123)\n",
    "print(np.random.randn(1))"
   ]
  },
  {
   "cell_type": "code",
   "execution_count": 44,
   "id": "a367a9a7",
   "metadata": {},
   "outputs": [
    {
     "name": "stdout",
     "output_type": "stream",
     "text": [
      "[0.505581]\n"
     ]
    }
   ],
   "source": [
    "np.random.seed(1123)\n",
    "print(np.random.randn(1))"
   ]
  },
  {
   "cell_type": "markdown",
   "id": "739165aa",
   "metadata": {},
   "source": [
    "⇒ Documentation on numpy.random:\n",
    "https://docs.scipy.org/doc/numpy-1.14.0/reference/routines.random.html"
   ]
  },
  {
   "cell_type": "markdown",
   "id": "edfc5646",
   "metadata": {},
   "source": [
    "### 3.3.3 Attributes & Methods"
   ]
  },
  {
   "cell_type": "markdown",
   "id": "cd0dd240",
   "metadata": {},
   "source": [
    "### a) reshape(): create an array with similar values,"
   ]
  },
  {
   "cell_type": "code",
   "execution_count": 45,
   "id": "03a223de",
   "metadata": {},
   "outputs": [
    {
     "data": {
      "text/plain": [
       "array([0, 1, 2, 3, 4, 5, 6, 7, 8])"
      ]
     },
     "execution_count": 45,
     "metadata": {},
     "output_type": "execute_result"
    }
   ],
   "source": [
    "# but in a new form\n",
    "arr = np.arange(9)\n",
    "arr"
   ]
  },
  {
   "cell_type": "code",
   "execution_count": 46,
   "id": "f88cc4c3",
   "metadata": {},
   "outputs": [
    {
     "data": {
      "text/plain": [
       "array([[0, 1, 2],\n",
       "       [3, 4, 5],\n",
       "       [6, 7, 8]])"
      ]
     },
     "execution_count": 46,
     "metadata": {},
     "output_type": "execute_result"
    }
   ],
   "source": [
    "arr.reshape(3,3)"
   ]
  },
  {
   "cell_type": "code",
   "execution_count": 47,
   "id": "14194603",
   "metadata": {},
   "outputs": [
    {
     "ename": "ValueError",
     "evalue": "cannot reshape array of size 9 into shape (3,4)",
     "output_type": "error",
     "traceback": [
      "\u001b[1;31m---------------------------------------------------------------------------\u001b[0m",
      "\u001b[1;31mValueError\u001b[0m                                Traceback (most recent call last)",
      "Cell \u001b[1;32mIn[47], line 3\u001b[0m\n\u001b[0;32m      1\u001b[0m \u001b[38;5;66;03m# The new dimension must match the original number of values\u001b[39;00m\n\u001b[0;32m      2\u001b[0m \u001b[38;5;66;03m# (unlike R)\u001b[39;00m\n\u001b[1;32m----> 3\u001b[0m \u001b[43marr\u001b[49m\u001b[38;5;241;43m.\u001b[39;49m\u001b[43mreshape\u001b[49m\u001b[43m(\u001b[49m\u001b[38;5;241;43m3\u001b[39;49m\u001b[43m,\u001b[49m\u001b[38;5;241;43m4\u001b[39;49m\u001b[43m)\u001b[49m\n",
      "\u001b[1;31mValueError\u001b[0m: cannot reshape array of size 9 into shape (3,4)"
     ]
    }
   ],
   "source": [
    "# The new dimension must match the original number of values\n",
    "# (unlike R)\n",
    "arr.reshape(3,4)"
   ]
  },
  {
   "cell_type": "markdown",
   "id": "47ea5d58",
   "metadata": {},
   "source": [
    "### b) max(), min(), argmax(), argmin()\n"
   ]
  },
  {
   "cell_type": "code",
   "execution_count": 48,
   "id": "b3c293a7",
   "metadata": {},
   "outputs": [
    {
     "data": {
      "text/plain": [
       "array([28,  0, 26, 24, 14, 19, 37, 15, 21, 34])"
      ]
     },
     "execution_count": 48,
     "metadata": {},
     "output_type": "execute_result"
    }
   ],
   "source": [
    "# 10 integers between 0 and 50\n",
    "ranarr = np.random.randint(0,51,10)\n",
    "ranarr"
   ]
  },
  {
   "cell_type": "code",
   "execution_count": 49,
   "id": "7d90d703",
   "metadata": {},
   "outputs": [
    {
     "data": {
      "text/plain": [
       "37"
      ]
     },
     "execution_count": 49,
     "metadata": {},
     "output_type": "execute_result"
    }
   ],
   "source": [
    "ranarr.max()"
   ]
  },
  {
   "cell_type": "code",
   "execution_count": 50,
   "id": "7cf86c10",
   "metadata": {},
   "outputs": [
    {
     "data": {
      "text/plain": [
       "6"
      ]
     },
     "execution_count": 50,
     "metadata": {},
     "output_type": "execute_result"
    }
   ],
   "source": [
    "ranarr.argmax()"
   ]
  },
  {
   "cell_type": "code",
   "execution_count": 51,
   "id": "8fb6cd21",
   "metadata": {},
   "outputs": [
    {
     "data": {
      "text/plain": [
       "0"
      ]
     },
     "execution_count": 51,
     "metadata": {},
     "output_type": "execute_result"
    }
   ],
   "source": [
    "ranarr.min()"
   ]
  },
  {
   "cell_type": "code",
   "execution_count": 52,
   "id": "c2bebeb3",
   "metadata": {},
   "outputs": [
    {
     "data": {
      "text/plain": [
       "1"
      ]
     },
     "execution_count": 52,
     "metadata": {},
     "output_type": "execute_result"
    }
   ],
   "source": [
    "ranarr.argmin()"
   ]
  },
  {
   "cell_type": "markdown",
   "id": "6f9491ea",
   "metadata": {},
   "source": [
    "### c) shape(): returns the array dimension. An attribute, not a method.### c) "
   ]
  },
  {
   "cell_type": "code",
   "execution_count": 53,
   "id": "e4ff2e02",
   "metadata": {},
   "outputs": [
    {
     "data": {
      "text/plain": [
       "(9,)"
      ]
     },
     "execution_count": 53,
     "metadata": {},
     "output_type": "execute_result"
    }
   ],
   "source": [
    "# => therefore without brackets\n",
    "arr.shape"
   ]
  },
  {
   "cell_type": "code",
   "execution_count": 54,
   "id": "cb0b18e3",
   "metadata": {},
   "outputs": [
    {
     "data": {
      "text/plain": [
       "9"
      ]
     },
     "execution_count": 54,
     "metadata": {},
     "output_type": "execute_result"
    }
   ],
   "source": [
    "# Alternatively, the built-in function len() can be used\n",
    "len(arr)"
   ]
  },
  {
   "cell_type": "markdown",
   "id": "1a7b0bd5",
   "metadata": {},
   "source": [
    "The comma between 9 and ) seems unusual at first. Reason:\n",
    "https://stackoverflow.com/questions/46134891/why-an-extra-comma-in-the-shape-of-a-single-index-numpy-array"
   ]
  },
  {
   "cell_type": "markdown",
   "id": "f7f79f22",
   "metadata": {},
   "source": [
    "### d) The shape after reshape() :"
   ]
  },
  {
   "cell_type": "code",
   "execution_count": 55,
   "id": "dde8b61c",
   "metadata": {},
   "outputs": [
    {
     "data": {
      "text/plain": [
       "array([[0, 1, 2, 3, 4, 5, 6, 7, 8]])"
      ]
     },
     "execution_count": 55,
     "metadata": {},
     "output_type": "execute_result"
    }
   ],
   "source": [
    "# it is now a matrix with one row\n",
    "# (recognizable by the double square brackets)\n",
    "arr.reshape(1,9)"
   ]
  },
  {
   "cell_type": "code",
   "execution_count": 56,
   "id": "dcdc2f8b",
   "metadata": {},
   "outputs": [
    {
     "data": {
      "text/plain": [
       "(1, 9)"
      ]
     },
     "execution_count": 56,
     "metadata": {},
     "output_type": "execute_result"
    }
   ],
   "source": [
    "arr.reshape(1,9).shape"
   ]
  },
  {
   "cell_type": "code",
   "execution_count": 57,
   "id": "4294c441",
   "metadata": {},
   "outputs": [
    {
     "data": {
      "text/plain": [
       "(9, 1)"
      ]
     },
     "execution_count": 57,
     "metadata": {},
     "output_type": "execute_result"
    }
   ],
   "source": [
    "# A matrix with one column:\n",
    "arr.reshape(9,1).shape"
   ]
  },
  {
   "cell_type": "code",
   "execution_count": 58,
   "id": "a876a9ec",
   "metadata": {},
   "outputs": [
    {
     "data": {
      "text/plain": [
       "array([[0],\n",
       "       [1],\n",
       "       [2],\n",
       "       [3],\n",
       "       [4],\n",
       "       [5],\n",
       "       [6],\n",
       "       [7],\n",
       "       [8]])"
      ]
     },
     "execution_count": 58,
     "metadata": {},
     "output_type": "execute_result"
    }
   ],
   "source": [
    "arr.reshape(9,1)"
   ]
  },
  {
   "cell_type": "markdown",
   "id": "1f38b7f7",
   "metadata": {},
   "source": [
    "### e) dtype: returns the data type of an array's values (attribute)\n"
   ]
  },
  {
   "cell_type": "code",
   "execution_count": 59,
   "id": "dbbdcd43",
   "metadata": {},
   "outputs": [
    {
     "data": {
      "text/plain": [
       "dtype('int32')"
      ]
     },
     "execution_count": 59,
     "metadata": {},
     "output_type": "execute_result"
    }
   ],
   "source": [
    "arr.dtype"
   ]
  },
  {
   "cell_type": "markdown",
   "id": "45da0266",
   "metadata": {},
   "source": [
    "### f) type(): returns the type of a given input"
   ]
  },
  {
   "cell_type": "code",
   "execution_count": 60,
   "id": "505315ab",
   "metadata": {},
   "outputs": [
    {
     "data": {
      "text/plain": [
       "numpy.ndarray"
      ]
     },
     "execution_count": 60,
     "metadata": {},
     "output_type": "execute_result"
    }
   ],
   "source": [
    "# (not specific to NumPy)\n",
    "type(arr)"
   ]
  },
  {
   "cell_type": "markdown",
   "id": "50b3060e",
   "metadata": {},
   "source": [
    "### 3.3.4 Indexing and Slicing"
   ]
  },
  {
   "cell_type": "code",
   "execution_count": 61,
   "id": "8272b2af",
   "metadata": {},
   "outputs": [
    {
     "data": {
      "text/plain": [
       "array([ 0,  1,  2,  3,  4,  5,  6,  7,  8,  9, 10])"
      ]
     },
     "execution_count": 61,
     "metadata": {},
     "output_type": "execute_result"
    }
   ],
   "source": [
    "# Numbers between 0 and 10\n",
    "arr = np.arange(0,11)\n",
    "arr"
   ]
  },
  {
   "cell_type": "markdown",
   "id": "988b65af",
   "metadata": {},
   "source": [
    "### a) []-notation: very similar to Python lists"
   ]
  },
  {
   "cell_type": "code",
   "execution_count": 62,
   "id": "6148fad0",
   "metadata": {},
   "outputs": [
    {
     "data": {
      "text/plain": [
       "8"
      ]
     },
     "execution_count": 62,
     "metadata": {},
     "output_type": "execute_result"
    }
   ],
   "source": [
    "# selecting a single value\n",
    "arr[8]"
   ]
  },
  {
   "cell_type": "code",
   "execution_count": 63,
   "id": "1a619054",
   "metadata": {},
   "outputs": [
    {
     "data": {
      "text/plain": [
       "array([1, 2, 3, 4])"
      ]
     },
     "execution_count": 63,
     "metadata": {},
     "output_type": "execute_result"
    }
   ],
   "source": [
    "# selecting multiple values\n",
    "arr[1:5]"
   ]
  },
  {
   "cell_type": "markdown",
   "id": "ef48c5e2",
   "metadata": {},
   "source": [
    "### b) Broadcasting"
   ]
  },
  {
   "cell_type": "markdown",
   "id": "4310cefc",
   "metadata": {},
   "source": [
    "In NumPy arrays, multiple elements can be assigned the same new value; this is not possible for Python lists:\n"
   ]
  },
  {
   "cell_type": "code",
   "execution_count": 64,
   "id": "3b133141",
   "metadata": {},
   "outputs": [
    {
     "data": {
      "text/plain": [
       "array([100, 100, 100, 100, 100,   5,   6,   7,   8,   9,  10])"
      ]
     },
     "execution_count": 64,
     "metadata": {},
     "output_type": "execute_result"
    }
   ],
   "source": [
    "# Set the first five values to 100...\n",
    "arr[0:5] = 100\n",
    "arr"
   ]
  },
  {
   "cell_type": "code",
   "execution_count": 65,
   "id": "1d69f0c4",
   "metadata": {},
   "outputs": [
    {
     "ename": "NameError",
     "evalue": "name 'plist' is not defined",
     "output_type": "error",
     "traceback": [
      "\u001b[1;31m---------------------------------------------------------------------------\u001b[0m",
      "\u001b[1;31mNameError\u001b[0m                                 Traceback (most recent call last)",
      "Cell \u001b[1;32mIn[65], line 2\u001b[0m\n\u001b[0;32m      1\u001b[0m \u001b[38;5;66;03m# ... does not work with lists\u001b[39;00m\n\u001b[1;32m----> 2\u001b[0m \u001b[43mplist\u001b[49m[\u001b[38;5;241m0\u001b[39m:\u001b[38;5;241m5\u001b[39m] \u001b[38;5;241m=\u001b[39m \u001b[38;5;241m100\u001b[39m\n",
      "\u001b[1;31mNameError\u001b[0m: name 'plist' is not defined"
     ]
    }
   ],
   "source": [
    "# ... does not work with lists\n",
    "plist[0:5] = 100"
   ]
  },
  {
   "cell_type": "markdown",
   "id": "d3ee7afa",
   "metadata": {},
   "source": [
    "### c) Slicing"
   ]
  },
  {
   "cell_type": "markdown",
   "id": "97977085",
   "metadata": {},
   "source": [
    "Python behaves a bit strange here:"
   ]
  },
  {
   "cell_type": "code",
   "execution_count": 71,
   "id": "8b10f560",
   "metadata": {},
   "outputs": [
    {
     "data": {
      "text/plain": [
       "array([99, 99, 99, 99, 99, 99,  6,  7,  8,  9, 10])"
      ]
     },
     "execution_count": 71,
     "metadata": {},
     "output_type": "execute_result"
    }
   ],
   "source": [
    "# Reset the array to its original state:\n",
    "arr = np.arange(0,11)\n",
    "\n",
    "# Select the first 6 values:\n",
    "slice_of_arr = arr[0:6]\n",
    "\n",
    "# Change something in the slice, e.g., set everything to 99:\n",
    "slice_of_arr[:] = 99\n",
    "\n",
    "# Now something unexpected happens:\n",
    "arr"
   ]
  },
  {
   "cell_type": "markdown",
   "id": "5e72e11e",
   "metadata": {},
   "source": [
    "### d) copy(): a real copy operation (\"Deep-Copy\")\n"
   ]
  },
  {
   "cell_type": "code",
   "execution_count": 72,
   "id": "9691aa52",
   "metadata": {},
   "outputs": [
    {
     "data": {
      "text/plain": [
       "(array([99, 99, 99, 99, 99, 99,  6,  7,  8,  9, 10]),\n",
       " array([-55, -55, -55, -55, -55, -55, -55, -55, -55, -55, -55]))"
      ]
     },
     "execution_count": 72,
     "metadata": {},
     "output_type": "execute_result"
    }
   ],
   "source": [
    "arr_copy = arr.copy()\n",
    "arr[:] = -55\n",
    "arr_copy, arr"
   ]
  },
  {
   "attachments": {
    "Screenshot_copy.png": {
     "image/png": "[encoded data removed]"
    }
   },
   "cell_type": "markdown",
   "id": "a7d5fd26",
   "metadata": {},
   "source": [
    "![Screenshot_copy.png](attachment:Screenshot_copy.png)"
   ]
  },
  {
   "cell_type": "markdown",
   "id": "b8e8d9e9",
   "metadata": {},
   "source": [
    "### e) Indexing in 2D arrays, i.e. matrices"
   ]
  },
  {
   "cell_type": "code",
   "execution_count": 73,
   "id": "f50861d1",
   "metadata": {},
   "outputs": [
    {
     "data": {
      "text/plain": [
       "array([[ 5, 10, 15],\n",
       "       [20, 25, 30],\n",
       "       [35, 40, 45]])"
      ]
     },
     "execution_count": 73,
     "metadata": {},
     "output_type": "execute_result"
    }
   ],
   "source": [
    "# Syntax: arr_ds[row_indices, col_indices]\n",
    "arr_2d = np.array(([5,10,15],[20,25,30],[35,40,45]))\n",
    "arr_2d"
   ]
  },
  {
   "cell_type": "code",
   "execution_count": 74,
   "id": "adfc1bcd",
   "metadata": {},
   "outputs": [
    {
     "data": {
      "text/plain": [
       "array([20, 25, 30])"
      ]
     },
     "execution_count": 74,
     "metadata": {},
     "output_type": "execute_result"
    }
   ],
   "source": [
    "# Second row\n",
    "arr_2d[1,:] # Or, arr_2d[1]"
   ]
  },
  {
   "cell_type": "code",
   "execution_count": 75,
   "id": "9200029d",
   "metadata": {},
   "outputs": [
    {
     "data": {
      "text/plain": [
       "20"
      ]
     },
     "execution_count": 75,
     "metadata": {},
     "output_type": "execute_result"
    }
   ],
   "source": [
    "# Element 2-1\n",
    "arr_2d[1,0]"
   ]
  },
  {
   "cell_type": "code",
   "execution_count": 76,
   "id": "abd218d6",
   "metadata": {},
   "outputs": [
    {
     "data": {
      "text/plain": [
       "array([[10, 15],\n",
       "       [25, 30]])"
      ]
     },
     "execution_count": 76,
     "metadata": {},
     "output_type": "execute_result"
    }
   ],
   "source": [
    "# 2x2-slice from the top right\n",
    "arr_2d[:2,1:]"
   ]
  },
  {
   "cell_type": "markdown",
   "id": "2fb5d807",
   "metadata": {},
   "source": [
    "### f) 'Fancy Indexing': rows and columns can be selected in arbitrary order (similar to R)."
   ]
  },
  {
   "cell_type": "code",
   "execution_count": 81,
   "id": "e1b6eff7",
   "metadata": {},
   "outputs": [
    {
     "data": {
      "text/plain": [
       "array([[0., 0., 0., 0., 0.],\n",
       "       [1., 1., 1., 1., 1.],\n",
       "       [2., 2., 2., 2., 2.],\n",
       "       [3., 3., 3., 3., 3.],\n",
       "       [4., 4., 4., 4., 4.]])"
      ]
     },
     "execution_count": 81,
     "metadata": {},
     "output_type": "execute_result"
    }
   ],
   "source": [
    "# Create a new matrix and fill it with numbers\n",
    "arr2d = np.zeros((5,5))\n",
    "arr_length = arr2d.shape[1] # number of columns\n",
    "# Fill the array\n",
    "for i in range(arr_length):\n",
    "    arr2d[i] = i\n",
    "arr2d"
   ]
  },
  {
   "cell_type": "code",
   "execution_count": 82,
   "id": "b84ab64f",
   "metadata": {},
   "outputs": [
    {
     "data": {
      "text/plain": [
       "array([[3., 3., 3., 3., 3.],\n",
       "       [4., 4., 4., 4., 4.],\n",
       "       [2., 2., 2., 2., 2.],\n",
       "       [1., 1., 1., 1., 1.]])"
      ]
     },
     "execution_count": 82,
     "metadata": {},
     "output_type": "execute_result"
    }
   ],
   "source": [
    "# You can now index arbitrarily:\n",
    "arr2d[[3,4,2,1],:]"
   ]
  },
  {
   "cell_type": "markdown",
   "id": "00e6c449",
   "metadata": {},
   "source": [
    "### g) Select elements by their properties rather than their indices"
   ]
  },
  {
   "cell_type": "code",
   "execution_count": 83,
   "id": "de999a6d",
   "metadata": {},
   "outputs": [
    {
     "data": {
      "text/plain": [
       "array([False, False, False, False,  True,  True,  True])"
      ]
     },
     "execution_count": 83,
     "metadata": {},
     "output_type": "execute_result"
    }
   ],
   "source": [
    "# Numbers between 1 and 7\n",
    "arr = np.arange(1,8)\n",
    "# Which elements are larger than 4?\n",
    "arr > 4"
   ]
  },
  {
   "cell_type": "code",
   "execution_count": 85,
   "id": "24d8925d",
   "metadata": {},
   "outputs": [
    {
     "ename": "TypeError",
     "evalue": "'>' not supported between instances of 'list' and 'int'",
     "output_type": "error",
     "traceback": [
      "\u001b[1;31m---------------------------------------------------------------------------\u001b[0m",
      "\u001b[1;31mTypeError\u001b[0m                                 Traceback (most recent call last)",
      "Cell \u001b[1;32mIn[85], line 3\u001b[0m\n\u001b[0;32m      1\u001b[0m \u001b[38;5;66;03m# For comparison: does not work with Python lists!\u001b[39;00m\n\u001b[0;32m      2\u001b[0m plist \u001b[38;5;241m=\u001b[39m \u001b[38;5;28mlist\u001b[39m(\u001b[38;5;28mrange\u001b[39m(\u001b[38;5;241m1\u001b[39m,\u001b[38;5;241m11\u001b[39m))\n\u001b[1;32m----> 3\u001b[0m \u001b[43mplist\u001b[49m\u001b[43m \u001b[49m\u001b[38;5;241;43m>\u001b[39;49m\u001b[43m \u001b[49m\u001b[38;5;241;43m4\u001b[39;49m\n",
      "\u001b[1;31mTypeError\u001b[0m: '>' not supported between instances of 'list' and 'int'"
     ]
    }
   ],
   "source": [
    "# For comparison: does not work with Python lists!\n",
    "plist = list(range(1,11))\n",
    "plist > 4"
   ]
  },
  {
   "cell_type": "code",
   "execution_count": 84,
   "id": "3e72a3b9",
   "metadata": {},
   "outputs": [
    {
     "data": {
      "text/plain": [
       "array([5, 6, 7])"
      ]
     },
     "execution_count": 84,
     "metadata": {},
     "output_type": "execute_result"
    }
   ],
   "source": [
    "# Create a boolean vector\n",
    "bool_arr = arr>4\n",
    "# Select the elements that are greater than 4\n",
    "arr[bool_arr]"
   ]
  },
  {
   "cell_type": "code",
   "execution_count": 86,
   "id": "6c167ca1",
   "metadata": {},
   "outputs": [
    {
     "data": {
      "text/plain": [
       "array([5, 6, 7])"
      ]
     },
     "execution_count": 86,
     "metadata": {},
     "output_type": "execute_result"
    }
   ],
   "source": [
    "# Shorter version:\n",
    "arr[arr>4]"
   ]
  },
  {
   "cell_type": "markdown",
   "id": "a1696cb5",
   "metadata": {},
   "source": [
    "### 3.3.4 Arithmetic Operations"
   ]
  },
  {
   "cell_type": "markdown",
   "id": "931bc1c2",
   "metadata": {},
   "source": [
    "### a) Basic Arithmetic"
   ]
  },
  {
   "cell_type": "code",
   "execution_count": 91,
   "id": "48ae79a2",
   "metadata": {},
   "outputs": [
    {
     "data": {
      "text/plain": [
       "array([0, 1, 2, 3, 4, 5, 6, 7, 8, 9])"
      ]
     },
     "execution_count": 91,
     "metadata": {},
     "output_type": "execute_result"
    }
   ],
   "source": [
    "arr = np.arange(0, 10)\n",
    "arr"
   ]
  },
  {
   "cell_type": "code",
   "execution_count": 90,
   "id": "95b2f280",
   "metadata": {},
   "outputs": [
    {
     "data": {
      "text/plain": [
       "(array([ 0,  2,  4,  6,  8, 10, 12, 14, 16, 18]),\n",
       " array([ 0,  1,  4,  9, 16, 25, 36, 49, 64, 81]),\n",
       " array([0, 0, 0, 0, 0, 0, 0, 0, 0, 0]),\n",
       " array([ 3,  4,  5,  6,  7,  8,  9, 10, 11, 12]),\n",
       " array([ 0,  1,  4,  9, 16, 25, 36, 49, 64, 81], dtype=int32))"
      ]
     },
     "execution_count": 90,
     "metadata": {},
     "output_type": "execute_result"
    }
   ],
   "source": [
    "arr + arr, arr * arr, arr - arr, arr + 3, arr**2"
   ]
  },
  {
   "cell_type": "code",
   "execution_count": 92,
   "id": "526e3058",
   "metadata": {},
   "outputs": [
    {
     "name": "stderr",
     "output_type": "stream",
     "text": [
      "C:\\Users\\st_sc\\AppData\\Local\\Temp\\ipykernel_31824\\4279572098.py:3: RuntimeWarning: invalid value encountered in true_divide\n",
      "  div = arr/arr\n"
     ]
    },
    {
     "data": {
      "text/plain": [
       "array([nan,  1.,  1.,  1.,  1.,  1.,  1.,  1.,  1.,  1.])"
      ]
     },
     "execution_count": 92,
     "metadata": {},
     "output_type": "execute_result"
    }
   ],
   "source": [
    "# Division 0/0 does not result in an error but a warning.\n",
    "# It has been replaced by nan; more precisely by np.nan\n",
    "div = arr/arr\n",
    "div"
   ]
  },
  {
   "cell_type": "code",
   "execution_count": 94,
   "id": "f1363033",
   "metadata": {},
   "outputs": [
    {
     "name": "stderr",
     "output_type": "stream",
     "text": [
      "C:\\Users\\st_sc\\AppData\\Local\\Temp\\ipykernel_31824\\2135373031.py:3: RuntimeWarning: divide by zero encountered in true_divide\n",
      "  infi = 1/arr\n"
     ]
    },
    {
     "data": {
      "text/plain": [
       "array([       inf, 1.        , 0.5       , 0.33333333, 0.25      ,\n",
       "       0.2       , 0.16666667, 0.14285714, 0.125     , 0.11111111])"
      ]
     },
     "execution_count": 94,
     "metadata": {},
     "output_type": "execute_result"
    }
   ],
   "source": [
    "# Division 1/0 does not result in an error but a warning.\n",
    "# It has been replaced by infinity; more precisely by np.inf\n",
    "infi = 1/arr\n",
    "infi"
   ]
  },
  {
   "cell_type": "markdown",
   "id": "1d11b74a",
   "metadata": {},
   "source": [
    "### b) Functions for arrays"
   ]
  },
  {
   "cell_type": "markdown",
   "id": "7fd419f6",
   "metadata": {},
   "source": [
    "Standard functions can be applied directly to all (or some) elements of an array"
   ]
  },
  {
   "cell_type": "code",
   "execution_count": 95,
   "id": "6a929874",
   "metadata": {},
   "outputs": [
    {
     "data": {
      "text/plain": [
       "array([0.        , 1.        , 1.41421356, 1.73205081, 2.        ,\n",
       "       2.23606798, 2.44948974, 2.64575131, 2.82842712, 3.        ])"
      ]
     },
     "execution_count": 95,
     "metadata": {},
     "output_type": "execute_result"
    }
   ],
   "source": [
    "# Square root\n",
    "np.sqrt(arr)"
   ]
  },
  {
   "cell_type": "code",
   "execution_count": 97,
   "id": "2a6ba6e0",
   "metadata": {},
   "outputs": [
    {
     "data": {
      "text/plain": [
       "array([1.00000000e+00, 2.71828183e+00, 7.38905610e+00, 2.00855369e+01,\n",
       "       5.45981500e+01, 1.48413159e+02, 4.03428793e+02, 1.09663316e+03,\n",
       "       2.98095799e+03, 8.10308393e+03])"
      ]
     },
     "execution_count": 97,
     "metadata": {},
     "output_type": "execute_result"
    }
   ],
   "source": [
    "# Exponential function\n",
    "np.exp(arr)"
   ]
  },
  {
   "cell_type": "code",
   "execution_count": 99,
   "id": "68e737b6",
   "metadata": {},
   "outputs": [
    {
     "data": {
      "text/plain": [
       "9"
      ]
     },
     "execution_count": 99,
     "metadata": {},
     "output_type": "execute_result"
    }
   ],
   "source": [
    "# Maximum\n",
    "np.max(arr) # or arr.max()"
   ]
  },
  {
   "cell_type": "code",
   "execution_count": 100,
   "id": "fdade8da",
   "metadata": {},
   "outputs": [
    {
     "data": {
      "text/plain": [
       "array([ 0.        ,  0.84147098,  0.90929743,  0.14112001, -0.7568025 ,\n",
       "       -0.95892427, -0.2794155 ,  0.6569866 ,  0.98935825,  0.41211849])"
      ]
     },
     "execution_count": 100,
     "metadata": {},
     "output_type": "execute_result"
    }
   ],
   "source": [
    "# Sine\n",
    "np.sin(arr)"
   ]
  },
  {
   "cell_type": "code",
   "execution_count": 101,
   "id": "72fad8db",
   "metadata": {},
   "outputs": [
    {
     "name": "stderr",
     "output_type": "stream",
     "text": [
      "C:\\Users\\st_sc\\AppData\\Local\\Temp\\ipykernel_31824\\1760526392.py:2: RuntimeWarning: divide by zero encountered in log\n",
      "  np.log(arr)\n"
     ]
    },
    {
     "data": {
      "text/plain": [
       "array([      -inf, 0.        , 0.69314718, 1.09861229, 1.38629436,\n",
       "       1.60943791, 1.79175947, 1.94591015, 2.07944154, 2.19722458])"
      ]
     },
     "execution_count": 101,
     "metadata": {},
     "output_type": "execute_result"
    }
   ],
   "source": [
    "# Logarithm\n",
    "np.log(arr)"
   ]
  },
  {
   "cell_type": "code",
   "execution_count": 102,
   "id": "1b1abc17",
   "metadata": {},
   "outputs": [
    {
     "ename": "TypeError",
     "evalue": "must be real number, not list",
     "output_type": "error",
     "traceback": [
      "\u001b[1;31m---------------------------------------------------------------------------\u001b[0m",
      "\u001b[1;31mTypeError\u001b[0m                                 Traceback (most recent call last)",
      "Cell \u001b[1;32mIn[102], line 3\u001b[0m\n\u001b[0;32m      1\u001b[0m \u001b[38;5;66;03m# For comparison: the math package methods don't work on Python lists\u001b[39;00m\n\u001b[0;32m      2\u001b[0m \u001b[38;5;28;01mimport\u001b[39;00m \u001b[38;5;21;01mmath\u001b[39;00m\n\u001b[1;32m----> 3\u001b[0m \u001b[43mmath\u001b[49m\u001b[38;5;241;43m.\u001b[39;49m\u001b[43msqrt\u001b[49m\u001b[43m(\u001b[49m\u001b[43mplist\u001b[49m\u001b[43m)\u001b[49m\n",
      "\u001b[1;31mTypeError\u001b[0m: must be real number, not list"
     ]
    }
   ],
   "source": [
    "# For comparison: the math package methods don't work on Python lists\n",
    "import math\n",
    "math.sqrt(plist)"
   ]
  },
  {
   "cell_type": "markdown",
   "id": "12768742",
   "metadata": {},
   "source": [
    "⇒ see also https://docs.scipy.org/doc/numpy/reference/ufuncs.html"
   ]
  }
 ],
 "metadata": {
  "kernelspec": {
   "display_name": "python-i2ml",
   "language": "python",
   "name": "python-i2ml"
  },
  "language_info": {
   "codemirror_mode": {
    "name": "ipython",
    "version": 3
   },
   "file_extension": ".py",
   "mimetype": "text/x-python",
   "name": "python",
   "nbconvert_exporter": "python",
   "pygments_lexer": "ipython3",
   "version": "3.10.12"
  }
 },
 "nbformat": 4,
 "nbformat_minor": 5
}
