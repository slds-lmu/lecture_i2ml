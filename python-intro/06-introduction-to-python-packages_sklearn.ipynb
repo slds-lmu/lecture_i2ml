{
 "cells": [
  {
   "cell_type": "markdown",
   "id": "807c06b5",
   "metadata": {},
   "source": [
    "***\n",
    "**Introduction to Machine Learning** <br>\n",
    "__[https://slds-lmu.github.io/i2ml/](https://slds-lmu.github.io/i2ml/)__\n",
    "***"
   ]
  },
  {
   "cell_type": "markdown",
   "id": "98a89ecc",
   "metadata": {},
   "source": [
    "# 3. Packages"
   ]
  },
  {
   "cell_type": "markdown",
   "id": "11f4377a",
   "metadata": {},
   "source": [
    "## 3.5 sklearn Package"
   ]
  },
  {
   "cell_type": "markdown",
   "id": "8ddbd14c",
   "metadata": {},
   "source": [
    "**Scikit-learn** is a widely-used open-source machine learning library in Python, known for its simplicity, efficiency, and accessibility. <br>\n",
    "It provides a range of supervised and unsupervised learning algorithms, including classification, regression, clustering, and dimensionality reduction. <br>\n",
    "The library also offers tools for model selection, preprocessing, and evaluation. Its consistent and easy-to-use API makes it a popular choice for both beginners and experienced practitioners in data science and machine learning. <br>\n",
    "Scikit-learn's integration with other Python libraries like **NumPy** and **Pandas** enhances its functionality and ease of use in data manipulation and analysis."
   ]
  },
  {
   "cell_type": "markdown",
   "id": "e2fe096c",
   "metadata": {},
   "source": [
    "Go to thier website for documentation, version information and useful code examples: https://scikit-learn.org/stable/index.html"
   ]
  },
  {
   "cell_type": "markdown",
   "id": "eba68266",
   "metadata": {},
   "source": [
    "### 3.5.1 Statistics vs. Machine Learning"
   ]
  },
  {
   "cell_type": "markdown",
   "id": "6ba0b6ba",
   "metadata": {},
   "source": [
    "### Statistical Approach\n",
    "- **Objective**: Focuses on understanding relationships and making inferences using hypothesis testing and confidence intervals.\n",
    "- **Methodology**: Relies on models based on data distribution assumptions.\n",
    "- **Python Libraries**: Typically implemented with `statsmodels` for statistical modeling and analysis.\n",
    "\n",
    "### Machine Learning Approach\n",
    "- **Objective**: Prioritizes making accurate predictions on new data.\n",
    "- **Methodology**: Constructs algorithms for learning from data without needing explicit data distribution assumptions.\n",
    "- **Python Libraries**: Commonly uses `scikit-learn` for a wide range of predictive modeling techniques and tools."
   ]
  },
  {
   "cell_type": "markdown",
   "id": "439a99e6",
   "metadata": {},
   "source": [
    "### 3.5.2 Install and import scikit-learn"
   ]
  },
  {
   "cell_type": "code",
   "execution_count": null,
   "id": "84e9794b",
   "metadata": {},
   "outputs": [],
   "source": [
    "# in your terminal you can install scikit-learn to your virtual environment (with a specifc version)\n",
    "pip install scikit-learn==1.1.3\n",
    "# or\n",
    "conda install scikit-learn==1.1.3"
   ]
  },
  {
   "cell_type": "markdown",
   "id": "d7518169",
   "metadata": {},
   "source": [
    "It is good practice to sick either with pip or conda for one environment"
   ]
  },
  {
   "cell_type": "code",
   "execution_count": 1,
   "id": "b009d3d3",
   "metadata": {},
   "outputs": [],
   "source": [
    "## import the scikit-learn package in your code (notice the different name!)\n",
    "import sklearn"
   ]
  },
  {
   "cell_type": "markdown",
   "id": "e20a1e2b",
   "metadata": {},
   "source": [
    "### Machine Learning Algorithims"
   ]
  },
  {
   "cell_type": "markdown",
   "id": "0ece0393",
   "metadata": {},
   "source": [
    "This notebook will cover every step of the following algorithms:\n",
    "* Regression (OLS)\n",
    "* KNN Classification\n",
    "* K-Means Clustering"
   ]
  },
  {
   "cell_type": "markdown",
   "id": "2b6c191e",
   "metadata": {},
   "source": [
    "## Load the data\n",
    "\n",
    "We are uing the penguin.csv data set which contains information about 3 penguin species. You can find the dataset on kaggle at [Kaggle - Palmer Archipelago (Antarctica) penguin data](https://www.kaggle.com/datasets/parulpandey/palmer-archipelago-antarctica-penguin-data?resource=download).\n",
    "\n",
    "Once you downloaded the data to your local computer you can start investigating it."
   ]
  },
  {
   "cell_type": "code",
   "execution_count": 148,
   "id": "092c6351",
   "metadata": {},
   "outputs": [],
   "source": [
    "import warnings\n",
    "warnings.filterwarnings('ignore')\n",
    "\n",
    "# packages we know and love\n",
    "import pandas as pd\n",
    "import numpy as np\n",
    "import matplotlib.pyplot as plt\n",
    "\n",
    "# SciKit Learn packages\n",
    "from sklearn.model_selection import train_test_split # for splitting data\n",
    "from sklearn.preprocessing import StandardScaler     # feature scaling\n",
    "from sklearn import metrics                          # for evaluation metrics\n",
    "\n",
    "from sklearn.linear_model import LinearRegression    # linear regression\n",
    "from sklearn.neighbors import KNeighborsClassifier   # knn\n",
    "from sklearn.cluster import KMeans                   # kmeans"
   ]
  },
  {
   "cell_type": "code",
   "execution_count": 91,
   "id": "11fb220a",
   "metadata": {},
   "outputs": [],
   "source": [
    "penguins = pd.read_csv('../exercises/data/penguins_size.csv')"
   ]
  },
  {
   "cell_type": "code",
   "execution_count": 92,
   "id": "fd90bcaf",
   "metadata": {},
   "outputs": [
    {
     "data": {
      "text/html": [
       "<div>\n",
       "<style scoped>\n",
       "    .dataframe tbody tr th:only-of-type {\n",
       "        vertical-align: middle;\n",
       "    }\n",
       "\n",
       "    .dataframe tbody tr th {\n",
       "        vertical-align: top;\n",
       "    }\n",
       "\n",
       "    .dataframe thead th {\n",
       "        text-align: right;\n",
       "    }\n",
       "</style>\n",
       "<table border=\"1\" class=\"dataframe\">\n",
       "  <thead>\n",
       "    <tr style=\"text-align: right;\">\n",
       "      <th></th>\n",
       "      <th>species</th>\n",
       "      <th>island</th>\n",
       "      <th>culmen_length_mm</th>\n",
       "      <th>culmen_depth_mm</th>\n",
       "      <th>flipper_length_mm</th>\n",
       "      <th>body_mass_g</th>\n",
       "      <th>sex</th>\n",
       "    </tr>\n",
       "  </thead>\n",
       "  <tbody>\n",
       "    <tr>\n",
       "      <th>0</th>\n",
       "      <td>Adelie</td>\n",
       "      <td>Torgersen</td>\n",
       "      <td>39.1</td>\n",
       "      <td>18.7</td>\n",
       "      <td>181.0</td>\n",
       "      <td>3750.0</td>\n",
       "      <td>MALE</td>\n",
       "    </tr>\n",
       "    <tr>\n",
       "      <th>1</th>\n",
       "      <td>Adelie</td>\n",
       "      <td>Torgersen</td>\n",
       "      <td>39.5</td>\n",
       "      <td>17.4</td>\n",
       "      <td>186.0</td>\n",
       "      <td>3800.0</td>\n",
       "      <td>FEMALE</td>\n",
       "    </tr>\n",
       "    <tr>\n",
       "      <th>2</th>\n",
       "      <td>Adelie</td>\n",
       "      <td>Torgersen</td>\n",
       "      <td>40.3</td>\n",
       "      <td>18.0</td>\n",
       "      <td>195.0</td>\n",
       "      <td>3250.0</td>\n",
       "      <td>FEMALE</td>\n",
       "    </tr>\n",
       "    <tr>\n",
       "      <th>3</th>\n",
       "      <td>Adelie</td>\n",
       "      <td>Torgersen</td>\n",
       "      <td>NaN</td>\n",
       "      <td>NaN</td>\n",
       "      <td>NaN</td>\n",
       "      <td>NaN</td>\n",
       "      <td>NaN</td>\n",
       "    </tr>\n",
       "    <tr>\n",
       "      <th>4</th>\n",
       "      <td>Adelie</td>\n",
       "      <td>Torgersen</td>\n",
       "      <td>36.7</td>\n",
       "      <td>19.3</td>\n",
       "      <td>193.0</td>\n",
       "      <td>3450.0</td>\n",
       "      <td>FEMALE</td>\n",
       "    </tr>\n",
       "  </tbody>\n",
       "</table>\n",
       "</div>"
      ],
      "text/plain": [
       "  species     island  culmen_length_mm  culmen_depth_mm  flipper_length_mm  \\\n",
       "0  Adelie  Torgersen              39.1             18.7              181.0   \n",
       "1  Adelie  Torgersen              39.5             17.4              186.0   \n",
       "2  Adelie  Torgersen              40.3             18.0              195.0   \n",
       "3  Adelie  Torgersen               NaN              NaN                NaN   \n",
       "4  Adelie  Torgersen              36.7             19.3              193.0   \n",
       "\n",
       "   body_mass_g     sex  \n",
       "0       3750.0    MALE  \n",
       "1       3800.0  FEMALE  \n",
       "2       3250.0  FEMALE  \n",
       "3          NaN     NaN  \n",
       "4       3450.0  FEMALE  "
      ]
     },
     "execution_count": 92,
     "metadata": {},
     "output_type": "execute_result"
    }
   ],
   "source": [
    "penguins.head()"
   ]
  },
  {
   "cell_type": "markdown",
   "id": "0932d706",
   "metadata": {},
   "source": [
    "We see the data set as a categorical column with the species names. There are also some NA values in the data set. for simplicity we will just disregard them."
   ]
  },
  {
   "cell_type": "code",
   "execution_count": 93,
   "id": "df0df0c4",
   "metadata": {},
   "outputs": [],
   "source": [
    "penguins.dropna(inplace=True)\n",
    "penguins.reset_index(inplace=True, drop=True)"
   ]
  },
  {
   "cell_type": "code",
   "execution_count": 94,
   "id": "f8042f08",
   "metadata": {},
   "outputs": [
    {
     "data": {
      "text/plain": [
       "species\n",
       "Adelie       146\n",
       "Gentoo       120\n",
       "Chinstrap     68\n",
       "Name: count, dtype: int64"
      ]
     },
     "execution_count": 94,
     "metadata": {},
     "output_type": "execute_result"
    }
   ],
   "source": [
    "penguins['species'].value_counts()"
   ]
  },
  {
   "cell_type": "markdown",
   "id": "d7c7c5d9",
   "metadata": {},
   "source": [
    "#### Regression (OLS) in sklearn\n",
    "\n",
    "For our regression example, we will subset our data to focus on a single species (Gentoo)"
   ]
  },
  {
   "cell_type": "code",
   "execution_count": 95,
   "id": "4fac8314",
   "metadata": {},
   "outputs": [],
   "source": [
    "# note: here I am using .reset_index() so that the index values of our subset start at 0\n",
    "# otherwise would start ~150 - the index of the first Gentoo in the orig dataset\n",
    "gentoo = penguins[penguins['species']=='Gentoo'][['culmen_length_mm', 'flipper_length_mm']].copy()\n",
    "gentoo.dropna(inplace=True)\n",
    "gentoo.reset_index(inplace=True, drop=True)"
   ]
  },
  {
   "cell_type": "code",
   "execution_count": 97,
   "id": "5c12852a",
   "metadata": {},
   "outputs": [
    {
     "data": {
      "text/html": [
       "<div>\n",
       "<style scoped>\n",
       "    .dataframe tbody tr th:only-of-type {\n",
       "        vertical-align: middle;\n",
       "    }\n",
       "\n",
       "    .dataframe tbody tr th {\n",
       "        vertical-align: top;\n",
       "    }\n",
       "\n",
       "    .dataframe thead th {\n",
       "        text-align: right;\n",
       "    }\n",
       "</style>\n",
       "<table border=\"1\" class=\"dataframe\">\n",
       "  <thead>\n",
       "    <tr style=\"text-align: right;\">\n",
       "      <th></th>\n",
       "      <th>culmen_length_mm</th>\n",
       "      <th>flipper_length_mm</th>\n",
       "    </tr>\n",
       "  </thead>\n",
       "  <tbody>\n",
       "    <tr>\n",
       "      <th>count</th>\n",
       "      <td>120.000000</td>\n",
       "      <td>120.000000</td>\n",
       "    </tr>\n",
       "    <tr>\n",
       "      <th>mean</th>\n",
       "      <td>47.542500</td>\n",
       "      <td>217.233333</td>\n",
       "    </tr>\n",
       "    <tr>\n",
       "      <th>std</th>\n",
       "      <td>3.105692</td>\n",
       "      <td>6.557738</td>\n",
       "    </tr>\n",
       "    <tr>\n",
       "      <th>min</th>\n",
       "      <td>40.900000</td>\n",
       "      <td>203.000000</td>\n",
       "    </tr>\n",
       "    <tr>\n",
       "      <th>25%</th>\n",
       "      <td>45.300000</td>\n",
       "      <td>212.000000</td>\n",
       "    </tr>\n",
       "    <tr>\n",
       "      <th>50%</th>\n",
       "      <td>47.350000</td>\n",
       "      <td>216.000000</td>\n",
       "    </tr>\n",
       "    <tr>\n",
       "      <th>75%</th>\n",
       "      <td>49.600000</td>\n",
       "      <td>221.250000</td>\n",
       "    </tr>\n",
       "    <tr>\n",
       "      <th>max</th>\n",
       "      <td>59.600000</td>\n",
       "      <td>231.000000</td>\n",
       "    </tr>\n",
       "  </tbody>\n",
       "</table>\n",
       "</div>"
      ],
      "text/plain": [
       "       culmen_length_mm  flipper_length_mm\n",
       "count        120.000000         120.000000\n",
       "mean          47.542500         217.233333\n",
       "std            3.105692           6.557738\n",
       "min           40.900000         203.000000\n",
       "25%           45.300000         212.000000\n",
       "50%           47.350000         216.000000\n",
       "75%           49.600000         221.250000\n",
       "max           59.600000         231.000000"
      ]
     },
     "execution_count": 97,
     "metadata": {},
     "output_type": "execute_result"
    }
   ],
   "source": [
    "gentoo.describe()"
   ]
  },
  {
   "cell_type": "code",
   "execution_count": 98,
   "id": "108722d0",
   "metadata": {},
   "outputs": [],
   "source": [
    "# split the data so have unseen data for evaluation\n",
    "X_train, X_test, y_train, y_test = train_test_split(gentoo['culmen_length_mm'],   # X\n",
    "                                                    gentoo['flipper_length_mm'],  # y\n",
    "                                                    test_size = 0.2,\n",
    "                                                    random_state=42) "
   ]
  },
  {
   "cell_type": "code",
   "execution_count": 99,
   "id": "bc80b989",
   "metadata": {},
   "outputs": [
    {
     "data": {
      "text/html": [
       "<style>#sk-container-id-3 {color: black;background-color: white;}#sk-container-id-3 pre{padding: 0;}#sk-container-id-3 div.sk-toggleable {background-color: white;}#sk-container-id-3 label.sk-toggleable__label {cursor: pointer;display: block;width: 100%;margin-bottom: 0;padding: 0.3em;box-sizing: border-box;text-align: center;}#sk-container-id-3 label.sk-toggleable__label-arrow:before {content: \"▸\";float: left;margin-right: 0.25em;color: #696969;}#sk-container-id-3 label.sk-toggleable__label-arrow:hover:before {color: black;}#sk-container-id-3 div.sk-estimator:hover label.sk-toggleable__label-arrow:before {color: black;}#sk-container-id-3 div.sk-toggleable__content {max-height: 0;max-width: 0;overflow: hidden;text-align: left;background-color: #f0f8ff;}#sk-container-id-3 div.sk-toggleable__content pre {margin: 0.2em;color: black;border-radius: 0.25em;background-color: #f0f8ff;}#sk-container-id-3 input.sk-toggleable__control:checked~div.sk-toggleable__content {max-height: 200px;max-width: 100%;overflow: auto;}#sk-container-id-3 input.sk-toggleable__control:checked~label.sk-toggleable__label-arrow:before {content: \"▾\";}#sk-container-id-3 div.sk-estimator input.sk-toggleable__control:checked~label.sk-toggleable__label {background-color: #d4ebff;}#sk-container-id-3 div.sk-label input.sk-toggleable__control:checked~label.sk-toggleable__label {background-color: #d4ebff;}#sk-container-id-3 input.sk-hidden--visually {border: 0;clip: rect(1px 1px 1px 1px);clip: rect(1px, 1px, 1px, 1px);height: 1px;margin: -1px;overflow: hidden;padding: 0;position: absolute;width: 1px;}#sk-container-id-3 div.sk-estimator {font-family: monospace;background-color: #f0f8ff;border: 1px dotted black;border-radius: 0.25em;box-sizing: border-box;margin-bottom: 0.5em;}#sk-container-id-3 div.sk-estimator:hover {background-color: #d4ebff;}#sk-container-id-3 div.sk-parallel-item::after {content: \"\";width: 100%;border-bottom: 1px solid gray;flex-grow: 1;}#sk-container-id-3 div.sk-label:hover label.sk-toggleable__label {background-color: #d4ebff;}#sk-container-id-3 div.sk-serial::before {content: \"\";position: absolute;border-left: 1px solid gray;box-sizing: border-box;top: 0;bottom: 0;left: 50%;z-index: 0;}#sk-container-id-3 div.sk-serial {display: flex;flex-direction: column;align-items: center;background-color: white;padding-right: 0.2em;padding-left: 0.2em;position: relative;}#sk-container-id-3 div.sk-item {position: relative;z-index: 1;}#sk-container-id-3 div.sk-parallel {display: flex;align-items: stretch;justify-content: center;background-color: white;position: relative;}#sk-container-id-3 div.sk-item::before, #sk-container-id-3 div.sk-parallel-item::before {content: \"\";position: absolute;border-left: 1px solid gray;box-sizing: border-box;top: 0;bottom: 0;left: 50%;z-index: -1;}#sk-container-id-3 div.sk-parallel-item {display: flex;flex-direction: column;z-index: 1;position: relative;background-color: white;}#sk-container-id-3 div.sk-parallel-item:first-child::after {align-self: flex-end;width: 50%;}#sk-container-id-3 div.sk-parallel-item:last-child::after {align-self: flex-start;width: 50%;}#sk-container-id-3 div.sk-parallel-item:only-child::after {width: 0;}#sk-container-id-3 div.sk-dashed-wrapped {border: 1px dashed gray;margin: 0 0.4em 0.5em 0.4em;box-sizing: border-box;padding-bottom: 0.4em;background-color: white;}#sk-container-id-3 div.sk-label label {font-family: monospace;font-weight: bold;display: inline-block;line-height: 1.2em;}#sk-container-id-3 div.sk-label-container {text-align: center;}#sk-container-id-3 div.sk-container {/* jupyter's `normalize.less` sets `[hidden] { display: none; }` but bootstrap.min.css set `[hidden] { display: none !important; }` so we also need the `!important` here to be able to override the default hidden behavior on the sphinx rendered scikit-learn.org. See: https://github.com/scikit-learn/scikit-learn/issues/21755 */display: inline-block !important;position: relative;}#sk-container-id-3 div.sk-text-repr-fallback {display: none;}</style><div id=\"sk-container-id-3\" class=\"sk-top-container\"><div class=\"sk-text-repr-fallback\"><pre>LinearRegression()</pre><b>In a Jupyter environment, please rerun this cell to show the HTML representation or trust the notebook. <br />On GitHub, the HTML representation is unable to render, please try loading this page with nbviewer.org.</b></div><div class=\"sk-container\" hidden><div class=\"sk-item\"><div class=\"sk-estimator sk-toggleable\"><input class=\"sk-toggleable__control sk-hidden--visually\" id=\"sk-estimator-id-3\" type=\"checkbox\" checked><label for=\"sk-estimator-id-3\" class=\"sk-toggleable__label sk-toggleable__label-arrow\">LinearRegression</label><div class=\"sk-toggleable__content\"><pre>LinearRegression()</pre></div></div></div></div></div>"
      ],
      "text/plain": [
       "LinearRegression()"
      ]
     },
     "execution_count": 99,
     "metadata": {},
     "output_type": "execute_result"
    }
   ],
   "source": [
    "# train a linear regression on full subset (no test/train split for this example)  \n",
    "gentoo_lm = LinearRegression()\n",
    "\n",
    "gentoo_lm.fit(X=X_train.to_frame(), y=y_train)  "
   ]
  },
  {
   "cell_type": "code",
   "execution_count": 100,
   "id": "3ba43470",
   "metadata": {},
   "outputs": [
    {
     "name": "stdout",
     "output_type": "stream",
     "text": [
      "Intercept 152.2399743602625\n",
      "Coefficient [1.36185522]\n"
     ]
    }
   ],
   "source": [
    "print('Intercept', gentoo_lm.intercept_)\n",
    "print('Coefficient', gentoo_lm.coef_) "
   ]
  },
  {
   "cell_type": "code",
   "execution_count": 101,
   "id": "d1479359",
   "metadata": {},
   "outputs": [
    {
     "data": {
      "image/png": "[encoded data removed]",
      "text/plain": [
       "<Figure size 640x480 with 1 Axes>"
      ]
     },
     "metadata": {},
     "output_type": "display_data"
    }
   ],
   "source": [
    "# plot training data with fit line\n",
    "x_fit = np.arange(40,61, 1) # x values to calculate y values for\n",
    "y_fit = [(x_i*gentoo_lm.coef_[0]) + gentoo_lm.intercept_ for x_i in x_fit]\n",
    "\n",
    "plt.scatter(X_train, y_train)\n",
    "plt.plot(x_fit, y_fit, color='orangered')\n",
    "\n",
    "plt.xlabel('Bill Length (mm)', size=14)\n",
    "plt.ylabel('Culmen Length (mm)', size=14)\n",
    "plt.title('Training Data with Fit Line', size=18)\n",
    "\n",
    "plt.xticks(np.arange(40, 61, 2)) # set x-ticks\n",
    "plt.show()"
   ]
  },
  {
   "cell_type": "code",
   "execution_count": 102,
   "id": "b72f0232",
   "metadata": {},
   "outputs": [],
   "source": [
    "y_pred = gentoo_lm.predict(X_test.to_frame())  "
   ]
  },
  {
   "cell_type": "code",
   "execution_count": 103,
   "id": "6ca64855",
   "metadata": {},
   "outputs": [
    {
     "data": {
      "text/html": [
       "<div>\n",
       "<style scoped>\n",
       "    .dataframe tbody tr th:only-of-type {\n",
       "        vertical-align: middle;\n",
       "    }\n",
       "\n",
       "    .dataframe tbody tr th {\n",
       "        vertical-align: top;\n",
       "    }\n",
       "\n",
       "    .dataframe thead th {\n",
       "        text-align: right;\n",
       "    }\n",
       "</style>\n",
       "<table border=\"1\" class=\"dataframe\">\n",
       "  <thead>\n",
       "    <tr style=\"text-align: right;\">\n",
       "      <th></th>\n",
       "      <th>x_test</th>\n",
       "      <th>y_predicted</th>\n",
       "      <th>y_test</th>\n",
       "    </tr>\n",
       "  </thead>\n",
       "  <tbody>\n",
       "    <tr>\n",
       "      <th>0</th>\n",
       "      <td>46.1</td>\n",
       "      <td>215.021500</td>\n",
       "      <td>211.0</td>\n",
       "    </tr>\n",
       "    <tr>\n",
       "      <th>4</th>\n",
       "      <td>47.6</td>\n",
       "      <td>217.064283</td>\n",
       "      <td>215.0</td>\n",
       "    </tr>\n",
       "    <tr>\n",
       "      <th>10</th>\n",
       "      <td>40.9</td>\n",
       "      <td>207.939853</td>\n",
       "      <td>214.0</td>\n",
       "    </tr>\n",
       "    <tr>\n",
       "      <th>11</th>\n",
       "      <td>49.0</td>\n",
       "      <td>218.970880</td>\n",
       "      <td>216.0</td>\n",
       "    </tr>\n",
       "    <tr>\n",
       "      <th>18</th>\n",
       "      <td>46.2</td>\n",
       "      <td>215.157685</td>\n",
       "      <td>209.0</td>\n",
       "    </tr>\n",
       "  </tbody>\n",
       "</table>\n",
       "</div>"
      ],
      "text/plain": [
       "    x_test  y_predicted  y_test\n",
       "0     46.1   215.021500   211.0\n",
       "4     47.6   217.064283   215.0\n",
       "10    40.9   207.939853   214.0\n",
       "11    49.0   218.970880   216.0\n",
       "18    46.2   215.157685   209.0"
      ]
     },
     "execution_count": 103,
     "metadata": {},
     "output_type": "execute_result"
    }
   ],
   "source": [
    "pred_df = pd.DataFrame({'x_test': X_test, \n",
    "                        'y_predicted': y_pred,\n",
    "                        'y_test':y_test}).sort_index()\n",
    "pred_df.head()"
   ]
  },
  {
   "cell_type": "code",
   "execution_count": 104,
   "id": "4112d2fb",
   "metadata": {},
   "outputs": [
    {
     "name": "stdout",
     "output_type": "stream",
     "text": [
      "Mean Absolute Error: 4.875807327668274\n",
      "Mean Squared Error: 30.846319687630423\n",
      "Root Mean Squared Error: 5.553946316596013\n",
      "R-squared 0.42185734283238574\n"
     ]
    }
   ],
   "source": [
    "print('Mean Absolute Error:', metrics.mean_absolute_error(y_test, y_pred))  \n",
    "print('Mean Squared Error:', metrics.mean_squared_error(y_test, y_pred))  \n",
    "print('Root Mean Squared Error:', np.sqrt(metrics.mean_squared_error(y_test, y_pred)))\n",
    "print('R-squared', metrics.r2_score(y_test, y_pred))"
   ]
  },
  {
   "cell_type": "markdown",
   "id": "6c538cd7",
   "metadata": {},
   "source": [
    "#### k-NN Classification\n",
    "\n",
    "KNN is an algorithm that classifies unlabeled observations using the known labels of that observations $k$ nearest neighbors. We'll run this algorithm using SKLearn. You can find the documentation here: https://scikit-learn.org/stable/modules/generated/sklearn.neighbors.KNeighborsClassifier.html"
   ]
  },
  {
   "cell_type": "code",
   "execution_count": 105,
   "id": "96c9a663",
   "metadata": {},
   "outputs": [
    {
     "data": {
      "image/png": "[encoded data removed]",
      "text/plain": [
       "<Figure size 800x600 with 1 Axes>"
      ]
     },
     "metadata": {},
     "output_type": "display_data"
    }
   ],
   "source": [
    "# set shapes and colors of our plot\n",
    "plt.figure(figsize=(8,6))\n",
    "\n",
    "# plot each species seperately so they each get their own color\n",
    "for species in penguins['species'].unique():\n",
    "    sub = penguins[penguins['species']==species] # subset to a single species\n",
    "    \n",
    "    plt.scatter(sub['culmen_length_mm'], sub['flipper_length_mm'],\n",
    "               label=species)\n",
    "\n",
    "# labels\n",
    "plt.xlabel('Culmen Length (mm)', size=14)\n",
    "plt.ylabel('Flipper Length (mm)', size=14)\n",
    "\n",
    "plt.title('Culmen and Flipper Length \\nBy Species (All Data)',size=18)\n",
    "plt.legend()\n",
    "\n",
    "plt.show()"
   ]
  },
  {
   "cell_type": "code",
   "execution_count": 106,
   "id": "ced8bab4",
   "metadata": {},
   "outputs": [],
   "source": [
    "# create X dataframe with our IVs\n",
    "X = penguins[['culmen_length_mm', \n",
    "             'culmen_depth_mm',\n",
    "             'flipper_length_mm', \n",
    "             'body_mass_g']]\n",
    "\n",
    "# create vector of y variable (label) \n",
    "Y = penguins['species']"
   ]
  },
  {
   "cell_type": "code",
   "execution_count": 107,
   "id": "dcb920fa",
   "metadata": {},
   "outputs": [],
   "source": [
    "# rescale IVs as k-NN is a distance based Algorithmn\n",
    "scaler = StandardScaler().fit(X)\n",
    "X_scaled = scaler.transform(X) "
   ]
  },
  {
   "cell_type": "code",
   "execution_count": 108,
   "id": "43463ce5",
   "metadata": {},
   "outputs": [
    {
     "name": "stdout",
     "output_type": "stream",
     "text": [
      "Means of IVs: [  43.99431138   17.16047904  201.01497006 4209.05688623]\n",
      "Variance of IVs: [2.97280215e+01 3.86107282e+00 1.96032710e+02 6.45821790e+05]\n"
     ]
    }
   ],
   "source": [
    "# display mean and standard deviation of original input data\n",
    "print('Means of IVs:', scaler.mean_)\n",
    "print('Variance of IVs:', scaler.var_)"
   ]
  },
  {
   "cell_type": "code",
   "execution_count": 109,
   "id": "9196293a",
   "metadata": {},
   "outputs": [
    {
     "name": "stdout",
     "output_type": "stream",
     "text": [
      "culmen_length_mm\n",
      "   Mean: -0.00\n",
      "   SD: 1.00\n",
      "culmen_depth_mm\n",
      "   Mean: -0.00\n",
      "   SD: 1.00\n",
      "flipper_length_mm\n",
      "   Mean: 0.00\n",
      "   SD: 1.00\n",
      "body_mass_g\n",
      "   Mean: -0.00\n",
      "   SD: 1.00\n"
     ]
    }
   ],
   "source": [
    "# put our scaled data in to a dataframe\n",
    "df_scaled = pd.DataFrame(X_scaled, columns=X.columns)\n",
    "\n",
    "# by definition, our rescaled data has a mean of 0 and and SD of 1\n",
    "for column in df_scaled:\n",
    "    print(column)\n",
    "    print('   Mean: {:.2f}'.format(np.mean(df_scaled[column])))\n",
    "    print('   SD: {:.2f}'.format(np.std(df_scaled[column])))"
   ]
  },
  {
   "cell_type": "code",
   "execution_count": 123,
   "id": "8d90136b",
   "metadata": {},
   "outputs": [],
   "source": [
    "# split data 80% training\n",
    "# we can use the exact same code that we did when splitting the data for our regression\n",
    "X_train, X_test, y_train, y_test = train_test_split(X_scaled, Y, test_size=0.20, random_state=100)  "
   ]
  },
  {
   "cell_type": "code",
   "execution_count": 124,
   "id": "12174868",
   "metadata": {},
   "outputs": [],
   "source": [
    "# train our classifier\n",
    "classifier = KNeighborsClassifier().fit(X_train, y_train) # default to n_neighbors = 5"
   ]
  },
  {
   "cell_type": "code",
   "execution_count": 125,
   "id": "67a5216d",
   "metadata": {},
   "outputs": [],
   "source": [
    "y_pred = classifier.predict(X_test)    # make predictions on our test data"
   ]
  },
  {
   "cell_type": "code",
   "execution_count": 126,
   "id": "9d8f4d59",
   "metadata": {},
   "outputs": [
    {
     "data": {
      "text/html": [
       "<div>\n",
       "<style scoped>\n",
       "    .dataframe tbody tr th:only-of-type {\n",
       "        vertical-align: middle;\n",
       "    }\n",
       "\n",
       "    .dataframe tbody tr th {\n",
       "        vertical-align: top;\n",
       "    }\n",
       "\n",
       "    .dataframe thead th {\n",
       "        text-align: right;\n",
       "    }\n",
       "</style>\n",
       "<table border=\"1\" class=\"dataframe\">\n",
       "  <thead>\n",
       "    <tr style=\"text-align: right;\">\n",
       "      <th></th>\n",
       "      <th>Actual</th>\n",
       "      <th>Predicted</th>\n",
       "    </tr>\n",
       "  </thead>\n",
       "  <tbody>\n",
       "    <tr>\n",
       "      <th>305</th>\n",
       "      <td>Gentoo</td>\n",
       "      <td>Gentoo</td>\n",
       "    </tr>\n",
       "    <tr>\n",
       "      <th>177</th>\n",
       "      <td>Chinstrap</td>\n",
       "      <td>Chinstrap</td>\n",
       "    </tr>\n",
       "    <tr>\n",
       "      <th>330</th>\n",
       "      <td>Gentoo</td>\n",
       "      <td>Gentoo</td>\n",
       "    </tr>\n",
       "    <tr>\n",
       "      <th>46</th>\n",
       "      <td>Adelie</td>\n",
       "      <td>Adelie</td>\n",
       "    </tr>\n",
       "    <tr>\n",
       "      <th>289</th>\n",
       "      <td>Gentoo</td>\n",
       "      <td>Gentoo</td>\n",
       "    </tr>\n",
       "    <tr>\n",
       "      <th>120</th>\n",
       "      <td>Adelie</td>\n",
       "      <td>Adelie</td>\n",
       "    </tr>\n",
       "    <tr>\n",
       "      <th>191</th>\n",
       "      <td>Chinstrap</td>\n",
       "      <td>Chinstrap</td>\n",
       "    </tr>\n",
       "    <tr>\n",
       "      <th>154</th>\n",
       "      <td>Chinstrap</td>\n",
       "      <td>Adelie</td>\n",
       "    </tr>\n",
       "    <tr>\n",
       "      <th>266</th>\n",
       "      <td>Gentoo</td>\n",
       "      <td>Gentoo</td>\n",
       "    </tr>\n",
       "    <tr>\n",
       "      <th>188</th>\n",
       "      <td>Chinstrap</td>\n",
       "      <td>Chinstrap</td>\n",
       "    </tr>\n",
       "  </tbody>\n",
       "</table>\n",
       "</div>"
      ],
      "text/plain": [
       "        Actual  Predicted\n",
       "305     Gentoo     Gentoo\n",
       "177  Chinstrap  Chinstrap\n",
       "330     Gentoo     Gentoo\n",
       "46      Adelie     Adelie\n",
       "289     Gentoo     Gentoo\n",
       "120     Adelie     Adelie\n",
       "191  Chinstrap  Chinstrap\n",
       "154  Chinstrap     Adelie\n",
       "266     Gentoo     Gentoo\n",
       "188  Chinstrap  Chinstrap"
      ]
     },
     "execution_count": 126,
     "metadata": {},
     "output_type": "execute_result"
    }
   ],
   "source": [
    "df_eval = pd.DataFrame({'Actual': y_test,\n",
    "                        'Predicted': y_pred})\n",
    "\n",
    "df_eval.head(10)"
   ]
  },
  {
   "cell_type": "code",
   "execution_count": 127,
   "id": "e7e4e004",
   "metadata": {},
   "outputs": [
    {
     "name": "stdout",
     "output_type": "stream",
     "text": [
      "              precision    recall  f1-score   support\n",
      "\n",
      "      Adelie       0.96      1.00      0.98        27\n",
      "   Chinstrap       1.00      0.92      0.96        12\n",
      "      Gentoo       1.00      1.00      1.00        28\n",
      "\n",
      "    accuracy                           0.99        67\n",
      "   macro avg       0.99      0.97      0.98        67\n",
      "weighted avg       0.99      0.99      0.98        67\n",
      "\n"
     ]
    }
   ],
   "source": [
    "print(metrics.classification_report(y_test, y_pred))"
   ]
  },
  {
   "cell_type": "code",
   "execution_count": 128,
   "id": "242f2f01",
   "metadata": {},
   "outputs": [
    {
     "name": "stdout",
     "output_type": "stream",
     "text": [
      "[[27  0  0]\n",
      " [ 1 11  0]\n",
      " [ 0  0 28]]\n"
     ]
    }
   ],
   "source": [
    "print(metrics.confusion_matrix(y_test, y_pred))"
   ]
  },
  {
   "cell_type": "markdown",
   "id": "36d4070a",
   "metadata": {},
   "source": [
    "#### K-Means Clustering\n",
    "\n",
    "K-means is clustering algorithm which clusters the data into $k$ groups. Again, we'll use `sklearn` and you can find the documentation here: https://scikit-learn.org/stable/modules/generated/sklearn.cluster.KMeans.html"
   ]
  },
  {
   "cell_type": "code",
   "execution_count": 140,
   "id": "8af4709b",
   "metadata": {},
   "outputs": [],
   "source": [
    "# create X dataframe with our IVs\n",
    "X = penguins[['culmen_length_mm', \n",
    "             'culmen_depth_mm',\n",
    "             'flipper_length_mm', \n",
    "             'body_mass_g']]  \n",
    "\n",
    "\n",
    "# rescale IVs\n",
    "scaler = StandardScaler().fit(X)\n",
    "x_scaled = scaler.transform(X) "
   ]
  },
  {
   "cell_type": "code",
   "execution_count": 149,
   "id": "de8b2cbb",
   "metadata": {},
   "outputs": [
    {
     "data": {
      "text/html": [
       "<style>#sk-container-id-6 {color: black;background-color: white;}#sk-container-id-6 pre{padding: 0;}#sk-container-id-6 div.sk-toggleable {background-color: white;}#sk-container-id-6 label.sk-toggleable__label {cursor: pointer;display: block;width: 100%;margin-bottom: 0;padding: 0.3em;box-sizing: border-box;text-align: center;}#sk-container-id-6 label.sk-toggleable__label-arrow:before {content: \"▸\";float: left;margin-right: 0.25em;color: #696969;}#sk-container-id-6 label.sk-toggleable__label-arrow:hover:before {color: black;}#sk-container-id-6 div.sk-estimator:hover label.sk-toggleable__label-arrow:before {color: black;}#sk-container-id-6 div.sk-toggleable__content {max-height: 0;max-width: 0;overflow: hidden;text-align: left;background-color: #f0f8ff;}#sk-container-id-6 div.sk-toggleable__content pre {margin: 0.2em;color: black;border-radius: 0.25em;background-color: #f0f8ff;}#sk-container-id-6 input.sk-toggleable__control:checked~div.sk-toggleable__content {max-height: 200px;max-width: 100%;overflow: auto;}#sk-container-id-6 input.sk-toggleable__control:checked~label.sk-toggleable__label-arrow:before {content: \"▾\";}#sk-container-id-6 div.sk-estimator input.sk-toggleable__control:checked~label.sk-toggleable__label {background-color: #d4ebff;}#sk-container-id-6 div.sk-label input.sk-toggleable__control:checked~label.sk-toggleable__label {background-color: #d4ebff;}#sk-container-id-6 input.sk-hidden--visually {border: 0;clip: rect(1px 1px 1px 1px);clip: rect(1px, 1px, 1px, 1px);height: 1px;margin: -1px;overflow: hidden;padding: 0;position: absolute;width: 1px;}#sk-container-id-6 div.sk-estimator {font-family: monospace;background-color: #f0f8ff;border: 1px dotted black;border-radius: 0.25em;box-sizing: border-box;margin-bottom: 0.5em;}#sk-container-id-6 div.sk-estimator:hover {background-color: #d4ebff;}#sk-container-id-6 div.sk-parallel-item::after {content: \"\";width: 100%;border-bottom: 1px solid gray;flex-grow: 1;}#sk-container-id-6 div.sk-label:hover label.sk-toggleable__label {background-color: #d4ebff;}#sk-container-id-6 div.sk-serial::before {content: \"\";position: absolute;border-left: 1px solid gray;box-sizing: border-box;top: 0;bottom: 0;left: 50%;z-index: 0;}#sk-container-id-6 div.sk-serial {display: flex;flex-direction: column;align-items: center;background-color: white;padding-right: 0.2em;padding-left: 0.2em;position: relative;}#sk-container-id-6 div.sk-item {position: relative;z-index: 1;}#sk-container-id-6 div.sk-parallel {display: flex;align-items: stretch;justify-content: center;background-color: white;position: relative;}#sk-container-id-6 div.sk-item::before, #sk-container-id-6 div.sk-parallel-item::before {content: \"\";position: absolute;border-left: 1px solid gray;box-sizing: border-box;top: 0;bottom: 0;left: 50%;z-index: -1;}#sk-container-id-6 div.sk-parallel-item {display: flex;flex-direction: column;z-index: 1;position: relative;background-color: white;}#sk-container-id-6 div.sk-parallel-item:first-child::after {align-self: flex-end;width: 50%;}#sk-container-id-6 div.sk-parallel-item:last-child::after {align-self: flex-start;width: 50%;}#sk-container-id-6 div.sk-parallel-item:only-child::after {width: 0;}#sk-container-id-6 div.sk-dashed-wrapped {border: 1px dashed gray;margin: 0 0.4em 0.5em 0.4em;box-sizing: border-box;padding-bottom: 0.4em;background-color: white;}#sk-container-id-6 div.sk-label label {font-family: monospace;font-weight: bold;display: inline-block;line-height: 1.2em;}#sk-container-id-6 div.sk-label-container {text-align: center;}#sk-container-id-6 div.sk-container {/* jupyter's `normalize.less` sets `[hidden] { display: none; }` but bootstrap.min.css set `[hidden] { display: none !important; }` so we also need the `!important` here to be able to override the default hidden behavior on the sphinx rendered scikit-learn.org. See: https://github.com/scikit-learn/scikit-learn/issues/21755 */display: inline-block !important;position: relative;}#sk-container-id-6 div.sk-text-repr-fallback {display: none;}</style><div id=\"sk-container-id-6\" class=\"sk-top-container\"><div class=\"sk-text-repr-fallback\"><pre>KMeans(n_clusters=3)</pre><b>In a Jupyter environment, please rerun this cell to show the HTML representation or trust the notebook. <br />On GitHub, the HTML representation is unable to render, please try loading this page with nbviewer.org.</b></div><div class=\"sk-container\" hidden><div class=\"sk-item\"><div class=\"sk-estimator sk-toggleable\"><input class=\"sk-toggleable__control sk-hidden--visually\" id=\"sk-estimator-id-6\" type=\"checkbox\" checked><label for=\"sk-estimator-id-6\" class=\"sk-toggleable__label sk-toggleable__label-arrow\">KMeans</label><div class=\"sk-toggleable__content\"><pre>KMeans(n_clusters=3)</pre></div></div></div></div></div>"
      ],
      "text/plain": [
       "KMeans(n_clusters=3)"
      ]
     },
     "execution_count": 149,
     "metadata": {},
     "output_type": "execute_result"
    }
   ],
   "source": [
    "# initialize our k-means algorithm\n",
    "kmeans = KMeans(\n",
    "    n_clusters=3 # we'll specify 3 clusters\n",
    ")\n",
    "\n",
    "# run k-means!\n",
    "kmeans.fit(x_scaled)"
   ]
  },
  {
   "cell_type": "code",
   "execution_count": 142,
   "id": "5730b361",
   "metadata": {},
   "outputs": [
    {
     "data": {
      "text/plain": [
       "array([1, 1, 1, 1, 1, 1, 1, 1, 1, 1, 1, 1, 2, 1, 2, 1, 1, 1, 1, 1, 1, 1,\n",
       "       1, 1, 1, 1, 1, 1, 1, 1, 1, 1, 1, 1, 1, 1, 1, 1, 2, 1, 1, 1, 1, 2,\n",
       "       1, 1, 1, 2, 1, 1, 1, 1, 1, 1, 1, 2, 1, 1, 1, 1, 1, 1, 1, 2, 1, 1,\n",
       "       1, 2, 1, 2, 1, 1, 1, 2, 1, 2, 1, 1, 1, 1, 1, 1, 1, 1, 1, 2, 1, 1,\n",
       "       1, 2, 1, 1, 1, 2, 1, 2, 1, 1, 1, 1, 1, 1, 1, 2, 1, 2, 1, 2, 1, 2,\n",
       "       1, 1, 1, 1, 1, 1, 1, 1, 1, 1, 1, 1, 1, 2, 1, 2, 1, 1, 1, 1, 1, 1,\n",
       "       1, 1, 1, 1, 1, 1, 1, 1, 1, 1, 1, 1, 1, 2, 2, 2, 2, 2, 2, 2, 2, 2,\n",
       "       2, 2, 2, 2, 2, 2, 2, 2, 2, 2, 2, 2, 1, 2, 1, 2, 2, 2, 2, 2, 2, 2,\n",
       "       1, 2, 1, 2, 2, 2, 2, 2, 2, 2, 2, 2, 2, 2, 2, 2, 2, 2, 2, 2, 2, 2,\n",
       "       2, 2, 1, 2, 2, 2, 2, 2, 2, 2, 2, 2, 2, 2, 2, 2, 0, 0, 0, 0, 0, 0,\n",
       "       0, 0, 0, 0, 0, 0, 0, 0, 0, 0, 0, 0, 0, 0, 0, 0, 0, 0, 0, 0, 0, 0,\n",
       "       0, 0, 0, 0, 0, 0, 0, 0, 0, 0, 0, 0, 0, 0, 0, 0, 0, 0, 0, 0, 0, 0,\n",
       "       0, 0, 0, 0, 0, 0, 0, 0, 0, 0, 0, 0, 0, 0, 0, 0, 0, 0, 0, 0, 0, 0,\n",
       "       0, 0, 0, 0, 0, 0, 0, 0, 0, 0, 0, 0, 0, 0, 0, 0, 0, 0, 0, 0, 0, 0,\n",
       "       0, 0, 0, 0, 0, 0, 0, 0, 0, 0, 0, 0, 0, 0, 0, 0, 0, 0, 0, 0, 0, 0,\n",
       "       0, 0, 0, 0])"
      ]
     },
     "execution_count": 142,
     "metadata": {},
     "output_type": "execute_result"
    }
   ],
   "source": [
    "# cluster assignment for each observation\n",
    "kmeans.labels_"
   ]
  },
  {
   "cell_type": "code",
   "execution_count": 143,
   "id": "f118f5c6",
   "metadata": {},
   "outputs": [
    {
     "data": {
      "text/plain": [
       "371.7565724749219"
      ]
     },
     "execution_count": 143,
     "metadata": {},
     "output_type": "execute_result"
    }
   ],
   "source": [
    "# Sum of squared distances of samples to their closest cluster center\n",
    "kmeans.inertia_"
   ]
  },
  {
   "cell_type": "code",
   "execution_count": 144,
   "id": "ddd560b2",
   "metadata": {},
   "outputs": [
    {
     "data": {
      "text/html": [
       "<div>\n",
       "<style scoped>\n",
       "    .dataframe tbody tr th:only-of-type {\n",
       "        vertical-align: middle;\n",
       "    }\n",
       "\n",
       "    .dataframe tbody tr th {\n",
       "        vertical-align: top;\n",
       "    }\n",
       "\n",
       "    .dataframe thead th {\n",
       "        text-align: right;\n",
       "    }\n",
       "</style>\n",
       "<table border=\"1\" class=\"dataframe\">\n",
       "  <thead>\n",
       "    <tr style=\"text-align: right;\">\n",
       "      <th></th>\n",
       "      <th>species</th>\n",
       "      <th>island</th>\n",
       "      <th>culmen_length_mm</th>\n",
       "      <th>culmen_depth_mm</th>\n",
       "      <th>flipper_length_mm</th>\n",
       "      <th>body_mass_g</th>\n",
       "      <th>sex</th>\n",
       "      <th>clusters</th>\n",
       "    </tr>\n",
       "  </thead>\n",
       "  <tbody>\n",
       "    <tr>\n",
       "      <th>0</th>\n",
       "      <td>Adelie</td>\n",
       "      <td>Torgersen</td>\n",
       "      <td>39.1</td>\n",
       "      <td>18.7</td>\n",
       "      <td>181.0</td>\n",
       "      <td>3750.0</td>\n",
       "      <td>MALE</td>\n",
       "      <td>1</td>\n",
       "    </tr>\n",
       "    <tr>\n",
       "      <th>1</th>\n",
       "      <td>Adelie</td>\n",
       "      <td>Torgersen</td>\n",
       "      <td>39.5</td>\n",
       "      <td>17.4</td>\n",
       "      <td>186.0</td>\n",
       "      <td>3800.0</td>\n",
       "      <td>FEMALE</td>\n",
       "      <td>1</td>\n",
       "    </tr>\n",
       "    <tr>\n",
       "      <th>2</th>\n",
       "      <td>Adelie</td>\n",
       "      <td>Torgersen</td>\n",
       "      <td>40.3</td>\n",
       "      <td>18.0</td>\n",
       "      <td>195.0</td>\n",
       "      <td>3250.0</td>\n",
       "      <td>FEMALE</td>\n",
       "      <td>1</td>\n",
       "    </tr>\n",
       "    <tr>\n",
       "      <th>3</th>\n",
       "      <td>Adelie</td>\n",
       "      <td>Torgersen</td>\n",
       "      <td>36.7</td>\n",
       "      <td>19.3</td>\n",
       "      <td>193.0</td>\n",
       "      <td>3450.0</td>\n",
       "      <td>FEMALE</td>\n",
       "      <td>1</td>\n",
       "    </tr>\n",
       "    <tr>\n",
       "      <th>4</th>\n",
       "      <td>Adelie</td>\n",
       "      <td>Torgersen</td>\n",
       "      <td>39.3</td>\n",
       "      <td>20.6</td>\n",
       "      <td>190.0</td>\n",
       "      <td>3650.0</td>\n",
       "      <td>MALE</td>\n",
       "      <td>1</td>\n",
       "    </tr>\n",
       "    <tr>\n",
       "      <th>5</th>\n",
       "      <td>Adelie</td>\n",
       "      <td>Torgersen</td>\n",
       "      <td>38.9</td>\n",
       "      <td>17.8</td>\n",
       "      <td>181.0</td>\n",
       "      <td>3625.0</td>\n",
       "      <td>FEMALE</td>\n",
       "      <td>1</td>\n",
       "    </tr>\n",
       "    <tr>\n",
       "      <th>6</th>\n",
       "      <td>Adelie</td>\n",
       "      <td>Torgersen</td>\n",
       "      <td>39.2</td>\n",
       "      <td>19.6</td>\n",
       "      <td>195.0</td>\n",
       "      <td>4675.0</td>\n",
       "      <td>MALE</td>\n",
       "      <td>1</td>\n",
       "    </tr>\n",
       "    <tr>\n",
       "      <th>7</th>\n",
       "      <td>Adelie</td>\n",
       "      <td>Torgersen</td>\n",
       "      <td>41.1</td>\n",
       "      <td>17.6</td>\n",
       "      <td>182.0</td>\n",
       "      <td>3200.0</td>\n",
       "      <td>FEMALE</td>\n",
       "      <td>1</td>\n",
       "    </tr>\n",
       "    <tr>\n",
       "      <th>8</th>\n",
       "      <td>Adelie</td>\n",
       "      <td>Torgersen</td>\n",
       "      <td>38.6</td>\n",
       "      <td>21.2</td>\n",
       "      <td>191.0</td>\n",
       "      <td>3800.0</td>\n",
       "      <td>MALE</td>\n",
       "      <td>1</td>\n",
       "    </tr>\n",
       "    <tr>\n",
       "      <th>9</th>\n",
       "      <td>Adelie</td>\n",
       "      <td>Torgersen</td>\n",
       "      <td>34.6</td>\n",
       "      <td>21.1</td>\n",
       "      <td>198.0</td>\n",
       "      <td>4400.0</td>\n",
       "      <td>MALE</td>\n",
       "      <td>1</td>\n",
       "    </tr>\n",
       "  </tbody>\n",
       "</table>\n",
       "</div>"
      ],
      "text/plain": [
       "  species     island  culmen_length_mm  culmen_depth_mm  flipper_length_mm  \\\n",
       "0  Adelie  Torgersen              39.1             18.7              181.0   \n",
       "1  Adelie  Torgersen              39.5             17.4              186.0   \n",
       "2  Adelie  Torgersen              40.3             18.0              195.0   \n",
       "3  Adelie  Torgersen              36.7             19.3              193.0   \n",
       "4  Adelie  Torgersen              39.3             20.6              190.0   \n",
       "5  Adelie  Torgersen              38.9             17.8              181.0   \n",
       "6  Adelie  Torgersen              39.2             19.6              195.0   \n",
       "7  Adelie  Torgersen              41.1             17.6              182.0   \n",
       "8  Adelie  Torgersen              38.6             21.2              191.0   \n",
       "9  Adelie  Torgersen              34.6             21.1              198.0   \n",
       "\n",
       "   body_mass_g     sex  clusters  \n",
       "0       3750.0    MALE         1  \n",
       "1       3800.0  FEMALE         1  \n",
       "2       3250.0  FEMALE         1  \n",
       "3       3450.0  FEMALE         1  \n",
       "4       3650.0    MALE         1  \n",
       "5       3625.0  FEMALE         1  \n",
       "6       4675.0    MALE         1  \n",
       "7       3200.0  FEMALE         1  \n",
       "8       3800.0    MALE         1  \n",
       "9       4400.0    MALE         1  "
      ]
     },
     "execution_count": 144,
     "metadata": {},
     "output_type": "execute_result"
    }
   ],
   "source": [
    "# add the k-means clusters to our dataframe and inspect\n",
    "penguins['clusters'] = kmeans.labels_\n",
    "penguins.head(10)"
   ]
  },
  {
   "cell_type": "markdown",
   "id": "d9cff0b9",
   "metadata": {},
   "source": [
    "##### Choosing K: K-Means"
   ]
  },
  {
   "cell_type": "code",
   "execution_count": 150,
   "id": "1c6fd6c7",
   "metadata": {},
   "outputs": [],
   "source": [
    "error = list()  # to save error\n",
    "\n",
    "for k in range(1,31): \n",
    "    kmeans = KMeans(n_clusters=k) # init k-means object\n",
    "    kmeans.fit(x_scaled)  # run k-means!\n",
    "    \n",
    "    error.append(kmeans.inertia_) # save sum of squared error (SSE)"
   ]
  },
  {
   "cell_type": "code",
   "execution_count": 146,
   "id": "b076b020",
   "metadata": {},
   "outputs": [
    {
     "data": {
      "image/png": "[encoded data removed]",
      "text/plain": [
       "<Figure size 1200x600 with 1 Axes>"
      ]
     },
     "metadata": {},
     "output_type": "display_data"
    }
   ],
   "source": [
    "# plot error\n",
    "plt.figure(figsize=(12, 6))\n",
    "\n",
    "plt.plot(range(1, len(error)+1), error, color='red', linestyle='dashed', marker='o',\n",
    "         markersize=10)\n",
    "\n",
    "plt.yticks(np.arange(0, 1401, 200)) # start y ticks at 0\n",
    "plt.xticks(np.arange(0, 31, 1))  # integer x ticks\n",
    "\n",
    "# title & label axes\n",
    "plt.title('KMeans:\\nInertia by K Value', size=18)\n",
    "plt.xlabel('K Value', size=16)\n",
    "plt.ylabel('Inertia', size=16)\n",
    "plt.show()"
   ]
  },
  {
   "cell_type": "markdown",
   "id": "fa2407fa",
   "metadata": {},
   "source": [
    "From a visual inspection you would choos k at about 5 if you are using the elbow method."
   ]
  }
 ],
 "metadata": {
  "kernelspec": {
   "display_name": "python-i2ml",
   "language": "python",
   "name": "python3"
  },
  "language_info": {
   "codemirror_mode": {
    "name": "ipython",
    "version": 3
   },
   "file_extension": ".py",
   "mimetype": "text/x-python",
   "name": "python",
   "nbconvert_exporter": "python",
   "pygments_lexer": "ipython3",
   "version": "3.10.12"
  }
 },
 "nbformat": 4,
 "nbformat_minor": 5
}
