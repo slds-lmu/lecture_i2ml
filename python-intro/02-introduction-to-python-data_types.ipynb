{
 "cells": [
  {
   "cell_type": "markdown",
   "id": "807c06b5",
   "metadata": {},
   "source": [
    "***\n",
    "**Introduction to Machine Learning** <br>\n",
    "__[https://slds-lmu.github.io/i2ml/](https://slds-lmu.github.io/i2ml/)__\n",
    "***"
   ]
  },
  {
   "cell_type": "markdown",
   "id": "3b5469d8",
   "metadata": {},
   "source": [
    "# 2. Basic Python"
   ]
  },
  {
   "cell_type": "markdown",
   "id": "e9a44da0",
   "metadata": {},
   "source": [
    "## 2.1 Intro: What is Python?"
   ]
  },
  {
   "cell_type": "markdown",
   "id": "3039a356",
   "metadata": {},
   "source": [
    "- Python is an **[interpreted](https://www.freecodecamp.org/news/compiled-versus-interpreted-languages/), [object-oriented](https://www.geeksforgeeks.org/introduction-of-object-oriented-programming/), [high-level](https://www.geeksforgeeks.org/difference-between-high-level-and-low-level-languages/)** programming language with dynamic semantics. Its high-level built in data structures, combined with **[dynamic typing](https://www.geeksforgeeks.org/type-systemsdynamic-typing-static-typing-duck-typing/)** and **[dynamic/late binding](http://quickinsights.io/python/python-closures-and-late-binding/)**, make it very attractive for Rapid Application Development, as well as for use as a scripting or glue language to connect existing components together. \n",
    "- Python's simple, easy to learn syntax emphasizes readability and therefore reduces the cost of program maintenance. Python supports modules and packages, which encourages program modularity and code reuse. \n",
    "- The Python interpreter and the extensive standard library are available in source or binary form **without charge** for all major platforms, and can be freely distributed. <br>\n",
    "__[https://www.python.org](https://www.python.org/doc/essays/blurb/)__"
   ]
  },
  {
   "cell_type": "markdown",
   "id": "84e58e67",
   "metadata": {},
   "source": [
    "## 2.2 Data Types"
   ]
  },
  {
   "cell_type": "markdown",
   "id": "2476e381",
   "metadata": {},
   "source": [
    "### a) Numbers"
   ]
  },
  {
   "cell_type": "markdown",
   "id": "41c4c954",
   "metadata": {},
   "source": [
    "Basic operations:"
   ]
  },
  {
   "cell_type": "code",
   "execution_count": 1,
   "id": "21dda312",
   "metadata": {},
   "outputs": [
    {
     "data": {
      "text/plain": [
       "2"
      ]
     },
     "execution_count": 1,
     "metadata": {},
     "output_type": "execute_result"
    }
   ],
   "source": [
    "# Addition\n",
    "1 + 1"
   ]
  },
  {
   "cell_type": "code",
   "execution_count": 2,
   "id": "d7a0e9e9",
   "metadata": {},
   "outputs": [
    {
     "data": {
      "text/plain": [
       "3"
      ]
     },
     "execution_count": 2,
     "metadata": {},
     "output_type": "execute_result"
    }
   ],
   "source": [
    "# Multiplication\n",
    "1 * 3"
   ]
  },
  {
   "cell_type": "code",
   "execution_count": 3,
   "id": "fd4c09d6",
   "metadata": {},
   "outputs": [
    {
     "data": {
      "text/plain": [
       "0.5"
      ]
     },
     "execution_count": 3,
     "metadata": {},
     "output_type": "execute_result"
    }
   ],
   "source": [
    "# Division\n",
    "1 / 2"
   ]
  },
  {
   "cell_type": "code",
   "execution_count": 4,
   "id": "81fcc519",
   "metadata": {},
   "outputs": [
    {
     "data": {
      "text/plain": [
       "16"
      ]
     },
     "execution_count": 4,
     "metadata": {},
     "output_type": "execute_result"
    }
   ],
   "source": [
    "# Exponentiation\n",
    "2 ** 4"
   ]
  },
  {
   "cell_type": "code",
   "execution_count": 1,
   "id": "44c10d0b",
   "metadata": {},
   "outputs": [
    {
     "data": {
      "text/plain": [
       "1"
      ]
     },
     "execution_count": 1,
     "metadata": {},
     "output_type": "execute_result"
    }
   ],
   "source": [
    "# Modulo\n",
    "5 % 2"
   ]
  },
  {
   "cell_type": "code",
   "execution_count": 7,
   "id": "18b72c0a",
   "metadata": {},
   "outputs": [
    {
     "data": {
      "text/plain": [
       "50"
      ]
     },
     "execution_count": 7,
     "metadata": {},
     "output_type": "execute_result"
    }
   ],
   "source": [
    "# Bracket\n",
    "(2 + 3) * (5 + 5)"
   ]
  },
  {
   "cell_type": "code",
   "execution_count": 8,
   "id": "d9642901",
   "metadata": {},
   "outputs": [
    {
     "data": {
      "text/plain": [
       "5"
      ]
     },
     "execution_count": 8,
     "metadata": {},
     "output_type": "execute_result"
    }
   ],
   "source": [
    "# Assignment\n",
    "x = 2\n",
    "y = 3\n",
    "z = x + y\n",
    "z"
   ]
  },
  {
   "cell_type": "markdown",
   "id": "a844dfc5",
   "metadata": {},
   "source": [
    "### b) Strings"
   ]
  },
  {
   "cell_type": "code",
   "execution_count": 9,
   "id": "62e27f81",
   "metadata": {},
   "outputs": [
    {
     "data": {
      "text/plain": [
       "\"It's easy to mix it up.\""
      ]
     },
     "execution_count": 9,
     "metadata": {},
     "output_type": "execute_result"
    }
   ],
   "source": [
    "# Single Quotes\n",
    "'single quotes'\n",
    "# Double Quotes\n",
    "\"double quotes\"\n",
    "# Mixed Form\n",
    "\"It's easy to mix it up.\""
   ]
  },
  {
   "cell_type": "code",
   "execution_count": 10,
   "id": "72de268a",
   "metadata": {},
   "outputs": [
    {
     "data": {
      "text/plain": [
       "'Hello'"
      ]
     },
     "execution_count": 10,
     "metadata": {},
     "output_type": "execute_result"
    }
   ],
   "source": [
    "# Printing\n",
    "x = 'Hello'\n",
    "x"
   ]
  },
  {
   "cell_type": "code",
   "execution_count": 11,
   "id": "d99c7f11",
   "metadata": {},
   "outputs": [
    {
     "name": "stdout",
     "output_type": "stream",
     "text": [
      "Hello\n"
     ]
    }
   ],
   "source": [
    "print(x)"
   ]
  },
  {
   "cell_type": "code",
   "execution_count": 14,
   "id": "682bc626",
   "metadata": {},
   "outputs": [
    {
     "name": "stdout",
     "output_type": "stream",
     "text": [
      "My age is: 21, my name is: Emma\n"
     ]
    }
   ],
   "source": [
    "# Using variables in print command\n",
    "num = 21\n",
    "name = 'Emma'\n",
    "print('My age is: {}, my name is: {}'.format(num,name))"
   ]
  },
  {
   "cell_type": "code",
   "execution_count": 15,
   "id": "fe1c8986",
   "metadata": {},
   "outputs": [
    {
     "name": "stdout",
     "output_type": "stream",
     "text": [
      "My age is: Emma, my name is: 21\n"
     ]
    }
   ],
   "source": [
    "print('My age is: {1}, my name is: {0}'.format(num,name))"
   ]
  },
  {
   "cell_type": "code",
   "execution_count": 16,
   "id": "46af802b",
   "metadata": {},
   "outputs": [
    {
     "name": "stdout",
     "output_type": "stream",
     "text": [
      "My age is: Emma, my name is: 21\n"
     ]
    }
   ],
   "source": [
    "print('My age is: {two}, my name is: {one}'.format(one=num,two=name))"
   ]
  },
  {
   "cell_type": "code",
   "execution_count": 17,
   "id": "d54a2186",
   "metadata": {},
   "outputs": [
    {
     "name": "stdout",
     "output_type": "stream",
     "text": [
      "My age is: 21, my name is: Emma\n"
     ]
    }
   ],
   "source": [
    "print('My age is: ' + str(num) + ', my name is: ' + name)"
   ]
  },
  {
   "cell_type": "code",
   "execution_count": 18,
   "id": "ff654458",
   "metadata": {},
   "outputs": [
    {
     "name": "stdout",
     "output_type": "stream",
     "text": [
      "My age is: 21, my name is: Emma\n"
     ]
    }
   ],
   "source": [
    "print('My age is: %s, my name is: %s' % (num, name))"
   ]
  },
  {
   "cell_type": "markdown",
   "id": "59b934d9",
   "metadata": {},
   "source": [
    "$\\Rightarrow$ More info can be found here: [https://pyformat.info/](https://pyformat.info/)"
   ]
  },
  {
   "cell_type": "markdown",
   "id": "8d112b81",
   "metadata": {},
   "source": [
    "### c) Lists"
   ]
  },
  {
   "cell_type": "code",
   "execution_count": 21,
   "id": "e6bcf978",
   "metadata": {},
   "outputs": [
    {
     "data": {
      "text/plain": [
       "['hi', 1, [1, 2]]"
      ]
     },
     "execution_count": 21,
     "metadata": {},
     "output_type": "execute_result"
    }
   ],
   "source": [
    "# Lists are created with square brackets\n",
    "[1, 2, 3]\n",
    "\n",
    "# Nesting is possible\n",
    "['hi', 1, [1, 2]]"
   ]
  },
  {
   "cell_type": "code",
   "execution_count": 28,
   "id": "d3408163",
   "metadata": {},
   "outputs": [
    {
     "data": {
      "text/plain": [
       "['a', 'b', 'c', 'd', 5]"
      ]
     },
     "execution_count": 28,
     "metadata": {},
     "output_type": "execute_result"
    }
   ],
   "source": [
    "# For later reuse: let us assign a variable\n",
    "my_list = ['a', 'b', 'c']\n",
    "# Append another entry\n",
    "my_list.append('d')\n",
    "# Strings and numbers can be mixed\n",
    "my_list.append(5)\n",
    "# Show\n",
    "my_list"
   ]
  },
  {
   "cell_type": "code",
   "execution_count": 23,
   "id": "48b8be9f",
   "metadata": {},
   "outputs": [
    {
     "data": {
      "text/plain": [
       "'a'"
      ]
     },
     "execution_count": 23,
     "metadata": {},
     "output_type": "execute_result"
    }
   ],
   "source": [
    "# Output the first element (attention: python index starts from 0 !!!)\n",
    "my_list[0]"
   ]
  },
  {
   "cell_type": "code",
   "execution_count": 24,
   "id": "a7f8c3fe",
   "metadata": {},
   "outputs": [
    {
     "data": {
      "text/plain": [
       "'b'"
      ]
     },
     "execution_count": 24,
     "metadata": {},
     "output_type": "execute_result"
    }
   ],
   "source": [
    "# Output the second element\n",
    "my_list[1]"
   ]
  },
  {
   "cell_type": "code",
   "execution_count": 25,
   "id": "92eb6da2",
   "metadata": {},
   "outputs": [
    {
     "data": {
      "text/plain": [
       "['b', 'c', 'd', 5]"
      ]
     },
     "execution_count": 25,
     "metadata": {},
     "output_type": "execute_result"
    }
   ],
   "source": [
    "# Output the elements starting from the second one\n",
    "my_list[1:]"
   ]
  },
  {
   "cell_type": "code",
   "execution_count": 29,
   "id": "f12715dd",
   "metadata": {},
   "outputs": [
    {
     "data": {
      "text/plain": [
       "['a']"
      ]
     },
     "execution_count": 29,
     "metadata": {},
     "output_type": "execute_result"
    }
   ],
   "source": [
    "# What is the result here?\n",
    "my_list[:1]"
   ]
  },
  {
   "cell_type": "code",
   "execution_count": 30,
   "id": "869ee04a",
   "metadata": {},
   "outputs": [
    {
     "data": {
      "text/plain": [
       "5"
      ]
     },
     "execution_count": 30,
     "metadata": {},
     "output_type": "execute_result"
    }
   ],
   "source": [
    "my_list[-1]"
   ]
  },
  {
   "cell_type": "code",
   "execution_count": 31,
   "id": "7aa2ce86",
   "metadata": {},
   "outputs": [
    {
     "data": {
      "text/plain": [
       "['d', 5]"
      ]
     },
     "execution_count": 31,
     "metadata": {},
     "output_type": "execute_result"
    }
   ],
   "source": [
    "my_list[-2:]"
   ]
  },
  {
   "cell_type": "code",
   "execution_count": 32,
   "id": "dc802a37",
   "metadata": {},
   "outputs": [
    {
     "data": {
      "text/plain": [
       "['b', 'd']"
      ]
     },
     "execution_count": 32,
     "metadata": {},
     "output_type": "execute_result"
    }
   ],
   "source": [
    "my_list[1::2]"
   ]
  },
  {
   "cell_type": "code",
   "execution_count": 33,
   "id": "23efb622",
   "metadata": {},
   "outputs": [
    {
     "data": {
      "text/plain": [
       "['b', 'a']"
      ]
     },
     "execution_count": 33,
     "metadata": {},
     "output_type": "execute_result"
    }
   ],
   "source": [
    "my_list[1::-1]"
   ]
  },
  {
   "cell_type": "code",
   "execution_count": 34,
   "id": "3b015f36",
   "metadata": {},
   "outputs": [
    {
     "data": {
      "text/plain": [
       "[5, 'c', 'a']"
      ]
     },
     "execution_count": 34,
     "metadata": {},
     "output_type": "execute_result"
    }
   ],
   "source": [
    "my_list[4::-2]"
   ]
  },
  {
   "cell_type": "code",
   "execution_count": 35,
   "id": "616a0679",
   "metadata": {},
   "outputs": [
    {
     "data": {
      "text/plain": [
       "['NEW', 'b', 'c', 'd', 5]"
      ]
     },
     "execution_count": 35,
     "metadata": {},
     "output_type": "execute_result"
    }
   ],
   "source": [
    "my_list[0] = 'NEW'\n",
    "my_list"
   ]
  },
  {
   "cell_type": "code",
   "execution_count": 36,
   "id": "4df78817",
   "metadata": {},
   "outputs": [
    {
     "data": {
      "text/plain": [
       "[4, 5, ['target']]"
      ]
     },
     "execution_count": 36,
     "metadata": {},
     "output_type": "execute_result"
    }
   ],
   "source": [
    "# Example of a nested list\n",
    "nest = [1, 2, 3, [4, 5, ['target']]]\n",
    "# The fourth element (with index 3) is a list\n",
    "nest[3]"
   ]
  },
  {
   "cell_type": "code",
   "execution_count": 37,
   "id": "0043abf3",
   "metadata": {},
   "outputs": [
    {
     "data": {
      "text/plain": [
       "['target']"
      ]
     },
     "execution_count": 37,
     "metadata": {},
     "output_type": "execute_result"
    }
   ],
   "source": [
    "# The third element (with index 2) is a list\n",
    "nest[3][2]"
   ]
  },
  {
   "cell_type": "code",
   "execution_count": 38,
   "id": "96ade831",
   "metadata": {},
   "outputs": [
    {
     "data": {
      "text/plain": [
       "'target'"
      ]
     },
     "execution_count": 38,
     "metadata": {},
     "output_type": "execute_result"
    }
   ],
   "source": [
    "# The first element is string 'target'\n",
    "nest[3][2][0]"
   ]
  },
  {
   "cell_type": "code",
   "execution_count": 39,
   "id": "d417ffa0",
   "metadata": {},
   "outputs": [
    {
     "data": {
      "text/plain": [
       "'r'"
      ]
     },
     "execution_count": 39,
     "metadata": {},
     "output_type": "execute_result"
    }
   ],
   "source": [
    "# Strings are lists in python; you can access their elements via []\n",
    "nest[3][2][0][2]"
   ]
  },
  {
   "cell_type": "code",
   "execution_count": 40,
   "id": "707a56ca",
   "metadata": {},
   "outputs": [
    {
     "data": {
      "text/plain": [
       "1"
      ]
     },
     "execution_count": 40,
     "metadata": {},
     "output_type": "execute_result"
    }
   ],
   "source": [
    "# What is the index of element '2'? (in R: which())\n",
    "nest.index(2)"
   ]
  },
  {
   "cell_type": "markdown",
   "id": "4e946762",
   "metadata": {},
   "source": [
    "### d) Dictionaries"
   ]
  },
  {
   "cell_type": "markdown",
   "id": "7981a3e1",
   "metadata": {},
   "source": [
    "A dictionary can be created via \"{}\". <br>\n",
    "Individual entries are separated by **commas**.<br>\n",
    "Each entry consists of a **key-value pair**.<br>\n",
    "The key is a **string**; the value can be anything."
   ]
  },
  {
   "cell_type": "code",
   "execution_count": 41,
   "id": "7e571e0d",
   "metadata": {},
   "outputs": [
    {
     "data": {
      "text/plain": [
       "{'key1': 'value1', 'key2': 'value2'}"
      ]
     },
     "execution_count": 41,
     "metadata": {},
     "output_type": "execute_result"
    }
   ],
   "source": [
    "d = {'key1': 'value1', 'key2': 'value2'}\n",
    "d"
   ]
  },
  {
   "cell_type": "code",
   "execution_count": 42,
   "id": "3a2ba4a7",
   "metadata": {},
   "outputs": [
    {
     "data": {
      "text/plain": [
       "{'key1': 'value1', 'key2': 2}"
      ]
     },
     "execution_count": 42,
     "metadata": {},
     "output_type": "execute_result"
    }
   ],
   "source": [
    "d2 = {'key1': 'value1', 'key2': 2}\n",
    "d2"
   ]
  },
  {
   "cell_type": "code",
   "execution_count": 43,
   "id": "02c1fcf7",
   "metadata": {},
   "outputs": [
    {
     "data": {
      "text/plain": [
       "'value1'"
      ]
     },
     "execution_count": 43,
     "metadata": {},
     "output_type": "execute_result"
    }
   ],
   "source": [
    "# An element is accessed via the key\n",
    "d['key1']"
   ]
  },
  {
   "cell_type": "code",
   "execution_count": 44,
   "id": "5b23385f",
   "metadata": {},
   "outputs": [
    {
     "data": {
      "text/plain": [
       "2"
      ]
     },
     "execution_count": 44,
     "metadata": {},
     "output_type": "execute_result"
    }
   ],
   "source": [
    "d2['key2']"
   ]
  },
  {
   "cell_type": "code",
   "execution_count": 45,
   "id": "4352074e",
   "metadata": {},
   "outputs": [
    {
     "data": {
      "text/plain": [
       "dict_keys(['key1', 'key2'])"
      ]
     },
     "execution_count": 45,
     "metadata": {},
     "output_type": "execute_result"
    }
   ],
   "source": [
    "# Get all the dictionary keys:\n",
    "d.keys()"
   ]
  },
  {
   "cell_type": "code",
   "execution_count": 46,
   "id": "1c78d9f9",
   "metadata": {},
   "outputs": [
    {
     "data": {
      "text/plain": [
       "'key2'"
      ]
     },
     "execution_count": 46,
     "metadata": {},
     "output_type": "execute_result"
    }
   ],
   "source": [
    "# To access via indexes, the dict_keys should be first converted to a list:\n",
    "list(d.keys())[1]"
   ]
  },
  {
   "cell_type": "code",
   "execution_count": 47,
   "id": "54c801e6",
   "metadata": {},
   "outputs": [
    {
     "data": {
      "text/plain": [
       "dict_values(['value1', 'value2'])"
      ]
     },
     "execution_count": 47,
     "metadata": {},
     "output_type": "execute_result"
    }
   ],
   "source": [
    "# Get all the dictionary values:\n",
    "d.values()"
   ]
  },
  {
   "cell_type": "code",
   "execution_count": 48,
   "id": "d822b0ca",
   "metadata": {},
   "outputs": [
    {
     "data": {
      "text/plain": [
       "dict_items([('key1', 'value1'), ('key2', 'value2')])"
      ]
     },
     "execution_count": 48,
     "metadata": {},
     "output_type": "execute_result"
    }
   ],
   "source": [
    "# Get all the dictionary items, i.e. key-value pairs:\n",
    "d.items()"
   ]
  },
  {
   "cell_type": "markdown",
   "id": "dea1d9a1",
   "metadata": {},
   "source": [
    "### e) Tuples"
   ]
  },
  {
   "cell_type": "code",
   "execution_count": 49,
   "id": "ea7e7922",
   "metadata": {},
   "outputs": [
    {
     "data": {
      "text/plain": [
       "1"
      ]
     },
     "execution_count": 49,
     "metadata": {},
     "output_type": "execute_result"
    }
   ],
   "source": [
    "# A tuple can be generated via ()\n",
    "t = (1,2,3)\n",
    "# A tuple is like a list, e.g., accessed via [] ...\n",
    "t[0]"
   ]
  },
  {
   "cell_type": "code",
   "execution_count": 50,
   "id": "406a9ddf",
   "metadata": {},
   "outputs": [
    {
     "ename": "TypeError",
     "evalue": "'tuple' object does not support item assignment",
     "output_type": "error",
     "traceback": [
      "\u001b[1;31m---------------------------------------------------------------------------\u001b[0m",
      "\u001b[1;31mTypeError\u001b[0m                                 Traceback (most recent call last)",
      "Cell \u001b[1;32mIn[50], line 2\u001b[0m\n\u001b[0;32m      1\u001b[0m \u001b[38;5;66;03m#... but its values cannot be overwritten\u001b[39;00m\n\u001b[1;32m----> 2\u001b[0m \u001b[43mt\u001b[49m\u001b[43m[\u001b[49m\u001b[38;5;241;43m0\u001b[39;49m\u001b[43m]\u001b[49m \u001b[38;5;241m=\u001b[39m \u001b[38;5;124m'\u001b[39m\u001b[38;5;124mNEW\u001b[39m\u001b[38;5;124m'\u001b[39m\n",
      "\u001b[1;31mTypeError\u001b[0m: 'tuple' object does not support item assignment"
     ]
    }
   ],
   "source": [
    "#... but its values cannot be overwritten\n",
    "t[0] = 'NEW'"
   ]
  },
  {
   "cell_type": "markdown",
   "id": "7da8398f",
   "metadata": {},
   "source": [
    "### f) Sets"
   ]
  },
  {
   "cell_type": "code",
   "execution_count": 53,
   "id": "70705cc0",
   "metadata": {},
   "outputs": [],
   "source": [
    "# A set can be generated via {}\n",
    "set1 = {1,2,3}\n",
    "# A set ignores the repetitive elements\n",
    "set2 = {1,2,3,1,2,1,2,3,3,3,3,2,2,2,1,1,2}"
   ]
  },
  {
   "cell_type": "code",
   "execution_count": 54,
   "id": "2d72119a",
   "metadata": {},
   "outputs": [
    {
     "name": "stdout",
     "output_type": "stream",
     "text": [
      "{1, 2, 3}\n"
     ]
    }
   ],
   "source": [
    "print(set1)"
   ]
  },
  {
   "cell_type": "code",
   "execution_count": 52,
   "id": "06ff8f54",
   "metadata": {},
   "outputs": [
    {
     "name": "stdout",
     "output_type": "stream",
     "text": [
      "{1, 2, 3}\n"
     ]
    }
   ],
   "source": [
    "print(set2)"
   ]
  },
  {
   "cell_type": "code",
   "execution_count": 55,
   "id": "aba179de",
   "metadata": {},
   "outputs": [
    {
     "name": "stdout",
     "output_type": "stream",
     "text": [
      "{1, 3, 5}\n"
     ]
    }
   ],
   "source": [
    "# Function set() can be used to create a set from a list\n",
    "set3 = set([1,3,5,3,1])\n",
    "print(set3)"
   ]
  },
  {
   "cell_type": "code",
   "execution_count": 56,
   "id": "9177e6ce",
   "metadata": {},
   "outputs": [
    {
     "data": {
      "text/plain": [
       "{1, 2, 3, 5}"
      ]
     },
     "execution_count": 56,
     "metadata": {},
     "output_type": "execute_result"
    }
   ],
   "source": [
    "# Operations on sets:\n",
    "# Union\n",
    "set1 | set3"
   ]
  },
  {
   "cell_type": "code",
   "execution_count": 57,
   "id": "c222c40f",
   "metadata": {},
   "outputs": [
    {
     "data": {
      "text/plain": [
       "{1, 3}"
      ]
     },
     "execution_count": 57,
     "metadata": {},
     "output_type": "execute_result"
    }
   ],
   "source": [
    "# Intersection\n",
    "set1 & set3"
   ]
  },
  {
   "cell_type": "code",
   "execution_count": 58,
   "id": "42320087",
   "metadata": {},
   "outputs": [
    {
     "name": "stdout",
     "output_type": "stream",
     "text": [
      "{2}\n",
      "{5}\n"
     ]
    }
   ],
   "source": [
    "# Difference\n",
    "print(set1 - set3)\n",
    "print(set3 - set1)"
   ]
  },
  {
   "cell_type": "code",
   "execution_count": 60,
   "id": "0a1b34cb",
   "metadata": {},
   "outputs": [
    {
     "data": {
      "text/plain": [
       "{2, 5}"
      ]
     },
     "execution_count": 60,
     "metadata": {},
     "output_type": "execute_result"
    }
   ],
   "source": [
    "# Symmetric Difference\n",
    "set1 ^ set3"
   ]
  },
  {
   "cell_type": "markdown",
   "id": "11853fcd",
   "metadata": {},
   "source": [
    "### g) Booleans"
   ]
  },
  {
   "cell_type": "code",
   "execution_count": 62,
   "id": "5ab5c62b",
   "metadata": {},
   "outputs": [
    {
     "data": {
      "text/plain": [
       "False"
      ]
     },
     "execution_count": 62,
     "metadata": {},
     "output_type": "execute_result"
    }
   ],
   "source": [
    "# Python Booleans are True and False (Python is case-sensitive)\n",
    "True; False"
   ]
  },
  {
   "cell_type": "markdown",
   "id": "9760716d",
   "metadata": {},
   "source": [
    "## 2.3 Comparison Operators"
   ]
  },
  {
   "cell_type": "code",
   "execution_count": 63,
   "id": "e67778ed",
   "metadata": {},
   "outputs": [
    {
     "data": {
      "text/plain": [
       "False"
      ]
     },
     "execution_count": 63,
     "metadata": {},
     "output_type": "execute_result"
    }
   ],
   "source": [
    "# Comparison operators are similar to the ones in R:\n",
    "# Greater than\n",
    "1 > 2"
   ]
  },
  {
   "cell_type": "code",
   "execution_count": 64,
   "id": "b18a6bd4",
   "metadata": {},
   "outputs": [
    {
     "data": {
      "text/plain": [
       "True"
      ]
     },
     "execution_count": 64,
     "metadata": {},
     "output_type": "execute_result"
    }
   ],
   "source": [
    "# Less than\n",
    "1 < 2"
   ]
  },
  {
   "cell_type": "code",
   "execution_count": 65,
   "id": "fc70981d",
   "metadata": {},
   "outputs": [
    {
     "data": {
      "text/plain": [
       "True"
      ]
     },
     "execution_count": 65,
     "metadata": {},
     "output_type": "execute_result"
    }
   ],
   "source": [
    "# Greater or equal\n",
    "1 >= 1"
   ]
  },
  {
   "cell_type": "code",
   "execution_count": 66,
   "id": "d0c4f50b",
   "metadata": {},
   "outputs": [
    {
     "data": {
      "text/plain": [
       "True"
      ]
     },
     "execution_count": 66,
     "metadata": {},
     "output_type": "execute_result"
    }
   ],
   "source": [
    "# Less than or equal\n",
    "1 <= 4"
   ]
  },
  {
   "cell_type": "code",
   "execution_count": 67,
   "id": "d0c6d09e",
   "metadata": {},
   "outputs": [
    {
     "data": {
      "text/plain": [
       "True"
      ]
     },
     "execution_count": 67,
     "metadata": {},
     "output_type": "execute_result"
    }
   ],
   "source": [
    "# Equal\n",
    "1 == 1"
   ]
  },
  {
   "cell_type": "code",
   "execution_count": 68,
   "id": "5808f482",
   "metadata": {},
   "outputs": [
    {
     "data": {
      "text/plain": [
       "True"
      ]
     },
     "execution_count": 68,
     "metadata": {},
     "output_type": "execute_result"
    }
   ],
   "source": [
    "# Unequal\n",
    "\"hi\" != \"hey\""
   ]
  },
  {
   "cell_type": "markdown",
   "id": "b87e87bb",
   "metadata": {},
   "source": [
    "## 2.4 Logical Operators"
   ]
  },
  {
   "cell_type": "code",
   "execution_count": 69,
   "id": "8c8350de",
   "metadata": {},
   "outputs": [
    {
     "data": {
      "text/plain": [
       "False"
      ]
     },
     "execution_count": 69,
     "metadata": {},
     "output_type": "execute_result"
    }
   ],
   "source": [
    "# And\n",
    "(1 > 2) and (2 < 3)"
   ]
  },
  {
   "cell_type": "code",
   "execution_count": 71,
   "id": "30773116",
   "metadata": {},
   "outputs": [
    {
     "name": "stdout",
     "output_type": "stream",
     "text": [
      "True\n",
      "True\n"
     ]
    }
   ],
   "source": [
    "# Or\n",
    "print((1 > 2) or (2 < 3))\n",
    "print((1 == 2) or (2 == 3) or (4 == 4))"
   ]
  },
  {
   "cell_type": "code",
   "execution_count": 72,
   "id": "452aec7d",
   "metadata": {},
   "outputs": [
    {
     "data": {
      "text/plain": [
       "False"
      ]
     },
     "execution_count": 72,
     "metadata": {},
     "output_type": "execute_result"
    }
   ],
   "source": [
    "# \"Is an element of\"\n",
    "'x' in [1,2,3]"
   ]
  },
  {
   "cell_type": "code",
   "execution_count": 73,
   "id": "de82be1b",
   "metadata": {},
   "outputs": [
    {
     "data": {
      "text/plain": [
       "True"
      ]
     },
     "execution_count": 73,
     "metadata": {},
     "output_type": "execute_result"
    }
   ],
   "source": [
    "'x' in ['x','y','z']"
   ]
  },
  {
   "cell_type": "code",
   "execution_count": 74,
   "id": "1f0b25be",
   "metadata": {},
   "outputs": [
    {
     "data": {
      "text/plain": [
       "False"
      ]
     },
     "execution_count": 74,
     "metadata": {},
     "output_type": "execute_result"
    }
   ],
   "source": [
    "# Use \"not\" for negation\n",
    "not('x' in ['x','y','z'])"
   ]
  },
  {
   "cell_type": "markdown",
   "id": "26821aaf",
   "metadata": {},
   "source": [
    "## 2.4 if-statements"
   ]
  },
  {
   "cell_type": "code",
   "execution_count": 76,
   "id": "861e266c",
   "metadata": {},
   "outputs": [
    {
     "name": "stdout",
     "output_type": "stream",
     "text": [
      "Yes!\n"
     ]
    }
   ],
   "source": [
    "# Python uses very few brackets, because indentation is part of the syntax:\n",
    "# If-Statement\n",
    "if 1 < 2:\n",
    "    print('Yes!')"
   ]
  },
  {
   "cell_type": "code",
   "execution_count": 77,
   "id": "28a9033c",
   "metadata": {},
   "outputs": [
    {
     "name": "stdout",
     "output_type": "stream",
     "text": [
      "first\n"
     ]
    }
   ],
   "source": [
    "# If - Else\n",
    "if 1 < 2:\n",
    "    print('first')\n",
    "else:\n",
    "    print('last')"
   ]
  },
  {
   "cell_type": "code",
   "execution_count": 78,
   "id": "c2c72662",
   "metadata": {},
   "outputs": [
    {
     "name": "stdout",
     "output_type": "stream",
     "text": [
      "middle\n"
     ]
    }
   ],
   "source": [
    "if 1 == 2:\n",
    "    print('first')\n",
    "else:\n",
    "    if 3 == 3:\n",
    "        print('middle')\n",
    "    else:\n",
    "        print('last')"
   ]
  },
  {
   "cell_type": "code",
   "execution_count": 79,
   "id": "57501ca4",
   "metadata": {},
   "outputs": [
    {
     "name": "stdout",
     "output_type": "stream",
     "text": [
      "middle\n"
     ]
    }
   ],
   "source": [
    "# Else if is abbreviated to elif\n",
    "if 1 == 2:\n",
    "    print('first')\n",
    "elif 3 == 3:\n",
    "    print('middle')\n",
    "else:\n",
    "    print('last')"
   ]
  },
  {
   "cell_type": "markdown",
   "id": "95f616bd",
   "metadata": {},
   "source": [
    "## 2.5 Loops"
   ]
  },
  {
   "cell_type": "markdown",
   "id": "2ca8686e",
   "metadata": {},
   "source": [
    "### a) For-loop"
   ]
  },
  {
   "cell_type": "code",
   "execution_count": 81,
   "id": "a42892e2",
   "metadata": {},
   "outputs": [
    {
     "name": "stdout",
     "output_type": "stream",
     "text": [
      "1\n",
      "2\n",
      "3\n",
      "4\n",
      "5\n"
     ]
    }
   ],
   "source": [
    "# Define a list to iterate over:\n",
    "seq = [1,2,3,4,5]\n",
    "\n",
    "# The logic is as in R, but brackets are not needed;\n",
    "# indentation is part of the syntax:\n",
    "for item in seq:\n",
    "    print(item)"
   ]
  },
  {
   "cell_type": "markdown",
   "id": "fc586c20",
   "metadata": {},
   "source": [
    "### b) while-loop"
   ]
  },
  {
   "cell_type": "code",
   "execution_count": 82,
   "id": "bdbb411d",
   "metadata": {},
   "outputs": [
    {
     "name": "stdout",
     "output_type": "stream",
     "text": [
      "i is now: 1\n",
      "i is now: 2\n",
      "i is now: 3\n",
      "i is now: 4\n"
     ]
    }
   ],
   "source": [
    "# The idea is as usual, again with sparse syntax\n",
    "i = 1\n",
    "while i < 5:\n",
    "    print('i is now: {}'.format(i))\n",
    "    i += 1 # or i = i+1"
   ]
  },
  {
   "cell_type": "code",
   "execution_count": 83,
   "id": "6a4f4d7d",
   "metadata": {},
   "outputs": [
    {
     "name": "stdout",
     "output_type": "stream",
     "text": [
      "Loop is over, i is: 5\n"
     ]
    }
   ],
   "source": [
    "print('Loop is over, i is: ' + str(i))"
   ]
  },
  {
   "cell_type": "markdown",
   "id": "8905f858",
   "metadata": {},
   "source": [
    "### c) range()-Function"
   ]
  },
  {
   "cell_type": "code",
   "execution_count": 84,
   "id": "99167317",
   "metadata": {},
   "outputs": [
    {
     "data": {
      "text/plain": [
       "range(0, 5)"
      ]
     },
     "execution_count": 84,
     "metadata": {},
     "output_type": "execute_result"
    }
   ],
   "source": [
    "# range(n) creates an object that can be used for iteration;\n",
    "# similar to seq_len(n) in R:\n",
    "range(5)"
   ]
  },
  {
   "cell_type": "code",
   "execution_count": 85,
   "id": "586f5f07",
   "metadata": {},
   "outputs": [
    {
     "name": "stdout",
     "output_type": "stream",
     "text": [
      "0\n",
      "1\n",
      "2\n",
      "3\n",
      "4\n"
     ]
    }
   ],
   "source": [
    "for i in range(5):\n",
    "    print(i)"
   ]
  },
  {
   "cell_type": "code",
   "execution_count": 86,
   "id": "61c441c5",
   "metadata": {},
   "outputs": [
    {
     "name": "stdout",
     "output_type": "stream",
     "text": [
      "[0, 1, 2, 3, 4]\n"
     ]
    }
   ],
   "source": [
    "# Unlike the seq_len(n), range(n) is not a vector / list.\n",
    "# To print the elements, first convert range(n) into a list:\n",
    "r = range(5)\n",
    "rl = list(range(5))\n",
    "print(rl)"
   ]
  },
  {
   "cell_type": "code",
   "execution_count": 87,
   "id": "caeb3d97",
   "metadata": {},
   "outputs": [
    {
     "data": {
      "text/plain": [
       "[5, 6, 7, 8, 9, 10, 11, 12, 13, 14, 15, 16, 17, 18, 19]"
      ]
     },
     "execution_count": 87,
     "metadata": {},
     "output_type": "execute_result"
    }
   ],
   "source": [
    "# Range from ... to ... (attention: the last element is excluded again)\n",
    "list(range(5, 20))"
   ]
  },
  {
   "cell_type": "markdown",
   "id": "078cc9b5",
   "metadata": {},
   "source": [
    "### Exercise - Loops"
   ]
  },
  {
   "cell_type": "markdown",
   "id": "0b1a770e",
   "metadata": {},
   "source": [
    "Write a loop that, for each number from 1 to 100, prints out\n",
    "whether it is\n",
    "- divisible by 9\n",
    "- divisible by 17\n",
    "- divisible by neither of them."
   ]
  },
  {
   "cell_type": "markdown",
   "id": "73bedc53",
   "metadata": {},
   "source": [
    "## 2.6 List Comprehensions"
   ]
  },
  {
   "cell_type": "code",
   "execution_count": 88,
   "id": "9e639d4c",
   "metadata": {},
   "outputs": [
    {
     "ename": "TypeError",
     "evalue": "unsupported operand type(s) for ** or pow(): 'list' and 'int'",
     "output_type": "error",
     "traceback": [
      "\u001b[1;31m---------------------------------------------------------------------------\u001b[0m",
      "\u001b[1;31mTypeError\u001b[0m                                 Traceback (most recent call last)",
      "Cell \u001b[1;32mIn[88], line 4\u001b[0m\n\u001b[0;32m      1\u001b[0m \u001b[38;5;66;03m# One cannot directly apply arithmetic operations to lists\u001b[39;00m\n\u001b[0;32m      2\u001b[0m \u001b[38;5;66;03m# (unlike R-vectors):\u001b[39;00m\n\u001b[0;32m      3\u001b[0m x \u001b[38;5;241m=\u001b[39m [\u001b[38;5;241m1\u001b[39m,\u001b[38;5;241m2\u001b[39m,\u001b[38;5;241m3\u001b[39m,\u001b[38;5;241m4\u001b[39m]\n\u001b[1;32m----> 4\u001b[0m \u001b[43mx\u001b[49m\u001b[43m \u001b[49m\u001b[38;5;241;43m*\u001b[39;49m\u001b[38;5;241;43m*\u001b[39;49m\u001b[43m \u001b[49m\u001b[38;5;241;43m2\u001b[39;49m\n",
      "\u001b[1;31mTypeError\u001b[0m: unsupported operand type(s) for ** or pow(): 'list' and 'int'"
     ]
    }
   ],
   "source": [
    "# One cannot directly apply arithmetic operations to lists\n",
    "# (unlike R-vectors):\n",
    "x = [1,2,3,4]\n",
    "x ** 2"
   ]
  },
  {
   "cell_type": "code",
   "execution_count": 90,
   "id": "ecf970c8",
   "metadata": {},
   "outputs": [
    {
     "name": "stdout",
     "output_type": "stream",
     "text": [
      "[1, 4, 9, 16]\n"
     ]
    }
   ],
   "source": [
    "# A complicated alternative would be: (it can be even more complicated)\n",
    "out = []\n",
    "for item in x:\n",
    "    out.append(item**2)\n",
    "print(out)"
   ]
  },
  {
   "cell_type": "code",
   "execution_count": 91,
   "id": "8c2132d3",
   "metadata": {},
   "outputs": [
    {
     "name": "stdout",
     "output_type": "stream",
     "text": [
      "[1, 4, 9, 16]\n"
     ]
    }
   ],
   "source": [
    "# A shorter alternative is List Comprehensions;\n",
    "# a shortened version of the for-loop:\n",
    "y = [item**2 for item in x]\n",
    "print(y)"
   ]
  },
  {
   "cell_type": "code",
   "execution_count": 93,
   "id": "8a1b756c",
   "metadata": {},
   "outputs": [
    {
     "name": "stdout",
     "output_type": "stream",
     "text": [
      "[1, 2, 3, 4]\n",
      "[0, 0, 1, 1]\n"
     ]
    }
   ],
   "source": [
    "# List comprehensions can be supplemented with with \"if\" and \"else\":\n",
    "y = [0 if item < 2.5 else 1 for item in x]\n",
    "print(x)\n",
    "print(y)"
   ]
  },
  {
   "cell_type": "markdown",
   "id": "37c2ad6d",
   "metadata": {},
   "source": [
    "## 2.7 Functions"
   ]
  },
  {
   "cell_type": "code",
   "execution_count": 95,
   "id": "32c9ae8c",
   "metadata": {},
   "outputs": [
    {
     "data": {
      "text/plain": [
       "<function __main__.my_func(param1='default')>"
      ]
     },
     "execution_count": 95,
     "metadata": {},
     "output_type": "execute_result"
    }
   ],
   "source": [
    "# A function is defined via the keyword 'def',\n",
    "# followed by the function name and its parameters:\n",
    "def my_func(param1 = 'default'):\n",
    "    \"\"\"\n",
    "    Here the so-called docstring appears, a kind of help for functions.\n",
    "    \"\"\"\n",
    "    print(param1)\n",
    "    \n",
    "# Show the function:\n",
    "my_func"
   ]
  },
  {
   "cell_type": "code",
   "execution_count": 96,
   "id": "fce9eb97",
   "metadata": {},
   "outputs": [
    {
     "name": "stdout",
     "output_type": "stream",
     "text": [
      "Help on function my_func in module __main__:\n",
      "\n",
      "my_func(param1='default')\n",
      "    Here the so-called docstring appears, a kind of help for functions.\n",
      "\n"
     ]
    }
   ],
   "source": [
    "# You can check the docstring of a function via help():\n",
    "help(my_func)"
   ]
  },
  {
   "cell_type": "code",
   "execution_count": 97,
   "id": "1c970236",
   "metadata": {},
   "outputs": [
    {
     "name": "stdout",
     "output_type": "stream",
     "text": [
      "default\n"
     ]
    }
   ],
   "source": [
    "# Execute the function with its default parameter:\n",
    "my_func()"
   ]
  },
  {
   "cell_type": "code",
   "execution_count": 98,
   "id": "2703b06c",
   "metadata": {},
   "outputs": [
    {
     "name": "stdout",
     "output_type": "stream",
     "text": [
      "new param\n"
     ]
    }
   ],
   "source": [
    "# Execute the function with a new parameter:\n",
    "my_func('new param')"
   ]
  },
  {
   "cell_type": "code",
   "execution_count": 99,
   "id": "5e383626",
   "metadata": {},
   "outputs": [
    {
     "name": "stdout",
     "output_type": "stream",
     "text": [
      "new param\n"
     ]
    }
   ],
   "source": [
    "# When the function has more than one parameter, it is better to\n",
    "# explicitly state the parameter you specify\n",
    "my_func(param1 = 'new param')"
   ]
  },
  {
   "cell_type": "code",
   "execution_count": 101,
   "id": "3f264cbf",
   "metadata": {},
   "outputs": [
    {
     "name": "stdout",
     "output_type": "stream",
     "text": [
      "8\n"
     ]
    }
   ],
   "source": [
    "# A function with two parameters and return\n",
    "def power(x, m = 2):\n",
    "    return x**m\n",
    "out = power(2, 3)\n",
    "print(out)"
   ]
  },
  {
   "cell_type": "markdown",
   "id": "be9934dd",
   "metadata": {},
   "source": [
    "## 2.8 Methods for Strings"
   ]
  },
  {
   "cell_type": "code",
   "execution_count": 102,
   "id": "a2a892d3",
   "metadata": {},
   "outputs": [
    {
     "data": {
      "text/plain": [
       "'hello world, good morning'"
      ]
     },
     "execution_count": 102,
     "metadata": {},
     "output_type": "execute_result"
    }
   ],
   "source": [
    "# Everything in lower case\n",
    "st = 'Hello world, Good Morning'\n",
    "st.lower()"
   ]
  },
  {
   "cell_type": "code",
   "execution_count": 103,
   "id": "231bc77c",
   "metadata": {},
   "outputs": [
    {
     "data": {
      "text/plain": [
       "'HELLO WORLD, GOOD MORNING'"
      ]
     },
     "execution_count": 103,
     "metadata": {},
     "output_type": "execute_result"
    }
   ],
   "source": [
    "# Everything in capital letters\n",
    "st.upper()"
   ]
  },
  {
   "cell_type": "code",
   "execution_count": 104,
   "id": "96059850",
   "metadata": {},
   "outputs": [
    {
     "data": {
      "text/plain": [
       "['Hello', 'world,', 'Good', 'Morning']"
      ]
     },
     "execution_count": 104,
     "metadata": {},
     "output_type": "execute_result"
    }
   ],
   "source": [
    "# Split words => list of individual words\n",
    "st.split()"
   ]
  },
  {
   "cell_type": "code",
   "execution_count": 105,
   "id": "247f108c",
   "metadata": {},
   "outputs": [
    {
     "data": {
      "text/plain": [
       "['Hello world', ' Good Morning']"
      ]
     },
     "execution_count": 105,
     "metadata": {},
     "output_type": "execute_result"
    }
   ],
   "source": [
    "# Split on a certain character\n",
    "st.split(',')"
   ]
  },
  {
   "cell_type": "code",
   "execution_count": 106,
   "id": "69b9320b",
   "metadata": {},
   "outputs": [
    {
     "data": {
      "text/plain": [
       "' Good Morning'"
      ]
     },
     "execution_count": 106,
     "metadata": {},
     "output_type": "execute_result"
    }
   ],
   "source": [
    "st.split(',')[1]"
   ]
  }
 ],
 "metadata": {
  "kernelspec": {
   "display_name": "python-i2ml",
   "language": "python",
   "name": "python3"
  },
  "language_info": {
   "codemirror_mode": {
    "name": "ipython",
    "version": 3
   },
   "file_extension": ".py",
   "mimetype": "text/x-python",
   "name": "python",
   "nbconvert_exporter": "python",
   "pygments_lexer": "ipython3",
   "version": "3.10.12"
  }
 },
 "nbformat": 4,
 "nbformat_minor": 5
}
