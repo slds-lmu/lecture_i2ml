{
 "cells": [
  {
   "cell_type": "markdown",
   "id": "63e21a04",
   "metadata": {},
   "source": [
    "## Solution 1: Splitting criteria"
   ]
  },
  {
   "cell_type": "code",
   "execution_count": 7,
   "id": "ffdef5d5",
   "metadata": {
    "vscode": {
     "languageId": "r"
    }
   },
   "outputs": [],
   "source": [
    "#| label: split-fun\n",
    "x <- c(1, 2, 7, 10, 20)\n",
    "y <- c(1, 1, 0.5, 10, 11)\n",
    "\n",
    "compute_mse <- function (y) mean((y - mean(y))**2)\n",
    "\n",
    "compute_total_mse <- function (yleft, yright) {\n",
    "  num_left <- length(yleft)\n",
    "  num_right <- length(yright)\n",
    "  w_mse_left <- num_left / (num_left + num_right) * compute_mse(yleft)\n",
    "  w_mse_right <- num_right / (num_left + num_right) * compute_mse(yright)\n",
    "  w_mse_left + w_mse_right\n",
    "}\n",
    "\n",
    "perform_split <- function(x, y) {\n",
    "  # try out all unique points as potential split points and ...\n",
    "  unique_sorted_x <- sort(unique(x))\n",
    "  split_points <- head(unique_sorted_x, length(unique_sorted_x) - 1) + \n",
    "    0.5 * diff(unique_sorted_x)\n",
    "\n",
    "  node_mses <- lapply(\n",
    "    split_points, \n",
    "    function(i) { \n",
    "      y_left <- y[x <= i]\n",
    "      y_right <- y[x > i]\n",
    "      # ... compute SS in both groups\n",
    "      mse_split <- compute_total_mse(y_left, y_right)\n",
    "      print(sprintf(\"split at %.2f: empirical risk = %.2f\", i, mse_split))\n",
    "      mse_split\n",
    "    }\n",
    "  )\n",
    "\n",
    "  # select the split point yielding the maximum impurity reduction\n",
    "  split_points[which.min(node_mses)]\n",
    "}"
   ]
  },
  {
   "cell_type": "code",
   "execution_count": 6,
   "id": "094a00c3",
   "metadata": {
    "vscode": {
     "languageId": "r"
    }
   },
   "outputs": [
    {
     "name": "stdout",
     "output_type": "stream",
     "text": [
      "[1] \"split at 1.50: empirical risk = 19.14\"\n",
      "[1] \"split at 4.50: empirical risk = 13.43\"\n",
      "[1] \"split at 8.50: empirical risk = 0.13\"\n",
      "[1] \"split at 15.00: empirical risk = 12.64\"\n"
     ]
    },
    {
     "data": {
      "text/html": [
       "8.5"
      ],
      "text/latex": [
       "8.5"
      ],
      "text/markdown": [
       "8.5"
      ],
      "text/plain": [
       "[1] 8.5"
      ]
     },
     "metadata": {},
     "output_type": "display_data"
    }
   ],
   "source": [
    "#| label: risk-comp\n",
    "perform_split(x, y) # 3rd obs is best split point"
   ]
  }
 ],
 "metadata": {
  "kernelspec": {
   "display_name": "R",
   "language": "R",
   "name": "ir"
  },
  "language_info": {
   "codemirror_mode": "r",
   "file_extension": ".r",
   "mimetype": "text/x-r-source",
   "name": "R",
   "pygments_lexer": "r",
   "version": "4.4.0"
  }
 },
 "nbformat": 4,
 "nbformat_minor": 5
}
