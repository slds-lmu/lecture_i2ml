{
  "cells": [
    {
      "cell_type": "code",
      "execution_count": 1,
      "id": "b3a81582",
      "metadata": {},
      "outputs": [],
      "source": [
        "# general\n",
        "import numpy as np"
      ]
    },
    {
      "cell_type": "markdown",
      "id": "63e21a04",
      "metadata": {},
      "source": [
        "## Solution 1: Splitting criteria"
      ]
    },
    {
      "cell_type": "code",
      "execution_count": 29,
      "id": "f5491ccb-70ab-4b84-9e4a-f870e635b41e",
      "metadata": {},
      "outputs": [],
      "source": [
        "#| label: split-fun\n",
        "\n",
        "def find_best_split(x_train,y_train):\n",
        "    best_threshold = None\n",
        "    min_risk = np.inf\n",
        "    unique_sorted_x = np.unique(x_train)\n",
        "    unique_sorted_x.sort()\n",
        "    thresholds = (unique_sorted_x[1:] + unique_sorted_x[:-1]) / 2\n",
        "    mse = lambda y: np.mean((y - y.mean())**2)\n",
        "    \n",
        "    for t in thresholds:\n",
        "        y_left, y_right = y_train[x_train <= t], y_train[x_train > t]\n",
        "        weight_left = len(y_left) / len(y_train)\n",
        "        t_mse = weight_left * mse(y_left) + (1 - weight_left) * mse(y_right)\n",
        "        print(\"split at %.2f: empirical risk = %.2f\" % (t,t_mse))\n",
        "        if t_mse < min_risk: # save best split\n",
        "            min_risk = t_mse\n",
        "            best_threshold = t\n",
        "            \n",
        "    print(\"best split at \", best_threshold)\n",
        "    return {'threshold': best_threshold, 'empirical_risk': min_risk}"
      ]
    },
    {
      "cell_type": "code",
      "execution_count": 30,
      "id": "0a25de5f",
      "metadata": {},
      "outputs": [
        {
          "name": "stdout",
          "output_type": "stream",
          "text": [
            "split at 1.50: empirical risk = 19.14\n",
            "split at 4.50: empirical risk = 13.43\n",
            "split at 8.50: empirical risk = 0.13\n",
            "split at 15.00: empirical risk = 12.64\n",
            "best split at  8.5\n"
          ]
        },
        {
          "data": {
            "text/plain": [
              "{'threshold': 8.5, 'empirical_risk': 0.13333333333333333}"
            ]
          },
          "execution_count": 30,
          "metadata": {},
          "output_type": "execute_result"
        }
      ],
      "source": [
        "#| label: risk-comp\n",
        "x = np.array([1, 2, 7, 10, 20])\n",
        "y = np.array([1, 1, 0.5, 10, 11])\n",
        "find_best_split(x, y)"
      ]
    }
  ],
  "metadata": {
    "kernelspec": {
      "display_name": "Python (I2ML)",
      "language": "python",
      "name": "python-i2ml"
    },
    "language_info": {
      "codemirror_mode": {
        "name": "ipython",
        "version": 3
      },
      "file_extension": ".py",
      "mimetype": "text/x-python",
      "name": "python",
      "nbconvert_exporter": "python",
      "pygments_lexer": "ipython3",
      "version": "3.10.12"
    }
  },
  "nbformat": 4,
  "nbformat_minor": 5
}