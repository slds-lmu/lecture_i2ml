{
 "cells": [
  {
   "cell_type": "markdown",
   "id": "8951982b",
   "metadata": {},
   "source": [
    "***\n",
    "**Introduction to Machine Learning** <br>\n",
    "__[https://slds-lmu.github.io/i2ml/](https://slds-lmu.github.io/i2ml/)__\n",
    "***"
   ]
  },
  {
   "cell_type": "markdown",
   "id": "36c9e858",
   "metadata": {},
   "source": [
    "# Exercise sheet 8: CART"
   ]
  },
  {
   "cell_type": "code",
   "execution_count": null,
   "id": "26004c7c-2237-444e-8ee8-91147bd0af0a",
   "metadata": {},
   "outputs": [],
   "source": [
    "#| label: import\n",
    "library(mlr3verse)\n",
    "library(rattle)"
   ]
  },
  {
   "cell_type": "markdown",
   "id": "b881341c",
   "metadata": {},
   "source": [
    "## Exercise 1: Splitting criteria"
   ]
  },
  {
   "cell_type": "markdown",
   "id": "61afb778",
   "metadata": {},
   "source": [
    "Consider the following dataset:\n"
   ]
  },
  {
   "cell_type": "markdown",
   "id": "6cc8aa25",
   "metadata": {},
   "source": [
    "| x | y |\n",
    "| --- | --- |\n",
    "| 1.0 | 1.0 | \n",
    "| 2.0 | 1.0 | \n",
    "| 7.0 | 0.5 | \n",
    "| 10.0 | 10.0 | \n",
    "| 20.0 | 11.0 | "
   ]
  },
  {
   "cell_type": "markdown",
   "id": "7c337bcb",
   "metadata": {},
   "source": [
    "> a) Compute the first split point the CART algorithm would find for each data set (with pen and paper or in `R`, resp. `Python`).\n",
    "Use mean squared error (MSE) to assess the empirical risk."
   ]
  },
  {
   "cell_type": "code",
   "execution_count": null,
   "id": "1ea7160d",
   "metadata": {},
   "outputs": [],
   "source": [
    "# Enter your code here:"
   ]
  },
  {
   "cell_type": "markdown",
   "id": "84678745",
   "metadata": {},
   "source": [
    "> b) Derive the optimal constant predictor for a node $\\mathcal{N}$ when minimizing the empirical risk under $L2$ loss and explain\n",
    "why this is equivalent to minimizing “variance impurity”.\n",
    "\n",
    "> **\\# Enter your answer here:**"
   ]
  }
 ],
 "metadata": {
  "kernelspec": {
   "display_name": "Python 3 (ipykernel)",
   "language": "python",
   "name": "python3"
  },
  "language_info": {
   "codemirror_mode": {
    "name": "ipython",
    "version": 3
   },
   "file_extension": ".py",
   "mimetype": "text/x-python",
   "name": "python",
   "nbconvert_exporter": "python",
   "pygments_lexer": "ipython3",
   "version": "3.10.12"
  }
 },
 "nbformat": 4,
 "nbformat_minor": 5
}
