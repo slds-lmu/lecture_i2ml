{
 "cells": [
  {
   "cell_type": "markdown",
   "id": "8ce3c119",
   "metadata": {},
   "source": [
    "***\n",
    "**Introduction to Machine Learning** <br>\n",
    "__[https://slds-lmu.github.io/i2ml/](https://slds-lmu.github.io/i2ml/)__\n",
    "***"
   ]
  },
  {
   "cell_type": "markdown",
   "id": "15e28232",
   "metadata": {},
   "source": [
    "# Exercise sheet 9: Random Forests"
   ]
  },
  {
   "cell_type": "code",
   "execution_count": null,
   "id": "e39aaf0b",
   "metadata": {
    "vscode": {
     "languageId": "r"
    }
   },
   "outputs": [],
   "source": [
    "#| label: import\n",
    "# Consider the following libraries for this exercise sheet:\n",
    "\n",
    "library(proxy)\n",
    "library(mlr3)\n",
    "library(rpart.plot)\n",
    "library(mlr3learners)\n",
    "library(data.table)\n",
    "library(mlr3verse)"
   ]
  },
  {
   "cell_type": "markdown",
   "id": "cd1953e2",
   "metadata": {},
   "source": [
    "## Exercise 2: Classifying `spam`"
   ]
  },
  {
   "cell_type": "markdown",
   "id": "6b69a423",
   "metadata": {},
   "source": [
    "> a) Take a look at the spam dataset and shortly describe what kind of classification problem this is."
   ]
  },
  {
   "cell_type": "markdown",
   "id": "652853e0",
   "metadata": {},
   "source": [
    "<div class=\"alert alert-block alert-info\">\n",
    "<b>Hint:</b> access the corresponding task <code>?mlr3::mlr_tasks_spam</code> <br>\n",
    "</div>"
   ]
  },
  {
   "cell_type": "code",
   "execution_count": 59,
   "id": "bbe26594",
   "metadata": {
    "vscode": {
     "languageId": "r"
    }
   },
   "outputs": [],
   "source": [
    "# Enter your code here:"
   ]
  },
  {
   "cell_type": "markdown",
   "id": "ade12ec0",
   "metadata": {},
   "source": [
    "> b) Use a decision tree to predict `spam`. Re-fit the tree using two random subsets of the data (each comprising 60% of observations). How stable are the trees?"
   ]
  },
  {
   "cell_type": "markdown",
   "id": "54797cc2",
   "metadata": {},
   "source": [
    "<div class=\"alert alert-block alert-info\">\n",
    "<b>Hint:</b> Use <code>rpart.plot()</code> from the package <code>rpart.plot</code> to visualize the trees.</code> <br>\n",
    "</div>"
   ]
  },
  {
   "cell_type": "code",
   "execution_count": 60,
   "id": "a4c7249e",
   "metadata": {
    "vscode": {
     "languageId": "r"
    }
   },
   "outputs": [],
   "source": [
    "# Enter your code here:"
   ]
  },
  {
   "cell_type": "markdown",
   "id": "b3dfb278",
   "metadata": {},
   "source": [
    "> c) Forests come with a built-in estimate of their generalization ability via the out-of-bag (OOB) error. <br>\n",
    ">> (i) Show that the probability for an observation to be OOB in an arbitrary bootstrap sample converges to $\\frac{1}{e}$. <br>\n",
    ">> (ii) Use the random forest learner (`R`: `classif.ranger`, `Python`: `RandomForestClassifier()`) to fit the model and state the out-of-bag (OOB) error.\n"
   ]
  },
  {
   "cell_type": "markdown",
   "id": "b67da459",
   "metadata": {},
   "source": [
    " > *(i) Enter your answer here:*\n",
    "\n"
   ]
  },
  {
   "cell_type": "code",
   "execution_count": 61,
   "id": "972a901d",
   "metadata": {
    "vscode": {
     "languageId": "r"
    }
   },
   "outputs": [],
   "source": [
    "# (ii) Enter your code here:"
   ]
  },
  {
   "cell_type": "markdown",
   "id": "5b801377",
   "metadata": {},
   "source": [
    "> d) You are interested in which variables have the greatest influence on the prediction quality. Explain how to\n",
    "determine this in a permutation-based approach and compute the importance scorses for the `spam` data."
   ]
  },
  {
   "cell_type": "markdown",
   "id": "ba1fda8e",
   "metadata": {},
   "source": [
    "<div class=\"alert alert-block alert-info\">\n",
    "<b>Hint:</b> use an adequate variable importance filter as described in <a href=\"https://mlr3filters.mlr-org.com/#variable-importance-filters\"><code>https://mlr3filters.mlr-org.com/#variable-importance-filters</code></a>. <br>\n",
    "</div>"
   ]
  },
  {
   "cell_type": "code",
   "execution_count": 62,
   "id": "e0c3bfb5",
   "metadata": {
    "vscode": {
     "languageId": "r"
    }
   },
   "outputs": [],
   "source": [
    "# Enter your code here:"
   ]
  },
  {
   "cell_type": "markdown",
   "id": "37f656a3",
   "metadata": {},
   "source": [
    "## Exercise 3: Proximities\n"
   ]
  },
  {
   "cell_type": "markdown",
   "id": "be980588",
   "metadata": {},
   "source": [
    "| observation | alcalinity | alcohol | flavanoids | hue  | malic | phenols |\n",
    "|-------------|------------|---------|------------|------|-------|---------|\n",
    "| 1           | 11.4       | 14.75   | 3.69       | 1.25 | 1.73  | 3.10    |\n",
    "| 2           | 25.0       | 13.40   | 0.96       | 0.67 | 4.60  | 1.98    |\n",
    "| 3           | 17.4       | 13.94   | 3.54       | 1.12 | 1.73  | 2.88    |\n"
   ]
  },
  {
   "cell_type": "markdown",
   "id": "af0badf7",
   "metadata": {},
   "source": [
    "Tree 1:\n",
    "\n",
    "| nodeID | leftChild | rightChild | splitvarID | splitvarName | splitval | terminal | prediction |\n",
    "|--------|-----------|------------|------------|--------------|----------|----------|------------|\n",
    "| 0      | 1         | 2          | 5          | phenols      | 1.97     | FALSE    | NA         |\n",
    "| 1      | 3         | 4          | 1          | alcohol      | 12.43    | FALSE    | NA         |\n",
    "| 2      | 5         | 6          | 1          | alcohol      | 13.03    | FALSE    | NA         |\n",
    "| 3      | NA        | NA         | NA         | NA           | NA       | TRUE     | 2          |\n",
    "| 4      | NA        | NA         | NA         | NA           | NA       | TRUE     | 3          |\n",
    "| 5      | NA        | NA         | NA         | NA           | NA       | TRUE     | 2          |\n",
    "| 6      | NA        | NA         | NA         | NA           | NA       | TRUE     | 1          |\n",
    "\n",
    "Tree 2:\n",
    "\n",
    "| nodeID | leftChild | rightChild | splitvarID | splitvarName | splitval | terminal | prediction |\n",
    "|--------|-----------|------------|------------|--------------|----------|----------|------------|\n",
    "| 0      | 1         | 2          | 1          | alcohol      | 12.78    | FALSE    | NA         |\n",
    "| 1      | 3         | 4          | 3          | hue          | 0.68     | FALSE    | NA         |\n",
    "| 2      | 5         | 6          | 2          | flavanoids   | 2.18     | FALSE    | NA         |\n",
    "| 3      | NA        | NA         | NA         | NA           | NA       | TRUE     | 3          |\n",
    "| 4      | NA        | NA         | NA         | NA           | NA       | TRUE     | 2          |\n",
    "| 5      | NA        | NA         | NA         | NA           | NA       | TRUE     | 3          |\n",
    "| 6      | NA        | NA         | NA         | NA           | NA       | TRUE     | 1          |\n",
    "\n",
    "Tree 3:\n",
    "\n",
    "| nodeID | leftChild | rightChild | splitvarID | splitvarName | splitval | terminal | prediction |\n",
    "|--------|-----------|------------|------------|--------------|----------|----------|------------|\n",
    "| 0      | 1         | 2          | 1          | alcohol      | 12.79    | FALSE    | NA         |\n",
    "| 1      | 3         | 4          | 5          | phenols      | 2.01     | FALSE    | NA         |\n",
    "| 2      | 5         | 6          | 5          | phenols      | 2.28     | FALSE    | NA         |\n",
    "| 3      | NA        | NA         | NA         | NA           | NA       | TRUE     | 2          |\n",
    "| 4      | NA        | NA         | NA         | NA           | NA       | TRUE     | 2          |\n",
    "| 5      | NA        | NA         | NA         | NA           | NA       | TRUE     | 3          |\n",
    "| 6      | NA        | NA         | NA         | NA           | NA       | TRUE     | 1          |\n",
    "\n"
   ]
  },
  {
   "cell_type": "markdown",
   "id": "5b7ed6ab",
   "metadata": {},
   "source": [
    "You solve the `wine` task, predicting the `type` of a wine – with $3$ classes – from a number of covariates. After\n",
    "training, you wish to determine how similar your observations are in terms of proximities. <br>\n",
    "For the following subset of the training data and the random forest model given above,"
   ]
  },
  {
   "cell_type": "markdown",
   "id": "99cddae9",
   "metadata": {},
   "source": [
    "> a)  find the terminal node of each tree the observations are placed in,"
   ]
  },
  {
   "cell_type": "code",
   "execution_count": 64,
   "id": "3ee2510e",
   "metadata": {
    "vscode": {
     "languageId": "r"
    }
   },
   "outputs": [],
   "source": [
    "# Enter your code here:"
   ]
  },
  {
   "cell_type": "markdown",
   "id": "dfa342ec",
   "metadata": {},
   "source": [
    "> b) compute the observations’ pairwise proximities, and\n"
   ]
  },
  {
   "cell_type": "markdown",
   "id": "7e70c13c",
   "metadata": {},
   "source": [
    "> *Enter your answer here:*\n"
   ]
  },
  {
   "cell_type": "markdown",
   "id": "af76d0f8",
   "metadata": {},
   "source": [
    "> c) construct a similarity matrix from these proximities in `R`."
   ]
  },
  {
   "cell_type": "markdown",
   "id": "fe8d7e1f",
   "metadata": {},
   "source": [
    "<div class=\"alert alert-block alert-info\">\n",
    "<b>Hint:</b> The model information was created with <code>ranger::treeInfo()</code>, which assigns observations with values\n",
    "larger than <code>splitval</code> to the right child node in each split. <br>\n",
    "</div>"
   ]
  },
  {
   "cell_type": "code",
   "execution_count": 65,
   "id": "49f1dad7",
   "metadata": {
    "vscode": {
     "languageId": "r"
    }
   },
   "outputs": [],
   "source": [
    "# Enter your code here:"
   ]
  }
 ],
 "metadata": {
  "kernelspec": {
   "display_name": "R-i2ml",
   "language": "R",
   "name": "ir"
  },
  "language_info": {
   "codemirror_mode": "r",
   "file_extension": ".r",
   "mimetype": "text/x-r-source",
   "name": "R",
   "pygments_lexer": "r",
   "version": "4.2.0"
  }
 },
 "nbformat": 4,
 "nbformat_minor": 5
}
