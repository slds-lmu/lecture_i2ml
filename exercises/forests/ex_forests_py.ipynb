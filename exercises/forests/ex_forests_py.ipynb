{
  "cells": [
    {
      "cell_type": "markdown",
      "id": "8ce3c119",
      "metadata": {},
      "source": [
        "***\n",
        "**Introduction to Machine Learning** <br>\n",
        "__[https://slds-lmu.github.io/i2ml/](https://slds-lmu.github.io/i2ml/)__\n",
        "***"
      ]
    },
    {
      "cell_type": "markdown",
      "id": "15e28232",
      "metadata": {},
      "source": [
        "# Exercise sheet 9: Random Forests"
      ]
    },
    {
      "cell_type": "code",
      "execution_count": null,
      "id": "9129fbba",
      "metadata": {},
      "outputs": [],
      "source": [
        "#| label: import\n",
        "# Consider the following libraries for this exercise sheet:\n",
        "\n",
        "# general\n",
        "import numpy as np\n",
        "import pandas as pd\n",
        "from scipy.spatial.distance import pdist\n",
        "from scipy.sparse import dok_matrix\n",
        "# plots\n",
        "import matplotlib.pyplot as plt\n",
        "# sklearn\n",
        "from sklearn.tree import DecisionTreeClassifier\n",
        "from sklearn.tree import plot_tree\n",
        "from sklearn.ensemble import RandomForestClassifier\n",
        "from sklearn.inspection import permutation_importance\n",
        "from sklearn.model_selection import train_test_split"
      ]
    },
    {
      "cell_type": "markdown",
      "id": "cd1953e2",
      "metadata": {},
      "source": [
        "## Exercise 2: Classifying `spam`"
      ]
    },
    {
      "cell_type": "markdown",
      "id": "6b69a423",
      "metadata": {},
      "source": [
        "> a) Take a look at the spam dataset and shortly describe what kind of classification problem this is."
      ]
    },
    {
      "cell_type": "markdown",
      "id": "652853e0",
      "metadata": {},
      "source": [
        "<div class=\"alert alert-block alert-info\">\n",
        "<b>Hint:</b> read <a href=\"https://github.com/slds-lmu/lecture_i2ml/blob/master/exercises/data/spam.csv\"><code>spam.csv</code></a>\n",
        "</div>"
      ]
    },
    {
      "cell_type": "code",
      "execution_count": null,
      "id": "bbe26594",
      "metadata": {},
      "outputs": [],
      "source": [
        "# Enter your code here:"
      ]
    },
    {
      "cell_type": "markdown",
      "id": "ade12ec0",
      "metadata": {},
      "source": [
        "> b) Use a decision tree to predict `spam`. Re-fit the tree using two random subsets of the data (each comprising 60% of observations). How stable are the trees?"
      ]
    },
    {
      "cell_type": "markdown",
      "id": "54797cc2",
      "metadata": {},
      "source": [
        "<div class=\"alert alert-block alert-info\">\n",
        "<b>Hint:</b> Use <code>from sklearn.tree import plot_tree</code> to visualize the trees.\n",
        "</div>"
      ]
    },
    {
      "cell_type": "code",
      "execution_count": null,
      "id": "a4c7249e",
      "metadata": {},
      "outputs": [],
      "source": [
        "# Entering your code here:"
      ]
    },
    {
      "cell_type": "markdown",
      "id": "b3dfb278",
      "metadata": {},
      "source": [
        "> c) Forests come with a built-in estimate of their generalization ability via the out-of-bag (OOB) error. <br>\n",
        " >> i) Show that the probability for an observation to be OOB in an arbitrary bootstrap sample converges to $\\frac{1}{e}$. <br>\n",
        " >> ii) Use the random forest learner (`RandomForestClassifier()`) to fit the model and state the out-of-bag (OOB) error.\n"
      ]
    },
    {
      "cell_type": "markdown",
      "id": "e79088b2",
      "metadata": {},
      "source": [
        "i) Enter your answer here:\n"
      ]
    },
    {
      "cell_type": "code",
      "execution_count": 1,
      "id": "972a901d",
      "metadata": {},
      "outputs": [],
      "source": [
        "# ii) Enter your code here:"
      ]
    },
    {
      "cell_type": "markdown",
      "id": "5b801377",
      "metadata": {},
      "source": [
        "> d) You are interested in which variables have the greatest influence on the prediction quality. Explain how to\n",
        "determine this in a permutation-based approach and compute the importance scorses for the `spam` data."
      ]
    },
    {
      "cell_type": "markdown",
      "id": "ba1fda8e",
      "metadata": {},
      "source": [
        "<div class=\"alert alert-block alert-info\">\n",
        "<b>Hint:</b> choose an adequate importance measure as described in <br>\n",
        "    <a href=\"https://scikit-learn.org/stable/auto_examples/ensemble/plot_forest_importances.html\"><code>https://scikit-learn.org/stable/auto_examples/ensemble/plot_forest_importances.html</code></a>.\n",
        "</div>"
      ]
    },
    {
      "cell_type": "code",
      "execution_count": null,
      "id": "e0c3bfb5",
      "metadata": {},
      "outputs": [],
      "source": [
        "# Enter your code here:"
      ]
    },
    {
      "cell_type": "markdown",
      "id": "37f656a3",
      "metadata": {},
      "source": [
        "## Exercise 3: Proximities\n"
      ]
    },
    {
      "cell_type": "markdown",
      "id": "5b7ed6ab",
      "metadata": {},
      "source": [
        "You solve the `wine` task, predicting the `type` of a wine \u2013 with $3$ classes \u2013 from a number of covariates. After\n",
        "training, you wish to determine how similar your observations are in terms of proximities. <br>\n",
        "For the following subset of the training data and the random forest model given below:"
      ]
    },
    {
      "cell_type": "code",
      "execution_count": null,
      "id": "e43952e0",
      "metadata": {},
      "outputs": [
        {
          "data": {
            "text/html": [
              "<div>\n",
              "<style scoped>\n",
              "    .dataframe tbody tr th:only-of-type {\n",
              "        vertical-align: middle;\n",
              "    }\n",
              "\n",
              "    .dataframe tbody tr th {\n",
              "        vertical-align: top;\n",
              "    }\n",
              "\n",
              "    .dataframe thead th {\n",
              "        text-align: right;\n",
              "    }\n",
              "</style>\n",
              "<table border=\"1\" class=\"dataframe\">\n",
              "  <thead>\n",
              "    <tr style=\"text-align: right;\">\n",
              "      <th></th>\n",
              "      <th>type</th>\n",
              "      <th>alcalinity</th>\n",
              "      <th>alcohol</th>\n",
              "      <th>flavanoids</th>\n",
              "      <th>hue</th>\n",
              "      <th>malic</th>\n",
              "      <th>phenols</th>\n",
              "    </tr>\n",
              "  </thead>\n",
              "  <tbody>\n",
              "    <tr>\n",
              "      <th>13</th>\n",
              "      <td>1</td>\n",
              "      <td>11.4</td>\n",
              "      <td>14.75</td>\n",
              "      <td>3.69</td>\n",
              "      <td>1.25</td>\n",
              "      <td>1.73</td>\n",
              "      <td>3.10</td>\n",
              "    </tr>\n",
              "    <tr>\n",
              "      <th>169</th>\n",
              "      <td>3</td>\n",
              "      <td>25.0</td>\n",
              "      <td>13.40</td>\n",
              "      <td>0.96</td>\n",
              "      <td>0.67</td>\n",
              "      <td>4.60</td>\n",
              "      <td>1.98</td>\n",
              "    </tr>\n",
              "    <tr>\n",
              "      <th>49</th>\n",
              "      <td>1</td>\n",
              "      <td>17.4</td>\n",
              "      <td>13.94</td>\n",
              "      <td>3.54</td>\n",
              "      <td>1.12</td>\n",
              "      <td>1.73</td>\n",
              "      <td>2.88</td>\n",
              "    </tr>\n",
              "  </tbody>\n",
              "</table>\n",
              "</div>"
            ],
            "text/plain": [
              "     type  alcalinity  alcohol  flavanoids   hue  malic  phenols\n",
              "13      1        11.4    14.75        3.69  1.25   1.73     3.10\n",
              "169     3        25.0    13.40        0.96  0.67   4.60     1.98\n",
              "49      1        17.4    13.94        3.54  1.12   1.73     2.88"
            ]
          },
          "metadata": {},
          "output_type": "display_data"
        }
      ],
      "source": [
        "wine_data = pd.read_csv(\"https://archive.ics.uci.edu/ml/machine-learning-databases/wine/wine.data\", header = None)\n",
        "wine_data = wine_data.iloc[:, [0,4,1,7,11,2,6]]\n",
        "wine_data.columns = [\"type\", \"alcalinity\", \"alcohol\", \"flavanoids\", \"hue\", \"malic\", \"phenols\"]\n",
        "wine_data_sub = wine_data.iloc[[13, 169, 49],:]\n",
        "\n",
        "wine_data_sub.head()"
      ]
    },
    {
      "cell_type": "code",
      "execution_count": null,
      "id": "334aff5e",
      "metadata": {},
      "outputs": [
        {
          "name": "stdout",
          "output_type": "stream",
          "text": [
            "[[6 4 5]\n",
            " [6 1 6]\n",
            " [6 4 5]]\n"
          ]
        }
      ],
      "source": [
        "X_wine = wine_data.copy() # note without copy X_wine is not a variable but a pointer\n",
        "y_wine = X_wine.pop(\"type\")\n",
        "X_wine_sub = wine_data_sub.copy()\n",
        "y_wine_sub = X_wine_sub.pop(\"type\")\n",
        "\n",
        "# Train a Random Forest classifier\n",
        "rf = RandomForestClassifier(n_estimators=3, max_depth=2, random_state=14)\n",
        "rf.fit(X_wine, y_wine)\n",
        "\n",
        "leaf_indices = rf.apply(X_wine_sub)\n",
        "print(leaf_indices)"
      ]
    },
    {
      "cell_type": "markdown",
      "id": "2164b4d4",
      "metadata": {},
      "source": [
        "Using the rf.apply(X_wine_sub) output, we can follow the path of each sample through each tree."
      ]
    },
    {
      "cell_type": "markdown",
      "id": "99cddae9",
      "metadata": {},
      "source": [
        "> a)  find the terminal node of each tree the observations are placed in:"
      ]
    },
    {
      "cell_type": "code",
      "execution_count": null,
      "id": "3ee2510e",
      "metadata": {},
      "outputs": [],
      "source": [
        "# Enter your code here:"
      ]
    },
    {
      "cell_type": "markdown",
      "id": "dfa342ec",
      "metadata": {},
      "source": [
        "> b) compute the observations\u2019 pairwise proximities:"
      ]
    },
    {
      "cell_type": "markdown",
      "id": "aeeec4a2",
      "metadata": {},
      "source": [
        "Enter your answer here:"
      ]
    },
    {
      "cell_type": "markdown",
      "id": "af76d0f8",
      "metadata": {},
      "source": [
        "> c) construct a similarity matrix from these proximities:"
      ]
    },
    {
      "cell_type": "code",
      "execution_count": null,
      "id": "49f1dad7",
      "metadata": {},
      "outputs": [],
      "source": [
        "# Enter your code here:"
      ]
    }
  ],
  "metadata": {
    "kernelspec": {
      "display_name": "Python (I2ML)",
      "language": "python",
      "name": "python-i2ml"
    },
    "language_info": {
      "codemirror_mode": {
        "name": "ipython",
        "version": 3
      },
      "file_extension": ".py",
      "mimetype": "text/x-python",
      "name": "python",
      "nbconvert_exporter": "python",
      "pygments_lexer": "ipython3",
      "version": "3.10.12"
    }
  },
  "nbformat": 4,
  "nbformat_minor": 5
}