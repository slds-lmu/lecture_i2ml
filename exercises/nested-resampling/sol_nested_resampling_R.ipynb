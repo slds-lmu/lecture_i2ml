{
 "cells": [
  {
   "cell_type": "code",
   "execution_count": null,
   "id": "f2ea7141",
   "metadata": {
    "vscode": {
     "languageId": "r"
    }
   },
   "outputs": [],
   "source": [
    "library(mlr3verse)\n",
    "library(mlr3tuning)"
   ]
  },
  {
   "cell_type": "markdown",
   "id": "c624149b",
   "metadata": {},
   "source": [
    "## Solution 2: AutoML"
   ]
  },
  {
   "cell_type": "markdown",
   "id": "81b72161",
   "metadata": {},
   "source": [
    "### a)"
   ]
  },
  {
   "cell_type": "code",
   "execution_count": null,
   "id": "15bab9fd",
   "metadata": {
    "scrolled": true,
    "vscode": {
     "languageId": "r"
    }
   },
   "outputs": [],
   "source": [
    "#| label: 2-a\n",
    "(task <- tsk(\"pima\"))"
   ]
  },
  {
   "cell_type": "markdown",
   "id": "177ab390",
   "metadata": {},
   "source": [
    "### b)"
   ]
  },
  {
   "cell_type": "code",
   "execution_count": null,
   "id": "86f8b928",
   "metadata": {
    "vscode": {
     "languageId": "r"
    }
   },
   "outputs": [],
   "source": [
    "#| label: 2-b\n",
    "learners <- list(\n",
    "    po(lrn(\"classif.kknn\", id = \"kknn\")), \n",
    "    po(lrn(\"classif.ranger\", id = \"ranger\"))\n",
    ")"
   ]
  },
  {
   "cell_type": "markdown",
   "id": "e2be8d5d",
   "metadata": {},
   "source": [
    "### c)"
   ]
  },
  {
   "cell_type": "code",
   "execution_count": null,
   "id": "f4718f0e",
   "metadata": {
    "vscode": {
     "languageId": "r"
    }
   },
   "outputs": [],
   "source": [
    "#| label: 2-c\n",
    "# Create a pipeline with preprocessing steps\n",
    "ppl_preproc <- ppl(\"robustify\", task = task, factors_to_numeric = TRUE)"
   ]
  },
  {
   "cell_type": "markdown",
   "id": "72db06b4",
   "metadata": {},
   "source": [
    "### d)"
   ]
  },
  {
   "cell_type": "code",
   "execution_count": null,
   "id": "cc24aa58",
   "metadata": {
    "vscode": {
     "languageId": "r"
    }
   },
   "outputs": [],
   "source": [
    "#|label: 2-d\n",
    "ppl_learners <- ppl(\"branch\", learners)"
   ]
  },
  {
   "cell_type": "markdown",
   "id": "f41263a8",
   "metadata": {},
   "source": [
    "### e)"
   ]
  },
  {
   "cell_type": "code",
   "execution_count": null,
   "id": "61a16a67",
   "metadata": {
    "vscode": {
     "languageId": "r"
    }
   },
   "outputs": [],
   "source": [
    "#| label: 2-e\n",
    "ppl_combined <- ppl_preproc %>>% ppl_learners\n",
    "plot(ppl_combined)\n",
    "graph_learner <- as_learner(ppl_combined)"
   ]
  },
  {
   "cell_type": "markdown",
   "id": "d437afe4",
   "metadata": {},
   "source": [
    "### f)"
   ]
  },
  {
   "cell_type": "code",
   "execution_count": null,
   "id": "1e5c377b",
   "metadata": {
    "vscode": {
     "languageId": "r"
    }
   },
   "outputs": [],
   "source": [
    "#| label: 2-f\n",
    "# check available hyperparameters for tuning (converting to data.table for \n",
    "# better readability)\n",
    "tail(as.data.table(graph_learner$param_set), 10)\n",
    "\n",
    "# seeing all our hyperparameters of interest are of type int, we specify the \n",
    "# tuning objects accordingly, and dependencies for k and mtry\n",
    "graph_learner$param_set$values$branch.selection <- \n",
    "  to_tune(p_int(1, 2))\n",
    "graph_learner$param_set$values$kknn.k <- \n",
    "  to_tune(p_int(3, 10, depends = branch.selection == 1))\n",
    "graph_learner$param_set$values$ranger.mtry <-\n",
    "  to_tune(p_int(1, 5, depends = branch.selection == 2))\n",
    "\n",
    "# rename learner (otherwise, mlr3 will display a lengthy chain of operations \n",
    "# in result tables)\n",
    "graph_learner$id <- \"graph_learner\""
   ]
  },
  {
   "cell_type": "markdown",
   "id": "f21ce763",
   "metadata": {},
   "source": [
    "### g)"
   ]
  },
  {
   "cell_type": "code",
   "execution_count": null,
   "id": "fd8361a0",
   "metadata": {
    "vscode": {
     "languageId": "r"
    }
   },
   "outputs": [],
   "source": [
    "#| label: 2-g\n",
    "#| output: false\n",
    "\n",
    "# make sure to set a seed for reproducible results\n",
    "set.seed(123)\n",
    "\n",
    "# perform nested resampling, terminating after 3 evaluations\n",
    "tuner <- tnr(\"random_search\")\n",
    "\n",
    "rr <- tune_nested(\n",
    "  tuner = tuner,\n",
    "  task = task,\n",
    "  learner = graph_learner,\n",
    "  inner_resampling = rsmp(\"cv\", folds = 3),\n",
    "  outer_resampling = rsmp(\"cv\", folds = 3),\n",
    "  measure = msr(\"classif.ce\"),\n",
    "  term_evals = 3\n",
    ")\n"
   ]
  },
  {
   "cell_type": "markdown",
   "id": "58b6acc6",
   "metadata": {},
   "source": [
    "### h)"
   ]
  },
  {
   "cell_type": "code",
   "execution_count": null,
   "id": "1213b1b3",
   "metadata": {
    "vscode": {
     "languageId": "r"
    }
   },
   "outputs": [],
   "source": [
    "#| label: 2-h\n",
    "rr$score()\n",
    "rr$aggregate()"
   ]
  },
  {
   "cell_type": "markdown",
   "id": "74ad43af",
   "metadata": {},
   "source": [
    "The performance estimate for our tuned learner then amounts to an MCE of around 0.24."
   ]
  },
  {
   "cell_type": "markdown",
   "id": "8bad04c5",
   "metadata": {},
   "source": [
    "## Solution 3: Kaggle Challenge"
   ]
  },
  {
   "cell_type": "markdown",
   "id": "7cc076cf",
   "metadata": {},
   "source": [
    "We do not provide an explicit solution here, but have a look at the [tuning code demo](https://github.com/slds-lmu/lecture_i2ml/blob/master/code-demos-pdf/code_demo_kaggle.pdf), which is written in *mlr3* and covers some parts,\n",
    "and take inspiration from the public contributions on Kaggle."
   ]
  }
 ],
 "metadata": {
  "kernelspec": {
   "display_name": "R",
   "language": "R",
   "name": "ir"
  },
  "language_info": {
   "codemirror_mode": "r",
   "file_extension": ".r",
   "mimetype": "text/x-r-source",
   "name": "R",
   "pygments_lexer": "r",
   "version": "4.4.1"
  }
 },
 "nbformat": 4,
 "nbformat_minor": 5
}
