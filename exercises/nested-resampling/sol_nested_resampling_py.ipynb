{
  "cells": [
    {
      "cell_type": "code",
      "execution_count": 1,
      "id": "5edab610",
      "metadata": {},
      "outputs": [],
      "source": [
        "# general\n",
        "import numpy as np\n",
        "import pandas as pd\n",
        "# sklearn\n",
        "from sklearn.neighbors import KNeighborsClassifier\n",
        "from sklearn.ensemble import RandomForestClassifier\n",
        "from sklearn.ensemble import VotingClassifier\n",
        "from sklearn.pipeline import Pipeline\n",
        "from sklearn.compose import ColumnTransformer\n",
        "from sklearn.compose import make_column_selector\n",
        "from sklearn.preprocessing import LabelEncoder\n",
        "from sklearn.preprocessing import OneHotEncoder\n",
        "from sklearn.preprocessing import StandardScaler\n",
        "from sklearn.impute import SimpleImputer\n",
        "from sklearn.metrics import balanced_accuracy_score\n",
        "from sklearn.metrics import confusion_matrix\n",
        "from sklearn.model_selection import train_test_split\n",
        "from sklearn.model_selection import GridSearchCV, StratifiedKFold\n",
        "from sklearn.feature_selection import VarianceThreshold"
      ]
    },
    {
      "cell_type": "markdown",
      "id": "c624149b",
      "metadata": {},
      "source": [
        "## Solution 2: AutoML"
      ]
    },
    {
      "cell_type": "markdown",
      "id": "81b72161",
      "metadata": {},
      "source": [
        "### a)"
      ]
    },
    {
      "cell_type": "code",
      "execution_count": 2,
      "id": "15bab9fd",
      "metadata": {},
      "outputs": [],
      "source": [
        "#| label: 2-a\n",
        "# load data\n",
        "pima = pd.read_csv(\"../data/pima.csv\")\n",
        "X_pima = pima.copy()\n",
        "y_pima = X_pima.pop(\"diabetes\")\n",
        "\n",
        "# encode the target as 0-1 vector\n",
        "le = LabelEncoder()\n",
        "y_pima = le.fit_transform(y_pima)\n",
        "\n",
        "# Split the data into training and testing sets\n",
        "X_train, X_test, y_train, y_test = train_test_split(X_pima, y_pima, test_size=0.2, stratify=y_pima, random_state=42)"
      ]
    },
    {
      "cell_type": "markdown",
      "id": "177ab390",
      "metadata": {},
      "source": [
        "### b)"
      ]
    },
    {
      "cell_type": "code",
      "execution_count": 3,
      "id": "86f8b928",
      "metadata": {},
      "outputs": [],
      "source": [
        "#| label: 2-b\n",
        "# Define the column transformer\n",
        "preprocessor = ColumnTransformer(\n",
        "    transformers=[\n",
        "        # One-hot encode categorical columns, like strings\n",
        "        ('onehot', OneHotEncoder(drop='first', handle_unknown='ignore'), make_column_selector(dtype_include=object)),\n",
        "        # Impute missing values for numerical columns\n",
        "        ('imputer', SimpleImputer(strategy = 'median'), make_column_selector(dtype_include=np.number))\n",
        "    ])"
      ]
    },
    {
      "cell_type": "markdown",
      "id": "e2be8d5d",
      "metadata": {},
      "source": [
        "### c)"
      ]
    },
    {
      "cell_type": "code",
      "execution_count": 4,
      "id": "f4718f0e",
      "metadata": {},
      "outputs": [],
      "source": [
        "#| label: 2-c\n",
        "# Create a pipeline with preprocessing and modeling steps\n",
        "# for knn\n",
        "clf_knn = Pipeline([\n",
        "    ('preprocessor', preprocessor),\n",
        "    ('constant', VarianceThreshold()), # remove variables with constant values across all observations\n",
        "    ('scaler', StandardScaler()),  # Data scaling\n",
        "    ('classifier', KNeighborsClassifier())  # KNN model\n",
        "])\n",
        "\n",
        "# for random forest\n",
        "clf_randomforest = Pipeline([\n",
        "    ('preprocessor', preprocessor),\n",
        "    ('constant', VarianceThreshold()), # remove variables with constant values across all observations\n",
        "    ('classifier', RandomForestClassifier(random_state=42))  # Random Forest\n",
        "])"
      ]
    },
    {
      "cell_type": "markdown",
      "id": "72db06b4",
      "metadata": {},
      "source": [
        "### d)"
      ]
    },
    {
      "cell_type": "code",
      "execution_count": 5,
      "id": "cc24aa58",
      "metadata": {},
      "outputs": [],
      "source": [
        "#| label: 2-d\n",
        "# combine both classifiers with a soft voting ensembling\n",
        "clf_voting = VotingClassifier(\n",
        "    estimators=[('knn', clf_knn), ('random_forest', clf_randomforest)], \n",
        "    voting = \"soft\", \n",
        "    n_jobs = -1\n",
        ")"
      ]
    },
    {
      "cell_type": "markdown",
      "id": "f41263a8",
      "metadata": {},
      "source": [
        "### e)"
      ]
    },
    {
      "cell_type": "code",
      "execution_count": 6,
      "id": "61a16a67",
      "metadata": {},
      "outputs": [],
      "source": [
        "#| label: 2-e\n",
        "# define a parameter grid for the tuning process\n",
        "param_grid_voting = [{\"knn__classifier__n_neighbors\": list(range(1,11))},\n",
        "                     {\"random_forest__classifier__max_features\": list(range(1,6))}]"
      ]
    },
    {
      "cell_type": "markdown",
      "id": "d437afe4",
      "metadata": {},
      "source": [
        "### f)"
      ]
    },
    {
      "cell_type": "code",
      "execution_count": 7,
      "id": "1e5c377b",
      "metadata": {},
      "outputs": [],
      "source": [
        "#| label: 2-f-1\n",
        "# initalize scores with 0\n",
        "NUM_OUTER_FOLDS = 3\n",
        "nested_scores_voting = np.zeros(NUM_OUTER_FOLDS)\n",
        "gsCV_nested = []\n",
        "\n",
        "# Choose cross-validation techniques for the inner and outer loops, independently of the dataset.\n",
        "# E.g \"GroupKFold\", \"LeaveOneOut\", \"LeaveOneGroupOut\", etc.\n",
        "inner_cv = StratifiedKFold(n_splits=3, shuffle=True, random_state=42)\n",
        "outer_cv = StratifiedKFold(n_splits=NUM_OUTER_FOLDS, shuffle=True, random_state=43)"
      ]
    },
    {
      "cell_type": "code",
      "execution_count": 8,
      "id": "23b540ad",
      "metadata": {},
      "outputs": [],
      "source": [
        "#| label: 2-f-2\n",
        "for i, (train_index, val_index) in enumerate(outer_cv.split(X_train, y_train)):\n",
        "    # Nested CV with parameter optimization for ensemble pipeline\n",
        "    clf_gs_voting = GridSearchCV(\n",
        "        estimator=clf_voting, \n",
        "        param_grid=param_grid_voting, \n",
        "        cv=inner_cv, \n",
        "        n_jobs=-1\n",
        "    )\n",
        "    #gsCV_nested.append(clf_gs_voting)\n",
        "    clf_gs_voting.fit(X_train.iloc[train_index], y_train[train_index])\n",
        "    nested_scores_voting[i] = clf_gs_voting.score(X_train.iloc[val_index], y_train[val_index])"
      ]
    },
    {
      "cell_type": "markdown",
      "id": "f21ce763",
      "metadata": {},
      "source": [
        "### g)"
      ]
    },
    {
      "cell_type": "code",
      "execution_count": 9,
      "id": "fd8361a0",
      "metadata": {},
      "outputs": [
        {
          "name": "stdout",
          "output_type": "stream",
          "text": [
            "[0.75121951 0.71707317 0.75490196]\n"
          ]
        }
      ],
      "source": [
        "#| label: 2-g-1\n",
        "# print performance per outer fold\n",
        "print(nested_scores_voting)"
      ]
    },
    {
      "cell_type": "code",
      "execution_count": 10,
      "id": "0548e8ba",
      "metadata": {},
      "outputs": [
        {
          "name": "stdout",
          "output_type": "stream",
          "text": [
            "0.7410648812370476\n"
          ]
        }
      ],
      "source": [
        "#| label: 2-g-2\n",
        "# print performance aggregated over all folds\n",
        "print(nested_scores_voting.mean())"
      ]
    },
    {
      "cell_type": "code",
      "execution_count": 11,
      "id": "33dc062f",
      "metadata": {},
      "outputs": [
        {
          "data": {
            "text/html": [
              "<style>#sk-container-id-1 {color: black;background-color: white;}#sk-container-id-1 pre{padding: 0;}#sk-container-id-1 div.sk-toggleable {background-color: white;}#sk-container-id-1 label.sk-toggleable__label {cursor: pointer;display: block;width: 100%;margin-bottom: 0;padding: 0.3em;box-sizing: border-box;text-align: center;}#sk-container-id-1 label.sk-toggleable__label-arrow:before {content: \"\u25b8\";float: left;margin-right: 0.25em;color: #696969;}#sk-container-id-1 label.sk-toggleable__label-arrow:hover:before {color: black;}#sk-container-id-1 div.sk-estimator:hover label.sk-toggleable__label-arrow:before {color: black;}#sk-container-id-1 div.sk-toggleable__content {max-height: 0;max-width: 0;overflow: hidden;text-align: left;background-color: #f0f8ff;}#sk-container-id-1 div.sk-toggleable__content pre {margin: 0.2em;color: black;border-radius: 0.25em;background-color: #f0f8ff;}#sk-container-id-1 input.sk-toggleable__control:checked~div.sk-toggleable__content {max-height: 200px;max-width: 100%;overflow: auto;}#sk-container-id-1 input.sk-toggleable__control:checked~label.sk-toggleable__label-arrow:before {content: \"\u25be\";}#sk-container-id-1 div.sk-estimator input.sk-toggleable__control:checked~label.sk-toggleable__label {background-color: #d4ebff;}#sk-container-id-1 div.sk-label input.sk-toggleable__control:checked~label.sk-toggleable__label {background-color: #d4ebff;}#sk-container-id-1 input.sk-hidden--visually {border: 0;clip: rect(1px 1px 1px 1px);clip: rect(1px, 1px, 1px, 1px);height: 1px;margin: -1px;overflow: hidden;padding: 0;position: absolute;width: 1px;}#sk-container-id-1 div.sk-estimator {font-family: monospace;background-color: #f0f8ff;border: 1px dotted black;border-radius: 0.25em;box-sizing: border-box;margin-bottom: 0.5em;}#sk-container-id-1 div.sk-estimator:hover {background-color: #d4ebff;}#sk-container-id-1 div.sk-parallel-item::after {content: \"\";width: 100%;border-bottom: 1px solid gray;flex-grow: 1;}#sk-container-id-1 div.sk-label:hover label.sk-toggleable__label {background-color: #d4ebff;}#sk-container-id-1 div.sk-serial::before {content: \"\";position: absolute;border-left: 1px solid gray;box-sizing: border-box;top: 0;bottom: 0;left: 50%;z-index: 0;}#sk-container-id-1 div.sk-serial {display: flex;flex-direction: column;align-items: center;background-color: white;padding-right: 0.2em;padding-left: 0.2em;position: relative;}#sk-container-id-1 div.sk-item {position: relative;z-index: 1;}#sk-container-id-1 div.sk-parallel {display: flex;align-items: stretch;justify-content: center;background-color: white;position: relative;}#sk-container-id-1 div.sk-item::before, #sk-container-id-1 div.sk-parallel-item::before {content: \"\";position: absolute;border-left: 1px solid gray;box-sizing: border-box;top: 0;bottom: 0;left: 50%;z-index: -1;}#sk-container-id-1 div.sk-parallel-item {display: flex;flex-direction: column;z-index: 1;position: relative;background-color: white;}#sk-container-id-1 div.sk-parallel-item:first-child::after {align-self: flex-end;width: 50%;}#sk-container-id-1 div.sk-parallel-item:last-child::after {align-self: flex-start;width: 50%;}#sk-container-id-1 div.sk-parallel-item:only-child::after {width: 0;}#sk-container-id-1 div.sk-dashed-wrapped {border: 1px dashed gray;margin: 0 0.4em 0.5em 0.4em;box-sizing: border-box;padding-bottom: 0.4em;background-color: white;}#sk-container-id-1 div.sk-label label {font-family: monospace;font-weight: bold;display: inline-block;line-height: 1.2em;}#sk-container-id-1 div.sk-label-container {text-align: center;}#sk-container-id-1 div.sk-container {/* jupyter's `normalize.less` sets `[hidden] { display: none; }` but bootstrap.min.css set `[hidden] { display: none !important; }` so we also need the `!important` here to be able to override the default hidden behavior on the sphinx rendered scikit-learn.org. See: https://github.com/scikit-learn/scikit-learn/issues/21755 */display: inline-block !important;position: relative;}#sk-container-id-1 div.sk-text-repr-fallback {display: none;}</style><div id=\"sk-container-id-1\" class=\"sk-top-container\"><div class=\"sk-text-repr-fallback\"><pre>GridSearchCV(cv=StratifiedKFold(n_splits=3, random_state=42, shuffle=True),\n",
              "             estimator=VotingClassifier(estimators=[(&#x27;knn&#x27;,\n",
              "                                                     Pipeline(steps=[(&#x27;preprocessor&#x27;,\n",
              "                                                                      ColumnTransformer(transformers=[(&#x27;onehot&#x27;,\n",
              "                                                                                                       OneHotEncoder(drop=&#x27;first&#x27;,\n",
              "                                                                                                                     handle_unknown=&#x27;ignore&#x27;),\n",
              "                                                                                                       &lt;sklearn.compose._column_transformer.make_column_selector object at 0x000002238A558160&gt;),\n",
              "                                                                                                      (&#x27;imputer&#x27;,\n",
              "                                                                                                       SimpleIm...\n",
              "                                                                                                       SimpleImputer(strategy=&#x27;median&#x27;),\n",
              "                                                                                                       &lt;sklearn.compose._column_transformer.make_column_selector object at 0x000002238A559660&gt;)])),\n",
              "                                                                     (&#x27;constant&#x27;,\n",
              "                                                                      VarianceThreshold()),\n",
              "                                                                     (&#x27;classifier&#x27;,\n",
              "                                                                      RandomForestClassifier(random_state=42))]))],\n",
              "                                        n_jobs=-1, voting=&#x27;soft&#x27;),\n",
              "             n_jobs=-1,\n",
              "             param_grid=[{&#x27;knn__classifier__n_neighbors&#x27;: [1, 2, 3, 4, 5, 6, 7,\n",
              "                                                           8, 9, 10]},\n",
              "                         {&#x27;random_forest__classifier__max_features&#x27;: [1, 2, 3,\n",
              "                                                                      4, 5]}])</pre><b>In a Jupyter environment, please rerun this cell to show the HTML representation or trust the notebook. <br />On GitHub, the HTML representation is unable to render, please try loading this page with nbviewer.org.</b></div><div class=\"sk-container\" hidden><div class=\"sk-item sk-dashed-wrapped\"><div class=\"sk-label-container\"><div class=\"sk-label sk-toggleable\"><input class=\"sk-toggleable__control sk-hidden--visually\" id=\"sk-estimator-id-1\" type=\"checkbox\" ><label for=\"sk-estimator-id-1\" class=\"sk-toggleable__label sk-toggleable__label-arrow\">GridSearchCV</label><div class=\"sk-toggleable__content\"><pre>GridSearchCV(cv=StratifiedKFold(n_splits=3, random_state=42, shuffle=True),\n",
              "             estimator=VotingClassifier(estimators=[(&#x27;knn&#x27;,\n",
              "                                                     Pipeline(steps=[(&#x27;preprocessor&#x27;,\n",
              "                                                                      ColumnTransformer(transformers=[(&#x27;onehot&#x27;,\n",
              "                                                                                                       OneHotEncoder(drop=&#x27;first&#x27;,\n",
              "                                                                                                                     handle_unknown=&#x27;ignore&#x27;),\n",
              "                                                                                                       &lt;sklearn.compose._column_transformer.make_column_selector object at 0x000002238A558160&gt;),\n",
              "                                                                                                      (&#x27;imputer&#x27;,\n",
              "                                                                                                       SimpleIm...\n",
              "                                                                                                       SimpleImputer(strategy=&#x27;median&#x27;),\n",
              "                                                                                                       &lt;sklearn.compose._column_transformer.make_column_selector object at 0x000002238A559660&gt;)])),\n",
              "                                                                     (&#x27;constant&#x27;,\n",
              "                                                                      VarianceThreshold()),\n",
              "                                                                     (&#x27;classifier&#x27;,\n",
              "                                                                      RandomForestClassifier(random_state=42))]))],\n",
              "                                        n_jobs=-1, voting=&#x27;soft&#x27;),\n",
              "             n_jobs=-1,\n",
              "             param_grid=[{&#x27;knn__classifier__n_neighbors&#x27;: [1, 2, 3, 4, 5, 6, 7,\n",
              "                                                           8, 9, 10]},\n",
              "                         {&#x27;random_forest__classifier__max_features&#x27;: [1, 2, 3,\n",
              "                                                                      4, 5]}])</pre></div></div></div><div class=\"sk-parallel\"><div class=\"sk-parallel-item\"><div class=\"sk-item\"><div class=\"sk-label-container\"><div class=\"sk-label sk-toggleable\"><input class=\"sk-toggleable__control sk-hidden--visually\" id=\"sk-estimator-id-2\" type=\"checkbox\" ><label for=\"sk-estimator-id-2\" class=\"sk-toggleable__label sk-toggleable__label-arrow\">estimator: VotingClassifier</label><div class=\"sk-toggleable__content\"><pre>VotingClassifier(estimators=[(&#x27;knn&#x27;,\n",
              "                              Pipeline(steps=[(&#x27;preprocessor&#x27;,\n",
              "                                               ColumnTransformer(transformers=[(&#x27;onehot&#x27;,\n",
              "                                                                                OneHotEncoder(drop=&#x27;first&#x27;,\n",
              "                                                                                              handle_unknown=&#x27;ignore&#x27;),\n",
              "                                                                                &lt;sklearn.compose._column_transformer.make_column_selector object at 0x000002238A558160&gt;),\n",
              "                                                                               (&#x27;imputer&#x27;,\n",
              "                                                                                SimpleImputer(strategy=&#x27;median&#x27;),\n",
              "                                                                                &lt;sklearn.compose._column_transformer.make_column_selector o...\n",
              "                                                                                              handle_unknown=&#x27;ignore&#x27;),\n",
              "                                                                                &lt;sklearn.compose._column_transformer.make_column_selector object at 0x000002238A558160&gt;),\n",
              "                                                                               (&#x27;imputer&#x27;,\n",
              "                                                                                SimpleImputer(strategy=&#x27;median&#x27;),\n",
              "                                                                                &lt;sklearn.compose._column_transformer.make_column_selector object at 0x000002238A559660&gt;)])),\n",
              "                                              (&#x27;constant&#x27;, VarianceThreshold()),\n",
              "                                              (&#x27;classifier&#x27;,\n",
              "                                               RandomForestClassifier(random_state=42))]))],\n",
              "                 n_jobs=-1, voting=&#x27;soft&#x27;)</pre></div></div></div><div class=\"sk-serial\"><div class=\"sk-item sk-dashed-wrapped\"><div class=\"sk-parallel\"><div class=\"sk-parallel-item\"><div class=\"sk-item\"><div class=\"sk-label-container\"><div class=\"sk-label sk-toggleable\"><label>knn</label></div></div><div class=\"sk-serial\"><div class=\"sk-item\"><div class=\"sk-serial\"><div class=\"sk-item sk-dashed-wrapped\"><div class=\"sk-label-container\"><div class=\"sk-label sk-toggleable\"><input class=\"sk-toggleable__control sk-hidden--visually\" id=\"sk-estimator-id-3\" type=\"checkbox\" ><label for=\"sk-estimator-id-3\" class=\"sk-toggleable__label sk-toggleable__label-arrow\">preprocessor: ColumnTransformer</label><div class=\"sk-toggleable__content\"><pre>ColumnTransformer(transformers=[(&#x27;onehot&#x27;,\n",
              "                                 OneHotEncoder(drop=&#x27;first&#x27;,\n",
              "                                               handle_unknown=&#x27;ignore&#x27;),\n",
              "                                 &lt;sklearn.compose._column_transformer.make_column_selector object at 0x000002238A558160&gt;),\n",
              "                                (&#x27;imputer&#x27;, SimpleImputer(strategy=&#x27;median&#x27;),\n",
              "                                 &lt;sklearn.compose._column_transformer.make_column_selector object at 0x000002238A559660&gt;)])</pre></div></div></div><div class=\"sk-parallel\"><div class=\"sk-parallel-item\"><div class=\"sk-item\"><div class=\"sk-label-container\"><div class=\"sk-label sk-toggleable\"><input class=\"sk-toggleable__control sk-hidden--visually\" id=\"sk-estimator-id-4\" type=\"checkbox\" ><label for=\"sk-estimator-id-4\" class=\"sk-toggleable__label sk-toggleable__label-arrow\">onehot</label><div class=\"sk-toggleable__content\"><pre>&lt;sklearn.compose._column_transformer.make_column_selector object at 0x000002238A558160&gt;</pre></div></div></div><div class=\"sk-serial\"><div class=\"sk-item\"><div class=\"sk-estimator sk-toggleable\"><input class=\"sk-toggleable__control sk-hidden--visually\" id=\"sk-estimator-id-5\" type=\"checkbox\" ><label for=\"sk-estimator-id-5\" class=\"sk-toggleable__label sk-toggleable__label-arrow\">OneHotEncoder</label><div class=\"sk-toggleable__content\"><pre>OneHotEncoder(drop=&#x27;first&#x27;, handle_unknown=&#x27;ignore&#x27;)</pre></div></div></div></div></div></div><div class=\"sk-parallel-item\"><div class=\"sk-item\"><div class=\"sk-label-container\"><div class=\"sk-label sk-toggleable\"><input class=\"sk-toggleable__control sk-hidden--visually\" id=\"sk-estimator-id-6\" type=\"checkbox\" ><label for=\"sk-estimator-id-6\" class=\"sk-toggleable__label sk-toggleable__label-arrow\">imputer</label><div class=\"sk-toggleable__content\"><pre>&lt;sklearn.compose._column_transformer.make_column_selector object at 0x000002238A559660&gt;</pre></div></div></div><div class=\"sk-serial\"><div class=\"sk-item\"><div class=\"sk-estimator sk-toggleable\"><input class=\"sk-toggleable__control sk-hidden--visually\" id=\"sk-estimator-id-7\" type=\"checkbox\" ><label for=\"sk-estimator-id-7\" class=\"sk-toggleable__label sk-toggleable__label-arrow\">SimpleImputer</label><div class=\"sk-toggleable__content\"><pre>SimpleImputer(strategy=&#x27;median&#x27;)</pre></div></div></div></div></div></div></div></div><div class=\"sk-item\"><div class=\"sk-estimator sk-toggleable\"><input class=\"sk-toggleable__control sk-hidden--visually\" id=\"sk-estimator-id-8\" type=\"checkbox\" ><label for=\"sk-estimator-id-8\" class=\"sk-toggleable__label sk-toggleable__label-arrow\">VarianceThreshold</label><div class=\"sk-toggleable__content\"><pre>VarianceThreshold()</pre></div></div></div><div class=\"sk-item\"><div class=\"sk-estimator sk-toggleable\"><input class=\"sk-toggleable__control sk-hidden--visually\" id=\"sk-estimator-id-9\" type=\"checkbox\" ><label for=\"sk-estimator-id-9\" class=\"sk-toggleable__label sk-toggleable__label-arrow\">StandardScaler</label><div class=\"sk-toggleable__content\"><pre>StandardScaler()</pre></div></div></div><div class=\"sk-item\"><div class=\"sk-estimator sk-toggleable\"><input class=\"sk-toggleable__control sk-hidden--visually\" id=\"sk-estimator-id-10\" type=\"checkbox\" ><label for=\"sk-estimator-id-10\" class=\"sk-toggleable__label sk-toggleable__label-arrow\">KNeighborsClassifier</label><div class=\"sk-toggleable__content\"><pre>KNeighborsClassifier()</pre></div></div></div></div></div></div></div></div><div class=\"sk-parallel-item\"><div class=\"sk-item\"><div class=\"sk-label-container\"><div class=\"sk-label sk-toggleable\"><label>random_forest</label></div></div><div class=\"sk-serial\"><div class=\"sk-item\"><div class=\"sk-serial\"><div class=\"sk-item sk-dashed-wrapped\"><div class=\"sk-label-container\"><div class=\"sk-label sk-toggleable\"><input class=\"sk-toggleable__control sk-hidden--visually\" id=\"sk-estimator-id-11\" type=\"checkbox\" ><label for=\"sk-estimator-id-11\" class=\"sk-toggleable__label sk-toggleable__label-arrow\">preprocessor: ColumnTransformer</label><div class=\"sk-toggleable__content\"><pre>ColumnTransformer(transformers=[(&#x27;onehot&#x27;,\n",
              "                                 OneHotEncoder(drop=&#x27;first&#x27;,\n",
              "                                               handle_unknown=&#x27;ignore&#x27;),\n",
              "                                 &lt;sklearn.compose._column_transformer.make_column_selector object at 0x000002238A558160&gt;),\n",
              "                                (&#x27;imputer&#x27;, SimpleImputer(strategy=&#x27;median&#x27;),\n",
              "                                 &lt;sklearn.compose._column_transformer.make_column_selector object at 0x000002238A559660&gt;)])</pre></div></div></div><div class=\"sk-parallel\"><div class=\"sk-parallel-item\"><div class=\"sk-item\"><div class=\"sk-label-container\"><div class=\"sk-label sk-toggleable\"><input class=\"sk-toggleable__control sk-hidden--visually\" id=\"sk-estimator-id-12\" type=\"checkbox\" ><label for=\"sk-estimator-id-12\" class=\"sk-toggleable__label sk-toggleable__label-arrow\">onehot</label><div class=\"sk-toggleable__content\"><pre>&lt;sklearn.compose._column_transformer.make_column_selector object at 0x000002238A558160&gt;</pre></div></div></div><div class=\"sk-serial\"><div class=\"sk-item\"><div class=\"sk-estimator sk-toggleable\"><input class=\"sk-toggleable__control sk-hidden--visually\" id=\"sk-estimator-id-13\" type=\"checkbox\" ><label for=\"sk-estimator-id-13\" class=\"sk-toggleable__label sk-toggleable__label-arrow\">OneHotEncoder</label><div class=\"sk-toggleable__content\"><pre>OneHotEncoder(drop=&#x27;first&#x27;, handle_unknown=&#x27;ignore&#x27;)</pre></div></div></div></div></div></div><div class=\"sk-parallel-item\"><div class=\"sk-item\"><div class=\"sk-label-container\"><div class=\"sk-label sk-toggleable\"><input class=\"sk-toggleable__control sk-hidden--visually\" id=\"sk-estimator-id-14\" type=\"checkbox\" ><label for=\"sk-estimator-id-14\" class=\"sk-toggleable__label sk-toggleable__label-arrow\">imputer</label><div class=\"sk-toggleable__content\"><pre>&lt;sklearn.compose._column_transformer.make_column_selector object at 0x000002238A559660&gt;</pre></div></div></div><div class=\"sk-serial\"><div class=\"sk-item\"><div class=\"sk-estimator sk-toggleable\"><input class=\"sk-toggleable__control sk-hidden--visually\" id=\"sk-estimator-id-15\" type=\"checkbox\" ><label for=\"sk-estimator-id-15\" class=\"sk-toggleable__label sk-toggleable__label-arrow\">SimpleImputer</label><div class=\"sk-toggleable__content\"><pre>SimpleImputer(strategy=&#x27;median&#x27;)</pre></div></div></div></div></div></div></div></div><div class=\"sk-item\"><div class=\"sk-estimator sk-toggleable\"><input class=\"sk-toggleable__control sk-hidden--visually\" id=\"sk-estimator-id-16\" type=\"checkbox\" ><label for=\"sk-estimator-id-16\" class=\"sk-toggleable__label sk-toggleable__label-arrow\">VarianceThreshold</label><div class=\"sk-toggleable__content\"><pre>VarianceThreshold()</pre></div></div></div><div class=\"sk-item\"><div class=\"sk-estimator sk-toggleable\"><input class=\"sk-toggleable__control sk-hidden--visually\" id=\"sk-estimator-id-17\" type=\"checkbox\" ><label for=\"sk-estimator-id-17\" class=\"sk-toggleable__label sk-toggleable__label-arrow\">RandomForestClassifier</label><div class=\"sk-toggleable__content\"><pre>RandomForestClassifier(random_state=42)</pre></div></div></div></div></div></div></div></div></div></div></div></div></div></div></div></div></div>"
            ],
            "text/plain": [
              "GridSearchCV(cv=StratifiedKFold(n_splits=3, random_state=42, shuffle=True),\n",
              "             estimator=VotingClassifier(estimators=[('knn',\n",
              "                                                     Pipeline(steps=[('preprocessor',\n",
              "                                                                      ColumnTransformer(transformers=[('onehot',\n",
              "                                                                                                       OneHotEncoder(drop='first',\n",
              "                                                                                                                     handle_unknown='ignore'),\n",
              "                                                                                                       <sklearn.compose._column_transformer.make_column_selector object at 0x000002238A558160>),\n",
              "                                                                                                      ('imputer',\n",
              "                                                                                                       SimpleIm...\n",
              "                                                                                                       SimpleImputer(strategy='median'),\n",
              "                                                                                                       <sklearn.compose._column_transformer.make_column_selector object at 0x000002238A559660>)])),\n",
              "                                                                     ('constant',\n",
              "                                                                      VarianceThreshold()),\n",
              "                                                                     ('classifier',\n",
              "                                                                      RandomForestClassifier(random_state=42))]))],\n",
              "                                        n_jobs=-1, voting='soft'),\n",
              "             n_jobs=-1,\n",
              "             param_grid=[{'knn__classifier__n_neighbors': [1, 2, 3, 4, 5, 6, 7,\n",
              "                                                           8, 9, 10]},\n",
              "                         {'random_forest__classifier__max_features': [1, 2, 3,\n",
              "                                                                      4, 5]}])"
            ]
          },
          "execution_count": 11,
          "metadata": {},
          "output_type": "execute_result"
        }
      ],
      "source": [
        "#| label: 2-g-3\n",
        "# Nested CV with parameter optimization for ensemble pipeline\n",
        "clf_gs_voting = GridSearchCV(\n",
        "    estimator=clf_voting, \n",
        "    param_grid=param_grid_voting, \n",
        "    cv=inner_cv, \n",
        "    n_jobs=-1\n",
        ")\n",
        "clf_gs_voting.fit(X_train, y_train)"
      ]
    },
    {
      "cell_type": "markdown",
      "id": "58b6acc6",
      "metadata": {},
      "source": [
        "### h)"
      ]
    },
    {
      "cell_type": "code",
      "execution_count": 13,
      "id": "1213b1b3",
      "metadata": {},
      "outputs": [
        {
          "name": "stdout",
          "output_type": "stream",
          "text": [
            "0.7467532467532467\n"
          ]
        }
      ],
      "source": [
        "#| label: 2-h-1\n",
        "# evaluate performace on test set with accuracy\n",
        "test_scores_voting = clf_gs_voting.score(X_test, y_test)\n",
        "print(test_scores_voting)"
      ]
    },
    {
      "cell_type": "markdown",
      "id": "87cb48a1",
      "metadata": {},
      "source": [
        "Accuracy does not account for imbalanced data! Let's check how the test data is distributed:"
      ]
    },
    {
      "cell_type": "code",
      "execution_count": 14,
      "id": "d1d70e5b",
      "metadata": {},
      "outputs": [
        {
          "data": {
            "text/html": [
              "<div>\n",
              "<style scoped>\n",
              "    .dataframe tbody tr th:only-of-type {\n",
              "        vertical-align: middle;\n",
              "    }\n",
              "\n",
              "    .dataframe tbody tr th {\n",
              "        vertical-align: top;\n",
              "    }\n",
              "\n",
              "    .dataframe thead th {\n",
              "        text-align: right;\n",
              "    }\n",
              "</style>\n",
              "<table border=\"1\" class=\"dataframe\">\n",
              "  <thead>\n",
              "    <tr style=\"text-align: right;\">\n",
              "      <th></th>\n",
              "      <th>0</th>\n",
              "      <th>1</th>\n",
              "    </tr>\n",
              "  </thead>\n",
              "  <tbody>\n",
              "    <tr>\n",
              "      <th>0</th>\n",
              "      <td>100</td>\n",
              "      <td>54</td>\n",
              "    </tr>\n",
              "  </tbody>\n",
              "</table>\n",
              "</div>"
            ],
            "text/plain": [
              "     0   1\n",
              "0  100  54"
            ]
          },
          "execution_count": 14,
          "metadata": {},
          "output_type": "execute_result"
        }
      ],
      "source": [
        "#| label: 2-h-2\n",
        "unique, counts = np.unique(y_test, return_counts=True)\n",
        "table = pd.DataFrame(data = dict(zip(unique, counts)), index=[0]) #index necassary because only numeric values are in dictionary\n",
        "table"
      ]
    },
    {
      "cell_type": "code",
      "execution_count": 17,
      "id": "8f94aff6",
      "metadata": {},
      "outputs": [
        {
          "data": {
            "text/html": [
              "<div>\n",
              "<style scoped>\n",
              "    .dataframe tbody tr th:only-of-type {\n",
              "        vertical-align: middle;\n",
              "    }\n",
              "\n",
              "    .dataframe tbody tr th {\n",
              "        vertical-align: top;\n",
              "    }\n",
              "\n",
              "    .dataframe thead th {\n",
              "        text-align: right;\n",
              "    }\n",
              "</style>\n",
              "<table border=\"1\" class=\"dataframe\">\n",
              "  <thead>\n",
              "    <tr style=\"text-align: right;\">\n",
              "      <th></th>\n",
              "      <th>0</th>\n",
              "      <th>1</th>\n",
              "    </tr>\n",
              "  </thead>\n",
              "  <tbody>\n",
              "    <tr>\n",
              "      <th>0</th>\n",
              "      <td>84</td>\n",
              "      <td>23</td>\n",
              "    </tr>\n",
              "    <tr>\n",
              "      <th>1</th>\n",
              "      <td>16</td>\n",
              "      <td>31</td>\n",
              "    </tr>\n",
              "  </tbody>\n",
              "</table>\n",
              "</div>"
            ],
            "text/plain": [
              "    0   1\n",
              "0  84  23\n",
              "1  16  31"
            ]
          },
          "execution_count": 17,
          "metadata": {},
          "output_type": "execute_result"
        }
      ],
      "source": [
        "#| label: 2-h-3\n",
        "pred_test = clf_gs_voting.predict(X_test)\n",
        "conf_matrix = pd.DataFrame(confusion_matrix(pred_test, y_test))\n",
        "conf_matrix"
      ]
    },
    {
      "cell_type": "markdown",
      "id": "df8eb0b3",
      "metadata": {},
      "source": [
        "The distribution shows a shift towards 'false' with $2/3$ of all test observations."
      ]
    },
    {
      "cell_type": "code",
      "execution_count": 16,
      "id": "51936a5c",
      "metadata": {},
      "outputs": [
        {
          "name": "stdout",
          "output_type": "stream",
          "text": [
            "0.707037037037037\n"
          ]
        }
      ],
      "source": [
        "#| label: 2-h-4\n",
        "# evaluate performace on test set with balanced accuracy to account for imbalances data set\n",
        "# Balanced accuracy = (Sensitivity + Specificity) / 2\n",
        "balanced_accuracy = balanced_accuracy_score(y_test, pred_test)\n",
        "print(balanced_accuracy)"
      ]
    },
    {
      "cell_type": "markdown",
      "id": "75c7b52f",
      "metadata": {},
      "source": [
        "The balanced accuracy is lower than a normal accuracy score, as it accounts seperatly for the lower Sensitivity."
      ]
    },
    {
      "cell_type": "markdown",
      "id": "8bad04c5",
      "metadata": {},
      "source": [
        "## Solution 3: Kaggle Challenge"
      ]
    },
    {
      "cell_type": "markdown",
      "id": "7cc076cf",
      "metadata": {},
      "source": [
        "We do not provide an explicit solution here, but take inspiration from the public contributions on Kaggle."
      ]
    }
  ],
  "metadata": {
    "kernelspec": {
      "display_name": "Python (I2ML)",
      "language": "python",
      "name": "python-i2ml"
    },
    "language_info": {
      "codemirror_mode": {
        "name": "ipython",
        "version": 3
      },
      "file_extension": ".py",
      "mimetype": "text/x-python",
      "name": "python",
      "nbconvert_exporter": "python",
      "pygments_lexer": "ipython3",
      "version": "3.10.12"
    }
  },
  "nbformat": 4,
  "nbformat_minor": 5
}