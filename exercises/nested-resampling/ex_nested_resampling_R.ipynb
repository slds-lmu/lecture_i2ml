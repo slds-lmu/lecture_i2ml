{
 "cells": [
  {
   "cell_type": "markdown",
   "id": "da9b2c55",
   "metadata": {},
   "source": [
    "***\n",
    "**Introduction to Machine Learning** <br>\n",
    "__[https://slds-lmu.github.io/i2ml/](https://slds-lmu.github.io/i2ml/)__\n",
    "***"
   ]
  },
  {
   "cell_type": "markdown",
   "id": "c7d3ceb9",
   "metadata": {},
   "source": [
    "# Exercise sheet: 12 Nested Resampling"
   ]
  },
  {
   "cell_type": "code",
   "execution_count": null,
   "id": "621643c4",
   "metadata": {
    "vscode": {
     "languageId": "r"
    }
   },
   "outputs": [],
   "source": [
    "#| label: import\n",
    "# Consider the following libraries for this exercise sheet:\n",
    "\n",
    "library(mlr3verse)\n",
    "library(mlr3tuning)"
   ]
  },
  {
   "cell_type": "markdown",
   "id": "924fd462",
   "metadata": {},
   "source": [
    "## Exercise 2: AutoML\n"
   ]
  },
  {
   "cell_type": "markdown",
   "id": "400a3d27",
   "metadata": {},
   "source": [
    "In this exercise, we build a simple automated machine learning (AutoML) system that will make data-driven\n",
    "choices on which learner/estimator to use and also conduct the necessary tuning."
   ]
  },
  {
   "cell_type": "markdown",
   "id": "8e90f0b7",
   "metadata": {},
   "source": [
    "`mlr3pipelines` make this endeavor easy, modular and guarded against many common modeling errors. <br>\n",
    "We work on the `pima` data to classify patients as diabetic and design a system that is able to choose between $k$-NN\n",
    "and a random forest, both with tuned hyperparameters. <br>\n",
    "To this end, we will use a graph learner, a ”single unit of data operation” that can be trained, resampled, evaluated,\n",
    ". . . as a whole – in other words, treated as any other learner."
   ]
  },
  {
   "cell_type": "markdown",
   "id": "4c579775",
   "metadata": {},
   "source": [
    "> a) Create a task object in `mlr3` (the problem is pre-specified under the ID ”pima”)."
   ]
  },
  {
   "cell_type": "code",
   "execution_count": null,
   "id": "4905507a",
   "metadata": {
    "vscode": {
     "languageId": "r"
    }
   },
   "outputs": [],
   "source": [
    "# Enter your code here:"
   ]
  },
  {
   "cell_type": "markdown",
   "id": "5c75dade",
   "metadata": {},
   "source": [
    "> b) Specify the above learners, where you need to give each learner a name as input to the `id` argument. Convert\n",
    "each learner to a pipe operator by wrapping them in the sugar function `po()`, and store them in a list."
   ]
  },
  {
   "cell_type": "code",
   "execution_count": null,
   "id": "18e82616",
   "metadata": {
    "vscode": {
     "languageId": "r"
    }
   },
   "outputs": [],
   "source": [
    "# Enter your code here:"
   ]
  },
  {
   "cell_type": "markdown",
   "id": "54d102d2",
   "metadata": {},
   "source": [
    "> c) Before starting the actual learning pipeline, take care of pre-processing. While this step is highly customizable,\n",
    "you can use an existing sequence to impute missing values, encode categorical features, and remove variables\n",
    "with constant value across all observations. For this, specify a pipeline (`ppl()`) of type \"`robustify`\" (setting\n",
    "`factors_to_numeric` to `TRUE`)."
   ]
  },
  {
   "cell_type": "code",
   "execution_count": null,
   "id": "a4e5263f",
   "metadata": {
    "vscode": {
     "languageId": "r"
    }
   },
   "outputs": [],
   "source": [
    "# Enter your code here:"
   ]
  },
  {
   "cell_type": "markdown",
   "id": "35fb4027",
   "metadata": {},
   "source": [
    "> d) Create another `ppl`, of type \"`branch`\" this time, to enable selection between your learners."
   ]
  },
  {
   "cell_type": "code",
   "execution_count": null,
   "id": "f4fcc95e",
   "metadata": {
    "vscode": {
     "languageId": "r"
    }
   },
   "outputs": [],
   "source": [
    "# Enter your code here:"
   ]
  },
  {
   "cell_type": "markdown",
   "id": "b5e22028",
   "metadata": {},
   "source": [
    "> e) Chain both pipelines using the double pipe and plot the resulting graph. Next, convert it into a graph learner\n",
    "with `as_learner()`."
   ]
  },
  {
   "cell_type": "code",
   "execution_count": null,
   "id": "ea574d5d",
   "metadata": {
    "vscode": {
     "languageId": "r"
    }
   },
   "outputs": [],
   "source": [
    "# Enter your code here:"
   ]
  },
  {
   "cell_type": "markdown",
   "id": "71df2252",
   "metadata": {},
   "source": [
    "> f) Now you have a learner object just like any other. Take a look at its tunable hyperparameters. You will optimize\n",
    "the learner selection, the number of neighbors in $k$-NN (between $3$ and $10$), and the number of split candidates\n",
    "to try in the random forest (between $1$ and $5$). Define the search range for each like so:"
   ]
  },
  {
   "cell_type": "markdown",
   "id": "c0cc3169",
   "metadata": {},
   "source": [
    "<learner>$param_set$values$<hyperparameter> <- to_tune(p_int(lower, upper))"
   ]
  },
  {
   "cell_type": "markdown",
   "id": "1d392f68",
   "metadata": {},
   "source": [
    "> `p_int` marks an integer hyperparameter with lower and upper bounds as defined; similar objects exist for other\n",
    "data types. With `to_tune()`, you signal that the hyperparameter shall be optimized in the given range."
   ]
  },
  {
   "cell_type": "markdown",
   "id": "00d01f18",
   "metadata": {},
   "source": [
    "<div class=\"alert alert-block alert-info\">\n",
    "    <b>Hint:</b>  You need to define dependencies, since the tuning process is defined by which learner is selected in the\n",
    "first place (no need to tune $k$ in a random forest).<br>\n",
    "</div>"
   ]
  },
  {
   "cell_type": "code",
   "execution_count": null,
   "id": "5b4195d5",
   "metadata": {
    "vscode": {
     "languageId": "r"
    }
   },
   "outputs": [],
   "source": [
    "# Enter your code here:"
   ]
  },
  {
   "cell_type": "markdown",
   "id": "59aaf596",
   "metadata": {},
   "source": [
    "> g) Conveniently, there is a sugar function, `tune_nested()`, that takes care of nested resampling in one step. Use\n",
    "it to evaluate your tuned graph learner with\n",
    "> - mean classification error as inner loss,\n",
    "> - random search as tuning algorithm (allowing for $3$ evaluations), and\n",
    "> - $3$-CV in both inner and outer loop."
   ]
  },
  {
   "cell_type": "code",
   "execution_count": null,
   "id": "134ed37a",
   "metadata": {
    "vscode": {
     "languageId": "r"
    }
   },
   "outputs": [],
   "source": [
    "# Enter your code here:"
   ]
  },
  {
   "cell_type": "markdown",
   "id": "e4c180fc",
   "metadata": {},
   "source": [
    "> h) Lastly, extract performance estimates per outer fold (`score()`) and overall (`aggregate()`). If you want to risk\n",
    "a look under the hood, try `extract_inner_tuning_archives()`.\n"
   ]
  },
  {
   "cell_type": "code",
   "execution_count": null,
   "id": "6ae37939",
   "metadata": {
    "vscode": {
     "languageId": "r"
    }
   },
   "outputs": [],
   "source": [
    "# Enter your code here:"
   ]
  },
  {
   "cell_type": "markdown",
   "id": "5f404d95",
   "metadata": {},
   "source": [
    "Congrats, you just designed a turn-key AutoML system that does (nearly) all the work with a few lines of code!"
   ]
  },
  {
   "cell_type": "markdown",
   "id": "f81b4095",
   "metadata": {},
   "source": [
    "## Exercise 3: Kaggle Challeng"
   ]
  },
  {
   "cell_type": "markdown",
   "id": "0f20a4ad",
   "metadata": {},
   "source": [
    "Make yourself familiar with the Titanic Kaggle challenge [https://www.kaggle.com/c/titanic](https://www.kaggle.com/c/titanic). <br>\n",
    "Based on everything you have learned in this course, do your best to achieve a good performance in the survival\n",
    "challenge.\n",
    "- Try out different classifiers you have encountered during the course (or maybe even something new?)\n",
    "- Improve the prediction by creating new features (feature engineering).\n",
    "- Tune your parameters (see: https://mlr3book.mlr-org.com/tuning.html or https://scikit-learn.org/stable/modules/grid_search.html).\n",
    "- How do you fare compared to the public leaderboard?\n"
   ]
  },
  {
   "cell_type": "markdown",
   "id": "31619c91",
   "metadata": {},
   "source": [
    "<div class=\"alert alert-block alert-info\">\n",
    "    <b> <code>mlr3</code> Hint:</b> Use the <code>titanic</code> package to directly access the data. Use <code>titanic::titanic_train</code> for training and <code>titanic::titanic_test</code> for your final prediction. <br>\n",
    "</div>"
   ]
  },
  {
   "cell_type": "code",
   "execution_count": null,
   "id": "da7b973c",
   "metadata": {
    "vscode": {
     "languageId": "r"
    }
   },
   "outputs": [],
   "source": [
    "# Enter your code here:"
   ]
  }
 ],
 "metadata": {
  "kernelspec": {
   "display_name": "R-i2ml",
   "language": "R",
   "name": "ir"
  },
  "language_info": {
   "codemirror_mode": {
    "name": "ipython",
    "version": 3
   },
   "file_extension": ".py",
   "mimetype": "text/x-python",
   "name": "R",
   "nbconvert_exporter": "python",
   "pygments_lexer": "ipython3",
   "version": "3.10.12"
  }
 },
 "nbformat": 4,
 "nbformat_minor": 5
}
