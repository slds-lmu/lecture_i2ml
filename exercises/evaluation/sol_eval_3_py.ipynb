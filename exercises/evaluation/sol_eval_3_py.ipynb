{
  "cells": [
    {
      "cell_type": "code",
      "execution_count": 1,
      "id": "0903c61d",
      "metadata": {},
      "outputs": [],
      "source": [
        "import numpy as np\n",
        "import matplotlib.pyplot as plt\n",
        "from sklearn import metrics"
      ]
    },
    {
      "cell_type": "markdown",
      "id": "35cf316b",
      "metadata": {},
      "source": [
        "## Solution 1: ROC metrics"
      ]
    },
    {
      "cell_type": "markdown",
      "id": "6535cd47",
      "metadata": {},
      "source": [
        "### a)"
      ]
    },
    {
      "cell_type": "markdown",
      "id": "a8f54d2f",
      "metadata": {},
      "source": [
        "First, sort the table:"
      ]
    },
    {
      "cell_type": "markdown",
      "id": "87f885c0",
      "metadata": {},
      "source": [
        "| ID  | True class | Score | Predicted class |\n",
        "| --- | ---------- | ----- | --------------- |\n",
        "| 6   | 1          | 0.63  | 1               |\n",
        "| 7   | 1          | 0.62  | 1               |\n",
        "| 10  | 0          | 0.57  | 1               |\n",
        "| 4   | 1          | 0.38  | 0               |\n",
        "| 1   | 0          | 0.33  | 0               |\n",
        "| 8   | 1          | 0.33  | 0               |\n",
        "| 2   | 0          | 0.27  | 0               |\n",
        "| 5   | 1          | 0.17  | 0               |\n",
        "| 9   | 0          | 0.15  | 0               |\n",
        "| 3   | 0          | 0.11  | 0               |"
      ]
    },
    {
      "cell_type": "markdown",
      "id": "39b81cb1",
      "metadata": {},
      "source": [
        "| _ | True 1 | True 0 |\n",
        "| ---- | ------ | ------ |\n",
        "| Predicted 1 | 2 | 1 |\n",
        "| Predicted 0 | 3 | 4 |"
      ]
    },
    {
      "cell_type": "markdown",
      "id": "f1ae2704",
      "metadata": {},
      "source": [
        "so we get\n",
        "\n",
        "| FN | FP | TN | TP |\n",
        "| -- | -- | -- | -- |\n",
        "| 3  | 1  | 4  | 2  |"
      ]
    },
    {
      "cell_type": "markdown",
      "id": "db7cae59",
      "metadata": {},
      "source": [
        "### b)"
      ]
    },
    {
      "cell_type": "markdown",
      "id": "129ebb0f",
      "metadata": {},
      "source": [
        "- PPV ($\\rho_{\\text{PPV}}$) = $\\frac{\\text{TP}}{\\text{TP} + \\text{FP}} = \\frac{2}{3}$\n",
        "- NPV ($\\rho_{\\text{NPV}}$) = $\\frac{\\text{TN}}{\\text{TN} + \\text{FN}} = \\frac{4}{7}$\n",
        "- TPR ($\\rho_{\\text{TPR}}$) = $\\frac{\\text{TP}}{\\text{TP} + \\text{FN}} = \\frac{2}{5}$\n",
        "- FPR ($\\rho_{\\text{FPR}}$) = $\\frac{\\text{FP}}{\\text{TN} + \\text{FP}} = \\frac{1}{5}$\n",
        "- ACC ($\\rho_{\\text{ACC}}$) = $\\frac{\\text{TP} + \\text{TN}}{\\text{TP} + \\text{TN} + \\text{FP} + \\text{FN}} = \\frac{6}{10}$\n",
        "- MCE ($\\rho_{\\text{MCE}}$) = $\\frac{\\text{FP} + \\text{FN}}{\\text{TP} + \\text{TN} + \\text{FP} + \\text{FN}} = \\frac{4}{10}$\n",
        "- F1 Score ($\\rho_{F1}$) = $\\frac{2 \\cdot \\rho_{\\text{PPV}} \\cdot \\rho_{\\text{TPR}}}{\\rho_{\\text{PPV}} + \\rho_{\\text{TPR}}} = 0.5$"
      ]
    },
    {
      "cell_type": "markdown",
      "id": "2327e8eb",
      "metadata": {},
      "source": [
        "### c)"
      ]
    },
    {
      "cell_type": "code",
      "execution_count": 2,
      "id": "523626de",
      "metadata": {},
      "outputs": [
        {
          "data": {
            "image/png": "[encoded data removed]",
            "text/plain": [
              "<Figure size 640x480 with 1 Axes>"
            ]
          },
          "metadata": {},
          "output_type": "display_data"
        }
      ],
      "source": [
        "#| label: 1-c-1\n",
        "\n",
        "y = np.array([0, 0, 0, 1, 1, 1, 1, 1, 0, 0])\n",
        "scores = np.array([0.33, 0.27, 0.11, 0.38, 0.17, 0.63, 0.62, 0.33, 0.15, 0.57])\n",
        "fpr, tpr, thresholds = metrics.roc_curve(y, scores)\n",
        "roc_display = metrics.RocCurveDisplay(fpr=fpr, tpr=tpr, roc_auc=True).plot()\n",
        "plt.plot([0, 1], [0, 1], color='grey', linestyle='--')\n",
        "plt.show()"
      ]
    },
    {
      "cell_type": "markdown",
      "id": "6188ee6c",
      "metadata": {},
      "source": [
        "We see that the resulting ROC curve is distinct from the diagonal marking a purely random classifier, but also not too great. The step function character is clearly visible for so few observations (the non-axis-parallel part in the middle is due to the fact that we have two observations with the same score but different true class, so both TPR and FPR go up when we move from $c = 0.35$ to $c= 0.3$)."
      ]
    },
    {
      "cell_type": "markdown",
      "id": "e18103de",
      "metadata": {},
      "source": [
        "### d)"
      ]
    },
    {
      "cell_type": "markdown",
      "id": "852f342c",
      "metadata": {},
      "source": [
        "The AUC computation involves adding rectangular and triangular areas, resulting in $\\rho_{\\text{AUC}} = 0.78$."
      ]
    },
    {
      "cell_type": "markdown",
      "id": "c6ec03ec",
      "metadata": {},
      "source": [
        "### e)"
      ]
    },
    {
      "cell_type": "markdown",
      "id": "6a8172dc",
      "metadata": {},
      "source": [
        "The performance indicated by the ROC curve and AUC is independent of any specific choice of threshold $c$."
      ]
    }
  ],
  "metadata": {
    "kernelspec": {
      "display_name": "Python (I2ML)",
      "language": "python",
      "name": "python-i2ml"
    },
    "language_info": {
      "codemirror_mode": {
        "name": "ipython",
        "version": 3
      },
      "file_extension": ".py",
      "mimetype": "text/x-python",
      "name": "python",
      "nbconvert_exporter": "python",
      "pygments_lexer": "ipython3",
      "version": "3.10.12"
    }
  },
  "nbformat": 4,
  "nbformat_minor": 5
}