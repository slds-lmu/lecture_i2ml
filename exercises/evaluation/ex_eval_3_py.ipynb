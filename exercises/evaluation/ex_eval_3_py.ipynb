{
  "cells": [
    {
      "cell_type": "markdown",
      "id": "ba6a2535",
      "metadata": {},
      "source": [
        "***\n",
        "**Introduction to Machine Learning** <br>\n",
        "__[https://slds-lmu.github.io/i2ml/](https://slds-lmu.github.io/i2ml/)__\n",
        "***"
      ]
    },
    {
      "cell_type": "markdown",
      "id": "29d147f6",
      "metadata": {},
      "source": [
        "# Exercise sheet 7: Evaluation 3"
      ]
    },
    {
      "cell_type": "code",
      "execution_count": 1,
      "id": "e640a7bf",
      "metadata": {},
      "outputs": [],
      "source": [
        "#| label: import\n",
        "# Consider the following libraries for this exercise sheet:\n",
        "\n",
        "import numpy as np\n",
        "import matplotlib.pyplot as plt\n",
        "from sklearn import metrics"
      ]
    },
    {
      "cell_type": "markdown",
      "id": "a124b3c3",
      "metadata": {},
      "source": [
        "## Exercise 1: ROC metrics"
      ]
    },
    {
      "cell_type": "markdown",
      "id": "516dcc07",
      "metadata": {},
      "source": [
        "Consider a binary classification algorithm that yielded the following results on 10 observations. The table shows\n",
        "true classes and predicted probabilities for class 1:"
      ]
    },
    {
      "cell_type": "markdown",
      "id": "4a9aaf78",
      "metadata": {},
      "source": [
        "| ID | True class | Prediction |\n",
        "| --- | --- | --- |\n",
        "| 1 | 0 | 0.33 |\n",
        "| 2 | 0 | 0.27 |\n",
        "| 3 | 0 | 0.11 |\n",
        "| 4 | 1 | 0.38 |\n",
        "| 5 | 1 | 0.17 |\n",
        "| 6 | 1 | 0.63 |\n",
        "| 7 | 1 | 0.62 |\n",
        "| 8 | 1 | 0.33 |\n",
        "| 9 | 0 | 0.15 |\n",
        "| 10 | 0 | 0.57 |"
      ]
    },
    {
      "cell_type": "markdown",
      "id": "63e5b88d",
      "metadata": {},
      "source": [
        "> a) Create a confusion matrix assuming a threshold of 0.5. Point out which values correspond to true positives\n",
        "(TP), true negatives (TN), false positives (FP), and false negatives (FN).\n",
        "\n",
        "> **\\# Enter your answer here:**"
      ]
    },
    {
      "cell_type": "markdown",
      "id": "7bbf5a46",
      "metadata": {},
      "source": [
        "> b) Calculate: PPV, NPV, TPR, FPR, ACC, MCE and F1 measure.\n",
        "\n",
        "> **\\# Enter your answer here:**"
      ]
    },
    {
      "cell_type": "markdown",
      "id": "36d43cd2",
      "metadata": {},
      "source": [
        "> c) Draw the ROC curve and interpret it. Feel free to use `Python` for the drawing."
      ]
    },
    {
      "cell_type": "code",
      "execution_count": 2,
      "id": "a791672e",
      "metadata": {},
      "outputs": [],
      "source": [
        "# Enter your code here:"
      ]
    },
    {
      "cell_type": "markdown",
      "id": "c3a6cfd4",
      "metadata": {},
      "source": [
        "> d) Calculate the AUC.\n",
        "\n",
        "> **\\# Enter your answer here:**"
      ]
    },
    {
      "cell_type": "markdown",
      "id": "4972eff1",
      "metadata": {},
      "source": [
        "> e) How would the ROC curve change if you had chosen a different threshold in a)?\n",
        "\n",
        "> **\\# Enter your answer here:**"
      ]
    }
  ],
  "metadata": {
    "kernelspec": {
      "display_name": "Python (I2ML)",
      "language": "python",
      "name": "python-i2ml"
    },
    "language_info": {
      "codemirror_mode": {
        "name": "ipython",
        "version": 3
      },
      "file_extension": ".py",
      "mimetype": "text/x-python",
      "name": "python",
      "nbconvert_exporter": "python",
      "pygments_lexer": "ipython3",
      "version": "3.10.13"
    }
  },
  "nbformat": 4,
  "nbformat_minor": 5
}