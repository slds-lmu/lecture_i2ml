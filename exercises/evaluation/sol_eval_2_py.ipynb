{
  "cells": [
    {
      "cell_type": "code",
      "execution_count": 1,
      "id": "ca603446",
      "metadata": {},
      "outputs": [],
      "source": [
        "# general\n",
        "import numpy as np\n",
        "import pandas as pd\n",
        "\n",
        "# sklearn\n",
        "from sklearn.linear_model import LogisticRegression\n",
        "from sklearn.preprocessing import LabelEncoder\n",
        "from sklearn.model_selection import train_test_split\n",
        "from sklearn.model_selection import RepeatedKFold\n",
        "from sklearn.model_selection import RepeatedStratifiedKFold"
      ]
    },
    {
      "cell_type": "markdown",
      "id": "d1d6c783",
      "metadata": {},
      "source": [
        "## Solution 2:  Resampling strategies"
      ]
    },
    {
      "cell_type": "markdown",
      "id": "a4877490",
      "metadata": {},
      "source": [
        "### a)"
      ]
    },
    {
      "cell_type": "markdown",
      "id": "440e5375",
      "metadata": {},
      "source": [
        "The two main advantages of resampling are:"
      ]
    },
    {
      "cell_type": "markdown",
      "id": "53aaa8a7",
      "metadata": {},
      "source": [
        "\u2022 We are able to use larger training sets (at the expense of test set size) because the high variance this incurs\n",
        "for the resulting estimator is smoothed out by averaging across repetitions."
      ]
    },
    {
      "cell_type": "markdown",
      "id": "ff6ca9d5",
      "metadata": {},
      "source": [
        "\u2022 Repeated sampling reduces the risk of getting lucky (or not so lucky) with a particular data split, which\n",
        "is especially relevant with few observations."
      ]
    },
    {
      "cell_type": "markdown",
      "id": "d1f4cd4e",
      "metadata": {},
      "source": [
        "### b)"
      ]
    },
    {
      "cell_type": "markdown",
      "id": "8955588b",
      "metadata": {},
      "source": [
        "You can find the [german_credit_for_py.csv](https://github.com/slds-lmu/lecture_i2ml/blob/master/exercises/data/german_credit_for_py.csv) in our GitHub. The feature columns have already been preprocessed with *OneHotEncoder* for categorial features and *OrdinalEncoder* for ordianal features(installment_rate, present_residence, number_credits)."
      ]
    },
    {
      "cell_type": "code",
      "execution_count": 2,
      "id": "8f4efeb8",
      "metadata": {},
      "outputs": [
        {
          "data": {
            "text/html": [
              "<div>\n",
              "<style scoped>\n",
              "    .dataframe tbody tr th:only-of-type {\n",
              "        vertical-align: middle;\n",
              "    }\n",
              "\n",
              "    .dataframe tbody tr th {\n",
              "        vertical-align: top;\n",
              "    }\n",
              "\n",
              "    .dataframe thead th {\n",
              "        text-align: right;\n",
              "    }\n",
              "</style>\n",
              "<table border=\"1\" class=\"dataframe\">\n",
              "  <thead>\n",
              "    <tr style=\"text-align: right;\">\n",
              "      <th></th>\n",
              "      <th>credit_risk</th>\n",
              "      <th>status_... &gt;= 200 DM / salary for at least 1 year</th>\n",
              "      <th>status_0&lt;= ... &lt; 200 DM</th>\n",
              "      <th>status_no checking account</th>\n",
              "      <th>credit_history_critical account/other credits elsewhere</th>\n",
              "      <th>credit_history_delay in paying off in the past</th>\n",
              "      <th>credit_history_existing credits paid back duly till now</th>\n",
              "      <th>credit_history_no credits taken/all credits paid back duly</th>\n",
              "      <th>purpose_car (new)</th>\n",
              "      <th>purpose_car (used)</th>\n",
              "      <th>...</th>\n",
              "      <th>job_unskilled - resident</th>\n",
              "      <th>people_liable_3 or more</th>\n",
              "      <th>telephone_yes (under customer name)</th>\n",
              "      <th>foreign_worker_yes</th>\n",
              "      <th>installment_rate</th>\n",
              "      <th>present_residence</th>\n",
              "      <th>number_credits</th>\n",
              "      <th>duration</th>\n",
              "      <th>amount</th>\n",
              "      <th>age</th>\n",
              "    </tr>\n",
              "  </thead>\n",
              "  <tbody>\n",
              "    <tr>\n",
              "      <th>0</th>\n",
              "      <td>good</td>\n",
              "      <td>0.0</td>\n",
              "      <td>0.0</td>\n",
              "      <td>1.0</td>\n",
              "      <td>0.0</td>\n",
              "      <td>0.0</td>\n",
              "      <td>0.0</td>\n",
              "      <td>0.0</td>\n",
              "      <td>0.0</td>\n",
              "      <td>0.0</td>\n",
              "      <td>...</td>\n",
              "      <td>0.0</td>\n",
              "      <td>0.0</td>\n",
              "      <td>1.0</td>\n",
              "      <td>0.0</td>\n",
              "      <td>0.0</td>\n",
              "      <td>3.0</td>\n",
              "      <td>1.0</td>\n",
              "      <td>6</td>\n",
              "      <td>1169</td>\n",
              "      <td>67</td>\n",
              "    </tr>\n",
              "    <tr>\n",
              "      <th>1</th>\n",
              "      <td>bad</td>\n",
              "      <td>0.0</td>\n",
              "      <td>0.0</td>\n",
              "      <td>0.0</td>\n",
              "      <td>0.0</td>\n",
              "      <td>0.0</td>\n",
              "      <td>0.0</td>\n",
              "      <td>1.0</td>\n",
              "      <td>0.0</td>\n",
              "      <td>0.0</td>\n",
              "      <td>...</td>\n",
              "      <td>0.0</td>\n",
              "      <td>0.0</td>\n",
              "      <td>0.0</td>\n",
              "      <td>0.0</td>\n",
              "      <td>2.0</td>\n",
              "      <td>1.0</td>\n",
              "      <td>0.0</td>\n",
              "      <td>48</td>\n",
              "      <td>5951</td>\n",
              "      <td>22</td>\n",
              "    </tr>\n",
              "    <tr>\n",
              "      <th>2</th>\n",
              "      <td>good</td>\n",
              "      <td>1.0</td>\n",
              "      <td>0.0</td>\n",
              "      <td>0.0</td>\n",
              "      <td>0.0</td>\n",
              "      <td>0.0</td>\n",
              "      <td>0.0</td>\n",
              "      <td>0.0</td>\n",
              "      <td>0.0</td>\n",
              "      <td>0.0</td>\n",
              "      <td>...</td>\n",
              "      <td>1.0</td>\n",
              "      <td>1.0</td>\n",
              "      <td>0.0</td>\n",
              "      <td>0.0</td>\n",
              "      <td>2.0</td>\n",
              "      <td>2.0</td>\n",
              "      <td>0.0</td>\n",
              "      <td>12</td>\n",
              "      <td>2096</td>\n",
              "      <td>49</td>\n",
              "    </tr>\n",
              "    <tr>\n",
              "      <th>3</th>\n",
              "      <td>good</td>\n",
              "      <td>0.0</td>\n",
              "      <td>0.0</td>\n",
              "      <td>1.0</td>\n",
              "      <td>0.0</td>\n",
              "      <td>0.0</td>\n",
              "      <td>0.0</td>\n",
              "      <td>1.0</td>\n",
              "      <td>0.0</td>\n",
              "      <td>1.0</td>\n",
              "      <td>...</td>\n",
              "      <td>0.0</td>\n",
              "      <td>1.0</td>\n",
              "      <td>0.0</td>\n",
              "      <td>0.0</td>\n",
              "      <td>2.0</td>\n",
              "      <td>3.0</td>\n",
              "      <td>0.0</td>\n",
              "      <td>42</td>\n",
              "      <td>7882</td>\n",
              "      <td>45</td>\n",
              "    </tr>\n",
              "    <tr>\n",
              "      <th>4</th>\n",
              "      <td>bad</td>\n",
              "      <td>0.0</td>\n",
              "      <td>0.0</td>\n",
              "      <td>1.0</td>\n",
              "      <td>0.0</td>\n",
              "      <td>0.0</td>\n",
              "      <td>1.0</td>\n",
              "      <td>0.0</td>\n",
              "      <td>0.0</td>\n",
              "      <td>0.0</td>\n",
              "      <td>...</td>\n",
              "      <td>0.0</td>\n",
              "      <td>1.0</td>\n",
              "      <td>0.0</td>\n",
              "      <td>0.0</td>\n",
              "      <td>1.0</td>\n",
              "      <td>3.0</td>\n",
              "      <td>1.0</td>\n",
              "      <td>24</td>\n",
              "      <td>4870</td>\n",
              "      <td>53</td>\n",
              "    </tr>\n",
              "  </tbody>\n",
              "</table>\n",
              "<p>5 rows \u00d7 49 columns</p>\n",
              "</div>"
            ],
            "text/plain": [
              "  credit_risk  status_... >= 200 DM / salary for at least 1 year  \\\n",
              "0        good                                                0.0   \n",
              "1         bad                                                0.0   \n",
              "2        good                                                1.0   \n",
              "3        good                                                0.0   \n",
              "4         bad                                                0.0   \n",
              "\n",
              "   status_0<= ... < 200 DM  status_no checking account  \\\n",
              "0                      0.0                         1.0   \n",
              "1                      0.0                         0.0   \n",
              "2                      0.0                         0.0   \n",
              "3                      0.0                         1.0   \n",
              "4                      0.0                         1.0   \n",
              "\n",
              "   credit_history_critical account/other credits elsewhere  \\\n",
              "0                                                0.0         \n",
              "1                                                0.0         \n",
              "2                                                0.0         \n",
              "3                                                0.0         \n",
              "4                                                0.0         \n",
              "\n",
              "   credit_history_delay in paying off in the past  \\\n",
              "0                                             0.0   \n",
              "1                                             0.0   \n",
              "2                                             0.0   \n",
              "3                                             0.0   \n",
              "4                                             0.0   \n",
              "\n",
              "   credit_history_existing credits paid back duly till now  \\\n",
              "0                                                0.0         \n",
              "1                                                0.0         \n",
              "2                                                0.0         \n",
              "3                                                0.0         \n",
              "4                                                1.0         \n",
              "\n",
              "   credit_history_no credits taken/all credits paid back duly  \\\n",
              "0                                                0.0            \n",
              "1                                                1.0            \n",
              "2                                                0.0            \n",
              "3                                                1.0            \n",
              "4                                                0.0            \n",
              "\n",
              "   purpose_car (new)  purpose_car (used)  ...  job_unskilled - resident  \\\n",
              "0                0.0                 0.0  ...                       0.0   \n",
              "1                0.0                 0.0  ...                       0.0   \n",
              "2                0.0                 0.0  ...                       1.0   \n",
              "3                0.0                 1.0  ...                       0.0   \n",
              "4                0.0                 0.0  ...                       0.0   \n",
              "\n",
              "   people_liable_3 or more  telephone_yes (under customer name)  \\\n",
              "0                      0.0                                  1.0   \n",
              "1                      0.0                                  0.0   \n",
              "2                      1.0                                  0.0   \n",
              "3                      1.0                                  0.0   \n",
              "4                      1.0                                  0.0   \n",
              "\n",
              "   foreign_worker_yes  installment_rate  present_residence  number_credits  \\\n",
              "0                 0.0               0.0                3.0             1.0   \n",
              "1                 0.0               2.0                1.0             0.0   \n",
              "2                 0.0               2.0                2.0             0.0   \n",
              "3                 0.0               2.0                3.0             0.0   \n",
              "4                 0.0               1.0                3.0             1.0   \n",
              "\n",
              "   duration  amount  age  \n",
              "0         6    1169   67  \n",
              "1        48    5951   22  \n",
              "2        12    2096   49  \n",
              "3        42    7882   45  \n",
              "4        24    4870   53  \n",
              "\n",
              "[5 rows x 49 columns]"
            ]
          },
          "execution_count": 2,
          "metadata": {},
          "output_type": "execute_result"
        }
      ],
      "source": [
        "#| label: 2-b-1\n",
        "\n",
        "german_credit = pd.read_csv(\"../data/german_credit_for_py.csv\")\n",
        "german_credit.head()"
      ]
    },
    {
      "cell_type": "code",
      "execution_count": 3,
      "id": "845d486b",
      "metadata": {},
      "outputs": [
        {
          "name": "stdout",
          "output_type": "stream",
          "text": [
            "Mean accuracy: 0.78\n",
            "Mean classification error : 0.22\n"
          ]
        }
      ],
      "source": [
        "#| label: 2-b-2\n",
        "\n",
        "german_x_raw = german_credit.iloc[:,1:]\n",
        "german_y_raw = german_credit.iloc[:,0]\n",
        "\n",
        "# Initialize encoder for target\n",
        "enc_target = LabelEncoder()\n",
        "\n",
        "enc_target.fit(german_y_raw.values.ravel()) \n",
        "# .values will give the values in a numpy array (shape: (n,1))\n",
        "# .ravel will convert that array shape to (n, ) (i.e. flatten it)\n",
        "\n",
        "german_y = enc_target.transform(german_y_raw.values.ravel()) # now numpy array\n",
        "# you can also use enc_target.fit_transform(X) to combine both steps\n",
        "\n",
        "german_x = np.asarray(german_x_raw)\n",
        "\n",
        "# Using whole data set to train and predict; increase max iterations for convergence\n",
        "log_mod = LogisticRegression(max_iter=10000).fit(german_x, german_y)\n",
        "\n",
        "print(\"Mean accuracy: %.2f\" % log_mod.score(german_x, german_y))\n",
        "print(\"Mean classification error : %.2f\" % (1-log_mod.score(german_x, german_y)))\n"
      ]
    },
    {
      "cell_type": "markdown",
      "id": "e2f04eda",
      "metadata": {},
      "source": [
        "### c)"
      ]
    },
    {
      "cell_type": "markdown",
      "id": "d7d18975",
      "metadata": {},
      "source": [
        "### (i) 3x10-CV"
      ]
    },
    {
      "cell_type": "code",
      "execution_count": 4,
      "id": "11ac09eb",
      "metadata": {},
      "outputs": [
        {
          "ename": "NameError",
          "evalue": "name 'german_X' is not defined",
          "output_type": "error",
          "traceback": [
            "\u001b[0;31m---------------------------------------------------------------------------\u001b[0m",
            "\u001b[0;31mNameError\u001b[0m                                 Traceback (most recent call last)",
            "Cell \u001b[0;32mIn[4], line 10\u001b[0m\n\u001b[1;32m      6\u001b[0m \u001b[38;5;28;01mfor\u001b[39;00m train, test \u001b[38;5;129;01min\u001b[39;00m rkf_3x10\u001b[38;5;241m.\u001b[39msplit(german_x):\n\u001b[1;32m      7\u001b[0m     log_mod \u001b[38;5;241m=\u001b[39m LogisticRegression(max_iter\u001b[38;5;241m=\u001b[39m\u001b[38;5;241m10000\u001b[39m)\u001b[38;5;241m.\u001b[39mfit(\n\u001b[1;32m      8\u001b[0m         german_x[train,:], german_y[train]\n\u001b[1;32m      9\u001b[0m     )\n\u001b[0;32m---> 10\u001b[0m     err\u001b[38;5;241m.\u001b[39mappend(\u001b[38;5;241m1\u001b[39m\u001b[38;5;241m-\u001b[39mlog_mod\u001b[38;5;241m.\u001b[39mscore(\u001b[43mgerman_X\u001b[49m[test,:], german_y[test]))\n\u001b[1;32m     11\u001b[0m     \u001b[38;5;66;03m# score gives mean accuracy\u001b[39;00m\n\u001b[1;32m     13\u001b[0m res \u001b[38;5;241m=\u001b[39m np\u001b[38;5;241m.\u001b[39marray(err)\n",
            "\u001b[0;31mNameError\u001b[0m: name 'german_X' is not defined"
          ]
        }
      ],
      "source": [
        "#| label: 2-c-1\n",
        "\n",
        "random_state = 14\n",
        "err = []\n",
        "rkf_3x10 = RepeatedKFold(n_splits=10, n_repeats=3, random_state=random_state)\n",
        "for train, test in rkf_3x10.split(german_x):\n",
        "    log_mod = LogisticRegression(max_iter=10000).fit(\n",
        "        german_x[train,:], german_y[train]\n",
        "    )\n",
        "    err.append(1-log_mod.score(german_X[test,:], german_y[test]))\n",
        "    # score gives mean accuracy\n",
        "\n",
        "res = np.array(err)\n",
        "print(\"MCE of 3x10 CV: \", res.mean())"
      ]
    },
    {
      "cell_type": "markdown",
      "id": "e33ae848",
      "metadata": {},
      "source": [
        "### (ii) 10x3-CV"
      ]
    },
    {
      "cell_type": "code",
      "execution_count": null,
      "id": "a09080f3",
      "metadata": {},
      "outputs": [
        {
          "name": "stdout",
          "output_type": "stream",
          "text": [
            "MCE of 10x3 CV:  0.253094112076148\n"
          ]
        }
      ],
      "source": [
        "#| label: 2-c-2\n",
        "\n",
        "err = []\n",
        "rkf_10x3 = RepeatedKFold(n_splits=3, n_repeats=10, random_state=random_state)\n",
        "for train, test in rkf_10x3.split(german_x):\n",
        "    log_mod = LogisticRegression(max_iter=10000).fit(\n",
        "        german_x[train,:], german_y[train]\n",
        "    )\n",
        "    err.append(1-log_mod.score(german_x[test,:], german_y[test]))\n",
        "\n",
        "res = np.array(err)\n",
        "print(\"MCE of 10x3 CV: \",res.mean())"
      ]
    },
    {
      "cell_type": "markdown",
      "id": "71bdff04",
      "metadata": {},
      "source": [
        "### (iii) 3x10-CV with stratification for the feature foreign worker"
      ]
    },
    {
      "cell_type": "code",
      "execution_count": null,
      "id": "73ca13db",
      "metadata": {},
      "outputs": [
        {
          "name": "stdout",
          "output_type": "stream",
          "text": [
            "MCE of 3x10-CV with stratification:  0.24966666666666665\n"
          ]
        }
      ],
      "source": [
        "#| label: 2-c-3\n",
        "\n",
        "err = []\n",
        "strat_gkf_10 = RepeatedStratifiedKFold(\n",
        "    n_splits=10, n_repeats=3, random_state=random_state\n",
        ")\n",
        "# Note that providing y in split(X, y) is sufficient to generate the splits, \n",
        "# and hence np.zeros(n_samples) may be used as a placeholder for X instead \n",
        "# of actual training data.\n",
        "for train, test in strat_gkf_10.split(german_x, german_x[:,41]): \n",
        "    # index 41 stands for column of foreign_workers_yes\n",
        "    log_mod = LogisticRegression(max_iter=10000).fit(\n",
        "        german_x[train,:], german_y[train]\n",
        "    )\n",
        "    err.append(1-log_mod.score(german_x[test,:], german_y[test]))\n",
        "\n",
        "res = np.array(err)\n",
        "print(\"MCE of 3x10-CV with stratification: \", res.mean())"
      ]
    },
    {
      "cell_type": "markdown",
      "id": "0c9e5e7e",
      "metadata": {},
      "source": [
        "### (iv) Hold-out with 90% training data"
      ]
    },
    {
      "cell_type": "code",
      "execution_count": null,
      "id": "6b1b3fd0",
      "metadata": {},
      "outputs": [
        {
          "name": "stdout",
          "output_type": "stream",
          "text": [
            "MCE of Hold-out split:  0.30000000000000004\n"
          ]
        }
      ],
      "source": [
        "#| label: 2-c-4\n",
        "\n",
        "x_train, x_test, y_train, y_test = train_test_split(\n",
        "    german_x, german_y, test_size = 0.1, random_state=random_state\n",
        ")\n",
        "log_mod = LogisticRegression(max_iter=10000).fit(x_train, y_train)\n",
        "german_pred = log_mod.predict(x_test)\n",
        "print(\"MCE of Hold-out split: \", 1-log_mod.score(x_test, y_test))"
      ]
    },
    {
      "cell_type": "markdown",
      "id": "a4fdc7ca",
      "metadata": {},
      "source": [
        "### d)"
      ]
    },
    {
      "cell_type": "markdown",
      "id": "43d03c66",
      "metadata": {},
      "source": [
        "Generalization error estimates are pretty stable across the different resampling strategies because we have a\n",
        "fairly large number (1000) of observations. Still, the pessimistic bias of small training sets is visible: 10x3-CV,\n",
        "using roughly 67% of data for training in each split, estimates a higher generalization error than 3x10-CV with\n",
        "roughly 90% training data. Stratification by foreign worker does not seem to have much effect on the estimate.\n",
        "However, we see a glaring difference when we use a single 90%-10% split, where the estimated GE is roughly 8.5\n",
        "percentage points higher than with 3x10-CV, meaning we got a higher error just because of an unlucky split."
      ]
    },
    {
      "cell_type": "markdown",
      "id": "be214687",
      "metadata": {},
      "source": [
        "Comparing the results (except for the unreliable one produced by a single split) with the training error from b)\n",
        "indicates no serious overfitting."
      ]
    },
    {
      "cell_type": "markdown",
      "id": "110a8c20",
      "metadata": {},
      "source": [
        "### e)"
      ]
    },
    {
      "cell_type": "markdown",
      "id": "1533c375",
      "metadata": {},
      "source": [
        "LOO is not a very good idea here \u2013 with 1000 observations this would take a very long time. Also, LOO has\n",
        "high variance by nature. Repeated CV with a sufficient number of folds should give us a pretty good idea about\n",
        "the expected GE of our learner."
      ]
    }
  ],
  "metadata": {
    "kernelspec": {
      "display_name": "Python (I2ML)",
      "language": "python",
      "name": "python-i2ml"
    },
    "language_info": {
      "codemirror_mode": {
        "name": "ipython",
        "version": 3
      },
      "file_extension": ".py",
      "mimetype": "text/x-python",
      "name": "python",
      "nbconvert_exporter": "python",
      "pygments_lexer": "ipython3",
      "version": "3.10.13"
    }
  },
  "nbformat": 4,
  "nbformat_minor": 5
}