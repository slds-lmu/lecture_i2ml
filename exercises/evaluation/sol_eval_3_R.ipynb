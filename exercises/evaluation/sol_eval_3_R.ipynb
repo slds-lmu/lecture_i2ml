{
 "cells": [
  {
   "cell_type": "code",
   "execution_count": 2,
   "id": "0903c61d",
   "metadata": {
    "vscode": {
     "languageId": "r"
    }
   },
   "outputs": [],
   "source": [
    "library(ggplot2)"
   ]
  },
  {
   "cell_type": "markdown",
   "id": "35cf316b",
   "metadata": {},
   "source": [
    "## Solution 1: ROC metrics"
   ]
  },
  {
   "cell_type": "markdown",
   "id": "37313e9b",
   "metadata": {},
   "source": [
    "### a)"
   ]
  },
  {
   "cell_type": "markdown",
   "id": "e9d3c864",
   "metadata": {},
   "source": [
    "First, sort the table:"
   ]
  },
  {
   "cell_type": "markdown",
   "id": "fe292805",
   "metadata": {},
   "source": [
    "| ID  | True class | Score | Predicted class |\n",
    "| --- | ---------- | ----- | --------------- |\n",
    "| 6   | 1          | 0.63  | 1               |\n",
    "| 7   | 1          | 0.62  | 1               |\n",
    "| 10  | 0          | 0.57  | 1               |\n",
    "| 4   | 1          | 0.38  | 0               |\n",
    "| 1   | 0          | 0.33  | 0               |\n",
    "| 8   | 1          | 0.33  | 0               |\n",
    "| 2   | 0          | 0.27  | 0               |\n",
    "| 5   | 1          | 0.17  | 0               |\n",
    "| 9   | 0          | 0.15  | 0               |\n",
    "| 3   | 0          | 0.11  | 0               |"
   ]
  },
  {
   "cell_type": "markdown",
   "id": "9f56dd32",
   "metadata": {},
   "source": [
    "| _ | True 1 | True 0 |\n",
    "| ---- | ------ | ------ |\n",
    "| Predicted 1 | 2 | 1 |\n",
    "| Predicted 0 | 3 | 4 |"
   ]
  },
  {
   "cell_type": "markdown",
   "id": "d30b2731",
   "metadata": {},
   "source": [
    "so we get\n",
    "\n",
    "| FN | FP | TN | TP |\n",
    "| -- | -- | -- | -- |\n",
    "| 3  | 1  | 4  | 2  |"
   ]
  },
  {
   "cell_type": "markdown",
   "id": "c6ae97f3",
   "metadata": {},
   "source": [
    "### b)"
   ]
  },
  {
   "cell_type": "markdown",
   "id": "9da2b62a",
   "metadata": {},
   "source": [
    "- PPV ($\\rho_{\\text{PPV}}$) = $\\frac{\\text{TP}}{\\text{TP} + \\text{FP}} = \\frac{2}{3}$\n",
    "- NPV ($\\rho_{\\text{NPV}}$) = $\\frac{\\text{TN}}{\\text{TN} + \\text{FN}} = \\frac{4}{7}$\n",
    "- TPR ($\\rho_{\\text{TPR}}$) = $\\frac{\\text{TP}}{\\text{TP} + \\text{FN}} = \\frac{2}{5}$\n",
    "- FPR ($\\rho_{\\text{FPR}}$) = $\\frac{\\text{FP}}{\\text{TN} + \\text{FP}} = \\frac{1}{5}$\n",
    "- ACC ($\\rho_{\\text{ACC}}$) = $\\frac{\\text{TP} + \\text{TN}}{\\text{TP} + \\text{TN} + \\text{FP} + \\text{FN}} = \\frac{6}{10}$\n",
    "- MCE ($\\rho_{\\text{MCE}}$) = $\\frac{\\text{FP} + \\text{FN}}{\\text{TP} + \\text{TN} + \\text{FP} + \\text{FN}} = \\frac{4}{10}$\n",
    "- F1 Score ($\\rho_{F1}$) = $\\frac{2 \\cdot \\rho_{\\text{PPV}} \\cdot \\rho_{\\text{TPR}}}{\\rho_{\\text{PPV}} + \\rho_{\\text{TPR}}} = 0.5$"
   ]
  },
  {
   "cell_type": "markdown",
   "id": "2327e8eb",
   "metadata": {},
   "source": [
    "### c)"
   ]
  },
  {
   "cell_type": "code",
   "execution_count": 4,
   "id": "523626de",
   "metadata": {
    "vscode": {
     "languageId": "r"
    }
   },
   "outputs": [
    {
     "data": {
      "image/png": "[encoded data removed]",
      "text/plain": [
       "plot without title"
      ]
     },
     "metadata": {
      "image/png": {
       "height": 420,
       "width": 420
      }
     },
     "output_type": "display_data"
    }
   ],
   "source": [
    "#| label: roc-r\n",
    "roc_data <- data.frame(\n",
    "  TPR = c(0, 0.2, 0.4, 0.4, 0.6, 0.8, 0.8, 1, 1, 1),\n",
    "  FPR = c(0, 0, 0, 0.2, 0.2, 0.4, 0.6, 0.6, 0.8, 1)) \n",
    "\n",
    "ggplot(roc_data, aes(x = FPR, y = TPR)) + geom_line() + \n",
    "  geom_abline(slope = 1, intercept = 0, linetype = 'dashed') +\n",
    "  theme_bw()"
   ]
  },
  {
   "cell_type": "markdown",
   "id": "2afc83be",
   "metadata": {},
   "source": [
    "We see that the resulting ROC curve is distinct from the diagonal marking a purely random classifier, but also not too great. The step function character is clearly visible for so few observations (the non-axis-parallel part in the middle is due to the fact that we have two observations with the same score but different true class, so both TPR and FPR go up when we move from $c = 0.35$ to $c= 0.3$)."
   ]
  }
 ],
 "metadata": {
  "kernelspec": {
   "display_name": "R",
   "language": "R",
   "name": "ir"
  },
  "language_info": {
   "codemirror_mode": "r",
   "file_extension": ".r",
   "mimetype": "text/x-r-source",
   "name": "R",
   "pygments_lexer": "r",
   "version": "4.4.0"
  }
 },
 "nbformat": 4,
 "nbformat_minor": 5
}
