{
 "cells": [
  {
   "cell_type": "code",
   "execution_count": 37,
   "id": "3ca41b68",
   "metadata": {
    "vscode": {
     "languageId": "r"
    }
   },
   "outputs": [],
   "source": [
    "#| label: import\n",
    "\n",
    "library(ggplot2)\n",
    "library(mlr3)\n",
    "library(mlr3learners)"
   ]
  },
  {
   "cell_type": "markdown",
   "id": "ba043b79",
   "metadata": {},
   "source": [
    "## Solution 1: Evaluating regression learners"
   ]
  },
  {
   "cell_type": "markdown",
   "id": "5a5f5834",
   "metadata": {},
   "source": [
    "### a)"
   ]
  },
  {
   "cell_type": "markdown",
   "id": "1e9be2a5",
   "metadata": {},
   "source": [
    "Since the polynomial learner clearly achieves a better fit for the training data and some observations lie rather far from the regression line, which is strongly penalized by $L2$ loss, it will have lower empirical risk than the linear learner."
   ]
  },
  {
   "cell_type": "markdown",
   "id": "39d6a73b",
   "metadata": {},
   "source": [
    "### b)"
   ]
  },
  {
   "cell_type": "markdown",
   "id": "8f6718b2",
   "metadata": {},
   "source": [
    "First and foremost, evaluation on the training data is almost never a good idea. Under certain conditions the training error does tell us something about generalization ability, but for flexible learners and/or small training data it is deceptive due to optimistic bias. In this particular situation, we have few training observations and quite some points that look a little extreme. A low training error might be achieved by a learner that fits every quirk in the training data but generalizes poorly to unseen points with only slightly different distribution. Evaluation on separate test data is therefore non-negotiable."
   ]
  },
  {
   "cell_type": "markdown",
   "id": "2f0fd62c",
   "metadata": {},
   "source": [
    "### c) "
   ]
  },
  {
   "cell_type": "markdown",
   "id": "d6c38b61",
   "metadata": {},
   "source": [
    " We fit the polynomial and linear learner and then compute the squared and absolute differences between their\n",
    "respective predictions and the true target values:"
   ]
  },
  {
   "cell_type": "code",
   "execution_count": 1,
   "id": "36da4b69",
   "metadata": {
    "vscode": {
     "languageId": "r"
    }
   },
   "outputs": [
    {
     "data": {
      "text/html": [
       "<table class=\"dataframe\">\n",
       "<caption>A data.frame: 6 × 2</caption>\n",
       "<thead>\n",
       "\t<tr><th></th><th scope=col>x</th><th scope=col>y</th></tr>\n",
       "\t<tr><th></th><th scope=col>&lt;dbl&gt;</th><th scope=col>&lt;dbl&gt;</th></tr>\n",
       "</thead>\n",
       "<tbody>\n",
       "\t<tr><th scope=row>1</th><td>10.00000</td><td>6.719762</td></tr>\n",
       "\t<tr><th scope=row>2</th><td>10.10204</td><td>6.888379</td></tr>\n",
       "\t<tr><th scope=row>3</th><td>10.20408</td><td>7.793217</td></tr>\n",
       "\t<tr><th scope=row>4</th><td>10.30612</td><td>7.066415</td></tr>\n",
       "\t<tr><th scope=row>5</th><td>10.40816</td><td>7.119966</td></tr>\n",
       "\t<tr><th scope=row>6</th><td>10.51020</td><td>7.943824</td></tr>\n",
       "</tbody>\n",
       "</table>\n"
      ],
      "text/latex": [
       "A data.frame: 6 × 2\n",
       "\\begin{tabular}{r|ll}\n",
       "  & x & y\\\\\n",
       "  & <dbl> & <dbl>\\\\\n",
       "\\hline\n",
       "\t1 & 10.00000 & 6.719762\\\\\n",
       "\t2 & 10.10204 & 6.888379\\\\\n",
       "\t3 & 10.20408 & 7.793217\\\\\n",
       "\t4 & 10.30612 & 7.066415\\\\\n",
       "\t5 & 10.40816 & 7.119966\\\\\n",
       "\t6 & 10.51020 & 7.943824\\\\\n",
       "\\end{tabular}\n"
      ],
      "text/markdown": [
       "\n",
       "A data.frame: 6 × 2\n",
       "\n",
       "| <!--/--> | x &lt;dbl&gt; | y &lt;dbl&gt; |\n",
       "|---|---|---|\n",
       "| 1 | 10.00000 | 6.719762 |\n",
       "| 2 | 10.10204 | 6.888379 |\n",
       "| 3 | 10.20408 | 7.793217 |\n",
       "| 4 | 10.30612 | 7.066415 |\n",
       "| 5 | 10.40816 | 7.119966 |\n",
       "| 6 | 10.51020 | 7.943824 |\n",
       "\n"
      ],
      "text/plain": [
       "  x        y       \n",
       "1 10.00000 6.719762\n",
       "2 10.10204 6.888379\n",
       "3 10.20408 7.793217\n",
       "4 10.30612 7.066415\n",
       "5 10.40816 7.119966\n",
       "6 10.51020 7.943824"
      ]
     },
     "metadata": {},
     "output_type": "display_data"
    }
   ],
   "source": [
    "#| label: legal-data\n",
    "\n",
    "set.seed(123)\n",
    "x_train <- seq(10, 15, length.out = 50)\n",
    "y_train <- 10 + 3 * sin(0.15 * pi * x_train) + rnorm(length(x_train), sd = 0.5)\n",
    "data_train <- data.frame(x = x_train, y = y_train)\n",
    "set.seed(321)\n",
    "x_test <- seq(10, 15, length.out = 10)\n",
    "y_test <- 10 + 3 * sin(0.15 * pi * x_test) + rnorm(length(x_test), sd = 0.5)\n",
    "data_test <- data.frame(x = x_test, y = y_test)\n",
    "head(data_train)"
   ]
  },
  {
   "cell_type": "code",
   "execution_count": 19,
   "id": "1d0a74e9-0267-416e-8ab1-4f4d03828f0b",
   "metadata": {},
   "outputs": [
    {
     "data": {
      "text/html": [
       "'MAE for Polynomial and Linear fit: 0.4140, 0.3828'"
      ],
      "text/latex": [
       "'MAE for Polynomial and Linear fit: 0.4140, 0.3828'"
      ],
      "text/markdown": [
       "'MAE for Polynomial and Linear fit: 0.4140, 0.3828'"
      ],
      "text/plain": [
       "[1] \"MAE for Polynomial and Linear fit: 0.4140, 0.3828\""
      ]
     },
     "metadata": {},
     "output_type": "display_data"
    },
    {
     "data": {
      "text/html": [
       "'MSE for Polynomial and Linear fit: 0.2731, 0.3032'"
      ],
      "text/latex": [
       "'MSE for Polynomial and Linear fit: 0.2731, 0.3032'"
      ],
      "text/markdown": [
       "'MSE for Polynomial and Linear fit: 0.2731, 0.3032'"
      ],
      "text/plain": [
       "[1] \"MSE for Polynomial and Linear fit: 0.2731, 0.3032\""
      ]
     },
     "metadata": {},
     "output_type": "display_data"
    }
   ],
   "source": [
    "#| label: legal-learn\n",
    "\n",
    "# train learners\n",
    "polynomial_learner <- lm(y ~ poly(x, 21), data_train)\n",
    "linear_learner <- lm(y ~ x, data_train)\n",
    "\n",
    "# predict with both learners\n",
    "y_polynomial <- predict(polynomial_learner, data_test)\n",
    "y_lm <- predict(linear_learner, data_test)\n",
    "\n",
    "# compute errors\n",
    "abs_differences <- lapply(\n",
    "  list(y_polynomial, y_lm), \n",
    "  function(i) abs(data_test$y - i)\n",
    ")\n",
    "errors_mse <- sapply(abs_differences, function(i) mean(i^2))\n",
    "errors_mae <- sapply(abs_differences, mean)\n",
    "\n",
    "sprintf(\n",
    "    \"MAE for Polynomial and Linear fit: %.4f, %.4f\", \n",
    "    errors_mae[1], \n",
    "    errors_mae[2]\n",
    ")\n",
    "sprintf(\n",
    "    \"MSE for Polynomial and Linear fit: %.4f, %.4f\", \n",
    "    errors_mse[1], \n",
    "    errors_mse[2]\n",
    ")"
   ]
  },
  {
   "cell_type": "markdown",
   "id": "8cdd4550",
   "metadata": {},
   "source": [
    "The picture is inconclusive: based on MSE, we should prefer the complex polynomial model, while MAE tells us\n",
    "to pick the linear one. It is important to understand that the choices of inner and outer loss functions encode our\n",
    "requirements and may have substantial impact on the result. Our learners differ strongly in their complexity:\n",
    "we have an extremely flexible polynomial and a very robust (though perhaps underfitting) linear one. If, for\n",
    "example, our test data contains an extreme point far from the remaining observations, the polynomial model\n",
    "might be able to fit it fairly well, while the LM incurs a large MSE because the distance to this point enters\n",
    "quadratically. The MAE, on the other hand, is more concerned with small residuals, and there, our LM fares\n",
    "better. Here, following the MAE assessment would signify preference for a robust model."
   ]
  },
  {
   "cell_type": "markdown",
   "id": "f6596629",
   "metadata": {},
   "source": [
    "However, we must keep in mind that our performance evaluation is based on a single holdout split, which is\n",
    "not advisable in general and particularly deceptive with so little data. For different test data we quickly get\n",
    "in situations where the polynomial has both worse MSE and MAE – after all, slapping a learner with 21 + 1\n",
    "learnable parameters on a 50-points data set should strike you as a rather bad idea."
   ]
  },
  {
   "cell_type": "markdown",
   "id": "437c8a3b",
   "metadata": {},
   "source": [
    "Take-home message: the choice of our performance metric matters, and making decisions based on a single\n",
    "train-test split is risky in many data settings."
   ]
  },
  {
   "cell_type": "markdown",
   "id": "7f83b674",
   "metadata": {},
   "source": [
    "## Solution 2: Importance of train-test split"
   ]
  },
  {
   "cell_type": "markdown",
   "id": "c489ac56",
   "metadata": {},
   "source": [
    "### a)"
   ]
  },
  {
   "cell_type": "markdown",
   "id": "06d3445b",
   "metadata": {},
   "source": [
    "Get the data, define a task and corresponding train-test split, and predict with trained model:"
   ]
  },
  {
   "cell_type": "code",
   "execution_count": 31,
   "id": "a292023f-0c1c-452a-9481-ff0df433fa84",
   "metadata": {},
   "outputs": [
    {
     "data": {
      "text/html": [
       "<table class=\"dataframe\">\n",
       "<caption>A data.frame: 6 × 2</caption>\n",
       "<thead>\n",
       "\t<tr><th></th><th scope=col>MedInc</th><th scope=col>MedValue</th></tr>\n",
       "\t<tr><th></th><th scope=col>&lt;dbl&gt;</th><th scope=col>&lt;dbl&gt;</th></tr>\n",
       "</thead>\n",
       "<tbody>\n",
       "\t<tr><th scope=row>1</th><td>8.3252</td><td>4.526</td></tr>\n",
       "\t<tr><th scope=row>2</th><td>8.3014</td><td>3.585</td></tr>\n",
       "\t<tr><th scope=row>3</th><td>7.2574</td><td>3.521</td></tr>\n",
       "\t<tr><th scope=row>4</th><td>5.6431</td><td>3.413</td></tr>\n",
       "\t<tr><th scope=row>5</th><td>3.8462</td><td>3.422</td></tr>\n",
       "\t<tr><th scope=row>6</th><td>4.0368</td><td>2.697</td></tr>\n",
       "</tbody>\n",
       "</table>\n"
      ],
      "text/latex": [
       "A data.frame: 6 × 2\n",
       "\\begin{tabular}{r|ll}\n",
       "  & MedInc & MedValue\\\\\n",
       "  & <dbl> & <dbl>\\\\\n",
       "\\hline\n",
       "\t1 & 8.3252 & 4.526\\\\\n",
       "\t2 & 8.3014 & 3.585\\\\\n",
       "\t3 & 7.2574 & 3.521\\\\\n",
       "\t4 & 5.6431 & 3.413\\\\\n",
       "\t5 & 3.8462 & 3.422\\\\\n",
       "\t6 & 4.0368 & 2.697\\\\\n",
       "\\end{tabular}\n"
      ],
      "text/markdown": [
       "\n",
       "A data.frame: 6 × 2\n",
       "\n",
       "| <!--/--> | MedInc &lt;dbl&gt; | MedValue &lt;dbl&gt; |\n",
       "|---|---|---|\n",
       "| 1 | 8.3252 | 4.526 |\n",
       "| 2 | 8.3014 | 3.585 |\n",
       "| 3 | 7.2574 | 3.521 |\n",
       "| 4 | 5.6431 | 3.413 |\n",
       "| 5 | 3.8462 | 3.422 |\n",
       "| 6 | 4.0368 | 2.697 |\n",
       "\n"
      ],
      "text/plain": [
       "  MedInc MedValue\n",
       "1 8.3252 4.526   \n",
       "2 8.3014 3.585   \n",
       "3 7.2574 3.521   \n",
       "4 5.6431 3.413   \n",
       "5 3.8462 3.422   \n",
       "6 4.0368 2.697   "
      ]
     },
     "metadata": {},
     "output_type": "display_data"
    }
   ],
   "source": [
    "#| label: cali-data\n",
    "# Adapt to version available on sklearn following description from \n",
    "# https://gist.github.com/bgreenwell/b1330460eec5acf1c81fae71902e331c\n",
    "\n",
    "setwd(tempdir())\n",
    "url <- \"https://www.dcc.fc.up.pt/~ltorgo/Regression/cal_housing.tgz\"\n",
    "download.file(url, destfile = \"cal.tar.gz\")\n",
    "untar(\"cal.tar.gz\")\n",
    "\n",
    "# Read the data into R and provide column names\n",
    "df_california <- read.csv(\"CaliforniaHousing//cal_housing.data\", header = FALSE)\n",
    "columns_index <- c(9, 8, 3, 4, 5, 6, 7, 2, 1)\n",
    "df_california <- df_california[, columns_index]\n",
    "names(df_california) <- c(\n",
    "    \"MedValue\", \n",
    "    \"MedInc\", \n",
    "    \"HouseAge\", \n",
    "    \"AveRooms\",\n",
    "    \"AveBedrms\", \n",
    "    \"Population\", \n",
    "    \"AveOccup\", \n",
    "    \"Latitude\",\n",
    "    \"Longitude\"\n",
    ")\n",
    "df_california$MedValue <- df_california$MedValue / 100000\n",
    "df_california <- df_california[, c(\"MedInc\", \"MedValue\")]\n",
    "head(df_california)"
   ]
  },
  {
   "cell_type": "code",
   "execution_count": 33,
   "id": "e6c298c2-ba7f-49cb-baff-7800ce27e1fa",
   "metadata": {},
   "outputs": [],
   "source": [
    "#| label: cali-split\n",
    "\n",
    "df_california_sorted <- df_california[order(df_california$MedInc), ]\n",
    "task <- TaskRegr$new(\n",
    "    \"housing\", backend = df_california_sorted, target = \"MedValue\"\n",
    ")\n",
    "train_set = 1:100\n",
    "test_set = setdiff(seq_len(task$nrow), train_set)"
   ]
  },
  {
   "cell_type": "code",
   "execution_count": 40,
   "id": "52622e78-a8d7-40dd-9de4-4d491df16472",
   "metadata": {},
   "outputs": [
    {
     "data": {
      "text/html": [
       "'MSE of test data 4.1522:'"
      ],
      "text/latex": [
       "'MSE of test data 4.1522:'"
      ],
      "text/markdown": [
       "'MSE of test data 4.1522:'"
      ],
      "text/plain": [
       "[1] \"MSE of test data 4.1522:\""
      ]
     },
     "metadata": {},
     "output_type": "display_data"
    }
   ],
   "source": [
    "#| label: cali-lm\n",
    "\n",
    "# train linear learner\n",
    "learner <- lrn(\"regr.lm\")\n",
    "learner$train(task, row_ids = train_set)\n",
    "\n",
    "# predict on test data\n",
    "predictions <- learner$predict(task, row_ids = test_set)\n",
    "sprintf(\"MSE of test data %.4f:\", predictions$score())"
   ]
  },
  {
   "cell_type": "markdown",
   "id": "d67aaff5",
   "metadata": {},
   "source": [
    "### b) "
   ]
  },
  {
   "cell_type": "markdown",
   "id": "4b85692d",
   "metadata": {},
   "source": [
    "We have chosen the first few observations from a data set that is ordered by feature value, which is not a good idea because this is not a random sample and covers only a particular area of the feature space. Consequently, we obtain a pretty high test MSE (relatively speaking -- we will see in the next exercise which error values we can usually expect for this task). Looking at the data, this gives us a steeply declining regression line that does not reflect the overall data situation. Also, the training set is pretty small and will likely lead to poor generalization."
   ]
  },
  {
   "cell_type": "markdown",
   "id": "4a3a122d",
   "metadata": {},
   "source": [
    "### c)"
   ]
  },
  {
   "cell_type": "markdown",
   "id": "3eb905b9",
   "metadata": {},
   "source": [
    "We repeat the above procedure for different train-test splits like so:\n"
   ]
  },
  {
   "cell_type": "code",
   "execution_count": 44,
   "id": "840963c4-ba10-44a1-9ab6-4f49405efd63",
   "metadata": {},
   "outputs": [],
   "source": [
    "#| label: cali-resample\n",
    "\n",
    "# define train-test splits\n",
    "repetitions <- 1:10\n",
    "split_ratios <- seq(0.1, 0.9, by = 0.1)\n",
    "\n",
    "# create resampling objects with holdout strategy, using lapply for efficient computation\n",
    "split_strategies <- lapply(split_ratios, function(i) rsmp(\"holdout\", ratio = i))\n",
    "\n",
    "# train linear learners and predict in one step (remember to set a seed)\n",
    "set.seed(123)\n",
    "results <- list()\n",
    "lgr::get_logger(\"mlr3\")$set_threshold(\"warn\")\n",
    "for (i in repetitions) {\n",
    "    results[[i]] <- lapply(\n",
    "        split_strategies, function(i) mlr3::resample(task, learner, i)\n",
    "    )\n",
    "}"
   ]
  },
  {
   "cell_type": "code",
   "execution_count": 46,
   "id": "43d0567e",
   "metadata": {
    "vscode": {
     "languageId": "r"
    }
   },
   "outputs": [],
   "source": [
    "#| label: cali-error\n",
    "\n",
    "errors <- lapply(\n",
    "  repetitions,\n",
    "  function(i) sapply(results[[i]], function(j) j$score()$regr.mse)\n",
    ")\n",
    "\n",
    "# assemble everything in data.frame and convert to long format for plotting\n",
    "errors_df <- as.data.frame(do.call(cbind, errors))\n",
    "errors_df$split_ratios <- split_ratios\n",
    "errors_df_long <- reshape2::melt(errors_df, id.vars = \"split_ratios\")\n",
    "names(errors_df_long)[2:3] <- c(\"repetition\", \"mse\")"
   ]
  },
  {
   "cell_type": "code",
   "execution_count": 48,
   "id": "68731c8d",
   "metadata": {
    "vscode": {
     "languageId": "r"
    }
   },
   "outputs": [
    {
     "data": {
      "image/png": "[encoded data removed]",
      "text/plain": [
       "plot without title"
      ]
     },
     "metadata": {
      "image/png": {
       "height": 420,
       "width": 420
      }
     },
     "output_type": "display_data"
    }
   ],
   "source": [
    "#| label: cali-boxplot-r\n",
    "\n",
    "# plot errors vs split ratio\n",
    "ggplot(errors_df_long, aes(x = as.factor(split_ratios), y = mse)) +\n",
    "  geom_boxplot(fill = \"lightgray\") +\n",
    "  theme_classic() +\n",
    "  labs(x = \"share of training samples\", y = \"average MSE\")"
   ]
  }
 ],
 "metadata": {
  "kernelspec": {
   "display_name": "R",
   "language": "R",
   "name": "ir"
  },
  "language_info": {
   "codemirror_mode": "r",
   "file_extension": ".r",
   "mimetype": "text/x-r-source",
   "name": "R",
   "pygments_lexer": "r",
   "version": "4.4.0"
  }
 },
 "nbformat": 4,
 "nbformat_minor": 5
}
