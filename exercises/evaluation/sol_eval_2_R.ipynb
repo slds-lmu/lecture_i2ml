{
 "cells": [
  {
   "cell_type": "code",
   "execution_count": 7,
   "id": "ca603446",
   "metadata": {
    "vscode": {
     "languageId": "r"
    }
   },
   "outputs": [],
   "source": [
    "library(mlbench)\n",
    "library(mlr3)\n",
    "library(mlr3learners)"
   ]
  },
  {
   "cell_type": "markdown",
   "id": "d1d6c783",
   "metadata": {},
   "source": [
    "## Solution 2:  Resampling strategies"
   ]
  },
  {
   "cell_type": "markdown",
   "id": "a4877490",
   "metadata": {},
   "source": [
    "### a)"
   ]
  },
  {
   "cell_type": "markdown",
   "id": "440e5375",
   "metadata": {},
   "source": [
    "The two main advantages of resampling are:"
   ]
  },
  {
   "cell_type": "markdown",
   "id": "53aaa8a7",
   "metadata": {},
   "source": [
    "• We are able to use larger training sets (at the expense of test set size) because the high variance this incurs\n",
    "for the resulting estimator is smoothed out by averaging across repetitions."
   ]
  },
  {
   "cell_type": "markdown",
   "id": "ff6ca9d5",
   "metadata": {},
   "source": [
    "• Repeated sampling reduces the risk of getting lucky (or not so lucky) with a particular data split, which\n",
    "is especially relevant with few observations."
   ]
  },
  {
   "cell_type": "markdown",
   "id": "d1f4cd4e",
   "metadata": {},
   "source": [
    "### b)"
   ]
  },
  {
   "cell_type": "markdown",
   "id": "8955588b",
   "metadata": {},
   "source": [
    "You can find the [german_credit_for_py.csv](https://github.com/slds-lmu/lecture_i2ml/blob/master/exercises/data/german_credit_for_py.csv) in our GitHub. The feature columns have already been preprocessed with *OneHotEncoder* for categorial features and *OrdinalEncoder* for ordianal features(installment_rate, present_residence, number_credits)."
   ]
  },
  {
   "cell_type": "code",
   "execution_count": 8,
   "id": "377821be",
   "metadata": {
    "vscode": {
     "languageId": "r"
    }
   },
   "outputs": [
    {
     "data": {
      "text/plain": [
       "<TaskClassif:german_credit> (1000 x 21): German Credit\n",
       "* Target: credit_risk\n",
       "* Properties: twoclass\n",
       "* Features (20):\n",
       "  - fct (14): credit_history, employment_duration, foreign_worker,\n",
       "    housing, job, other_debtors, other_installment_plans,\n",
       "    people_liable, personal_status_sex, property, purpose, savings,\n",
       "    status, telephone\n",
       "  - int (3): age, amount, duration\n",
       "  - ord (3): installment_rate, number_credits, present_residence"
      ]
     },
     "metadata": {},
     "output_type": "display_data"
    },
    {
     "data": {
      "text/html": [
       "<strong>classif.ce:</strong> 0.211"
      ],
      "text/latex": [
       "\\textbf{classif.ce:} 0.211"
      ],
      "text/markdown": [
       "**classif.ce:** 0.211"
      ],
      "text/plain": [
       "classif.ce \n",
       "     0.211 "
      ]
     },
     "metadata": {},
     "output_type": "display_data"
    }
   ],
   "source": [
    "#| label: 2-b-1\n",
    "\n",
    "# create task and learner\n",
    "(task <- tsk(\"german_credit\"))\n",
    "learner <- lrn(\"classif.log_reg\")\n",
    "\n",
    "# train, predict and compute train error\n",
    "learner$train(task)\n",
    "preds <- learner$predict(task)\n",
    "preds$score()"
   ]
  },
  {
   "cell_type": "markdown",
   "id": "e2f04eda",
   "metadata": {},
   "source": [
    "### c)"
   ]
  },
  {
   "cell_type": "code",
   "execution_count": null,
   "id": "66927610",
   "metadata": {
    "vscode": {
     "languageId": "r"
    }
   },
   "outputs": [
    {
     "name": "stdout",
     "output_type": "stream",
     "text": [
      "INFO  [11:29:35.847] [mlr3] Applying learner 'classif.log_reg' on task 'german_credit' (iter 1/30)\n",
      "INFO  [11:29:35.927] [mlr3] Applying learner 'classif.log_reg' on task 'german_credit' (iter 2/30)\n",
      "INFO  [11:29:35.973] [mlr3] Applying learner 'classif.log_reg' on task 'german_credit' (iter 3/30)\n",
      "INFO  [11:29:36.014] [mlr3] Applying learner 'classif.log_reg' on task 'german_credit' (iter 4/30)\n",
      "INFO  [11:29:36.057] [mlr3] Applying learner 'classif.log_reg' on task 'german_credit' (iter 5/30)\n",
      "INFO  [11:29:36.107] [mlr3] Applying learner 'classif.log_reg' on task 'german_credit' (iter 6/30)\n",
      "INFO  [11:29:36.149] [mlr3] Applying learner 'classif.log_reg' on task 'german_credit' (iter 7/30)\n",
      "INFO  [11:29:36.190] [mlr3] Applying learner 'classif.log_reg' on task 'german_credit' (iter 8/30)\n",
      "INFO  [11:29:36.231] [mlr3] Applying learner 'classif.log_reg' on task 'german_credit' (iter 9/30)\n",
      "INFO  [11:29:36.353] [mlr3] Applying learner 'classif.log_reg' on task 'german_credit' (iter 10/30)\n",
      "INFO  [11:29:36.395] [mlr3] Applying learner 'classif.log_reg' on task 'german_credit' (iter 11/30)\n",
      "INFO  [11:29:36.436] [mlr3] Applying learner 'classif.log_reg' on task 'german_credit' (iter 12/30)\n",
      "INFO  [11:29:36.478] [mlr3] Applying learner 'classif.log_reg' on task 'german_credit' (iter 13/30)\n",
      "INFO  [11:29:36.521] [mlr3] Applying learner 'classif.log_reg' on task 'german_credit' (iter 14/30)\n",
      "INFO  [11:29:36.604] [mlr3] Applying learner 'classif.log_reg' on task 'german_credit' (iter 15/30)\n",
      "INFO  [11:29:36.645] [mlr3] Applying learner 'classif.log_reg' on task 'german_credit' (iter 16/30)\n",
      "INFO  [11:29:36.686] [mlr3] Applying learner 'classif.log_reg' on task 'german_credit' (iter 17/30)\n",
      "INFO  [11:29:36.728] [mlr3] Applying learner 'classif.log_reg' on task 'german_credit' (iter 18/30)\n",
      "INFO  [11:29:36.806] [mlr3] Applying learner 'classif.log_reg' on task 'german_credit' (iter 19/30)\n",
      "INFO  [11:29:36.851] [mlr3] Applying learner 'classif.log_reg' on task 'german_credit' (iter 20/30)\n",
      "INFO  [11:29:36.892] [mlr3] Applying learner 'classif.log_reg' on task 'german_credit' (iter 21/30)\n",
      "INFO  [11:29:36.934] [mlr3] Applying learner 'classif.log_reg' on task 'german_credit' (iter 22/30)\n",
      "INFO  [11:29:37.012] [mlr3] Applying learner 'classif.log_reg' on task 'german_credit' (iter 23/30)\n",
      "INFO  [11:29:37.054] [mlr3] Applying learner 'classif.log_reg' on task 'german_credit' (iter 24/30)\n",
      "INFO  [11:29:37.098] [mlr3] Applying learner 'classif.log_reg' on task 'german_credit' (iter 25/30)\n",
      "INFO  [11:29:37.139] [mlr3] Applying learner 'classif.log_reg' on task 'german_credit' (iter 26/30)\n",
      "INFO  [11:29:37.181] [mlr3] Applying learner 'classif.log_reg' on task 'german_credit' (iter 27/30)\n",
      "INFO  [11:29:37.223] [mlr3] Applying learner 'classif.log_reg' on task 'german_credit' (iter 28/30)\n",
      "INFO  [11:29:37.265] [mlr3] Applying learner 'classif.log_reg' on task 'german_credit' (iter 29/30)\n",
      "INFO  [11:29:37.310] [mlr3] Applying learner 'classif.log_reg' on task 'german_credit' (iter 30/30)\n",
      "INFO  [11:29:37.395] [mlr3] Applying learner 'classif.log_reg' on task 'german_credit' (iter 1/30)\n",
      "INFO  [11:29:37.465] [mlr3] Applying learner 'classif.log_reg' on task 'german_credit' (iter 2/30)\n",
      "INFO  [11:29:37.501] [mlr3] Applying learner 'classif.log_reg' on task 'german_credit' (iter 3/30)\n",
      "INFO  [11:29:37.538] [mlr3] Applying learner 'classif.log_reg' on task 'german_credit' (iter 4/30)\n",
      "INFO  [11:29:37.611] [mlr3] Applying learner 'classif.log_reg' on task 'german_credit' (iter 5/30)\n",
      "INFO  [11:29:37.647] [mlr3] Applying learner 'classif.log_reg' on task 'german_credit' (iter 6/30)\n",
      "INFO  [11:29:37.688] [mlr3] Applying learner 'classif.log_reg' on task 'german_credit' (iter 7/30)\n",
      "INFO  [11:29:37.725] [mlr3] Applying learner 'classif.log_reg' on task 'german_credit' (iter 8/30)\n",
      "INFO  [11:29:37.830] [mlr3] Applying learner 'classif.log_reg' on task 'german_credit' (iter 9/30)\n",
      "INFO  [11:29:37.894] [mlr3] Applying learner 'classif.log_reg' on task 'german_credit' (iter 10/30)\n",
      "INFO  [11:29:37.933] [mlr3] Applying learner 'classif.log_reg' on task 'german_credit' (iter 11/30)\n",
      "INFO  [11:29:37.971] [mlr3] Applying learner 'classif.log_reg' on task 'german_credit' (iter 12/30)\n",
      "INFO  [11:29:38.037] [mlr3] Applying learner 'classif.log_reg' on task 'german_credit' (iter 13/30)\n",
      "INFO  [11:29:38.105] [mlr3] Applying learner 'classif.log_reg' on task 'german_credit' (iter 14/30)\n",
      "INFO  [11:29:38.142] [mlr3] Applying learner 'classif.log_reg' on task 'german_credit' (iter 15/30)\n",
      "INFO  [11:29:38.179] [mlr3] Applying learner 'classif.log_reg' on task 'german_credit' (iter 16/30)\n",
      "INFO  [11:29:38.244] [mlr3] Applying learner 'classif.log_reg' on task 'german_credit' (iter 17/30)\n",
      "INFO  [11:29:38.281] [mlr3] Applying learner 'classif.log_reg' on task 'german_credit' (iter 18/30)\n",
      "INFO  [11:29:38.325] [mlr3] Applying learner 'classif.log_reg' on task 'german_credit' (iter 19/30)\n",
      "INFO  [11:29:38.390] [mlr3] Applying learner 'classif.log_reg' on task 'german_credit' (iter 20/30)\n",
      "INFO  [11:29:38.427] [mlr3] Applying learner 'classif.log_reg' on task 'german_credit' (iter 21/30)\n",
      "INFO  [11:29:38.467] [mlr3] Applying learner 'classif.log_reg' on task 'german_credit' (iter 22/30)\n",
      "INFO  [11:29:38.532] [mlr3] Applying learner 'classif.log_reg' on task 'german_credit' (iter 23/30)\n",
      "INFO  [11:29:38.572] [mlr3] Applying learner 'classif.log_reg' on task 'german_credit' (iter 24/30)\n",
      "INFO  [11:29:38.609] [mlr3] Applying learner 'classif.log_reg' on task 'german_credit' (iter 25/30)\n",
      "INFO  [11:29:38.673] [mlr3] Applying learner 'classif.log_reg' on task 'german_credit' (iter 26/30)\n",
      "INFO  [11:29:38.710] [mlr3] Applying learner 'classif.log_reg' on task 'german_credit' (iter 27/30)\n",
      "INFO  [11:29:38.746] [mlr3] Applying learner 'classif.log_reg' on task 'german_credit' (iter 28/30)\n",
      "INFO  [11:29:38.786] [mlr3] Applying learner 'classif.log_reg' on task 'german_credit' (iter 29/30)\n",
      "INFO  [11:29:38.823] [mlr3] Applying learner 'classif.log_reg' on task 'german_credit' (iter 30/30)\n",
      "INFO  [11:29:38.942] [mlr3] Applying learner 'classif.log_reg' on task 'german_credit' (iter 1/1)\n",
      "INFO  [11:29:39.003] [mlr3] Applying learner 'classif.log_reg' on task 'german_credit' (iter 1/30)\n",
      "INFO  [11:29:39.044] [mlr3] Applying learner 'classif.log_reg' on task 'german_credit' (iter 2/30)\n",
      "INFO  [11:29:39.085] [mlr3] Applying learner 'classif.log_reg' on task 'german_credit' (iter 3/30)\n",
      "INFO  [11:29:39.130] [mlr3] Applying learner 'classif.log_reg' on task 'german_credit' (iter 4/30)\n",
      "INFO  [11:29:39.170] [mlr3] Applying learner 'classif.log_reg' on task 'german_credit' (iter 5/30)\n",
      "INFO  [11:29:39.210] [mlr3] Applying learner 'classif.log_reg' on task 'german_credit' (iter 6/30)\n",
      "INFO  [11:29:39.251] [mlr3] Applying learner 'classif.log_reg' on task 'german_credit' (iter 7/30)\n",
      "INFO  [11:29:39.292] [mlr3] Applying learner 'classif.log_reg' on task 'german_credit' (iter 8/30)\n",
      "INFO  [11:29:39.336] [mlr3] Applying learner 'classif.log_reg' on task 'german_credit' (iter 9/30)\n",
      "INFO  [11:29:39.413] [mlr3] Applying learner 'classif.log_reg' on task 'german_credit' (iter 10/30)\n",
      "INFO  [11:29:39.454] [mlr3] Applying learner 'classif.log_reg' on task 'german_credit' (iter 11/30)\n",
      "INFO  [11:29:39.497] [mlr3] Applying learner 'classif.log_reg' on task 'german_credit' (iter 12/30)\n",
      "INFO  [11:29:39.538] [mlr3] Applying learner 'classif.log_reg' on task 'german_credit' (iter 13/30)\n",
      "INFO  [11:29:39.579] [mlr3] Applying learner 'classif.log_reg' on task 'german_credit' (iter 14/30)\n",
      "INFO  [11:29:39.659] [mlr3] Applying learner 'classif.log_reg' on task 'german_credit' (iter 15/30)\n",
      "INFO  [11:29:39.699] [mlr3] Applying learner 'classif.log_reg' on task 'german_credit' (iter 16/30)\n",
      "INFO  [11:29:39.740] [mlr3] Applying learner 'classif.log_reg' on task 'german_credit' (iter 17/30)\n",
      "INFO  [11:29:39.781] [mlr3] Applying learner 'classif.log_reg' on task 'german_credit' (iter 18/30)\n",
      "INFO  [11:29:39.833] [mlr3] Applying learner 'classif.log_reg' on task 'german_credit' (iter 19/30)\n",
      "INFO  [11:29:39.873] [mlr3] Applying learner 'classif.log_reg' on task 'german_credit' (iter 20/30)\n",
      "INFO  [11:29:39.914] [mlr3] Applying learner 'classif.log_reg' on task 'german_credit' (iter 21/30)\n",
      "INFO  [11:29:39.955] [mlr3] Applying learner 'classif.log_reg' on task 'german_credit' (iter 22/30)\n",
      "INFO  [11:29:40.000] [mlr3] Applying learner 'classif.log_reg' on task 'german_credit' (iter 23/30)\n",
      "INFO  [11:29:40.041] [mlr3] Applying learner 'classif.log_reg' on task 'german_credit' (iter 24/30)\n",
      "INFO  [11:29:40.082] [mlr3] Applying learner 'classif.log_reg' on task 'german_credit' (iter 25/30)\n",
      "INFO  [11:29:40.122] [mlr3] Applying learner 'classif.log_reg' on task 'german_credit' (iter 26/30)\n",
      "INFO  [11:29:40.171] [mlr3] Applying learner 'classif.log_reg' on task 'german_credit' (iter 27/30)\n",
      "INFO  [11:29:40.211] [mlr3] Applying learner 'classif.log_reg' on task 'german_credit' (iter 28/30)\n",
      "INFO  [11:29:40.252] [mlr3] Applying learner 'classif.log_reg' on task 'german_credit' (iter 29/30)\n",
      "INFO  [11:29:40.357] [mlr3] Applying learner 'classif.log_reg' on task 'german_credit' (iter 30/30)\n"
     ]
    }
   ],
   "source": [
    "#| label: 2-c-1\n",
    "#| output: false\n",
    "\n",
    "# create different resampling strategies\n",
    "set.seed(123)\n",
    "resampling_3x10_cv <- rsmp(\"repeated_cv\", folds = 10, repeats = 3)\n",
    "resampling_10x3_cv <- rsmp(\"repeated_cv\", folds = 3, repeats = 10)\n",
    "resampling_ho <- rsmp(\"holdout\", ratio = 0.9)\n",
    "\n",
    "# evaluate without stratification\n",
    "result_3x10_cv <- resample(task, learner, resampling_3x10_cv, store_models = TRUE)\n",
    "result_10x3_cv <- resample(task, learner, resampling_10x3_cv, store_models = TRUE)\n",
    "result_ho <- resample(task, learner, resampling_ho, store_models = TRUE)\n",
    "\n",
    "# evaluate with stratification\n",
    "task_stratified <- task$clone()\n",
    "task_stratified$set_col_roles(\"foreign_worker\", roles = \"stratum\")\n",
    "result_stratified <- resample(\n",
    "  task_stratified, learner, resampling_3x10_cv, store_models = TRUE)"
   ]
  },
  {
   "cell_type": "code",
   "execution_count": null,
   "id": "e76c7c9d",
   "metadata": {
    "vscode": {
     "languageId": "r"
    }
   },
   "outputs": [
    {
     "name": "stdout",
     "output_type": "stream",
     "text": [
      "classif.ce classif.ce classif.ce classif.ce \n",
      " 0.2486667  0.2557977  0.2525512  0.1800000 \n"
     ]
    }
   ],
   "source": [
    "#| label: 2-c-2\n",
    "\n",
    "# aggregate results over splits (mce is default)\n",
    "print(sapply(\n",
    "  list(result_3x10_cv, result_10x3_cv, result_stratified, result_ho), \n",
    "  function(i) i$aggregate()))"
   ]
  },
  {
   "cell_type": "markdown",
   "id": "a4fdc7ca",
   "metadata": {},
   "source": [
    "### d)"
   ]
  },
  {
   "cell_type": "markdown",
   "id": "43d03c66",
   "metadata": {},
   "source": [
    "Generalization error estimates are pretty stable across the different resampling strategies because we have a\n",
    "fairly large number (1000) of observations. Still, the pessimistic bias of small training sets is visible: 10x3-CV,\n",
    "using roughly 67% of data for training in each split, estimates a higher generalization error than 3x10-CV with\n",
    "roughly 90% training data. Stratification by foreign worker does not seem to have much effect on the estimate.\n",
    "However, we see a glaring difference when we use a single 90%-10% split, where the estimated GE is roughly 8.5\n",
    "percentage points higher than with 3x10-CV, meaning we got a higher error just because of an unlucky split."
   ]
  },
  {
   "cell_type": "markdown",
   "id": "be214687",
   "metadata": {},
   "source": [
    "Comparing the results (except for the unreliable one produced by a single split) with the training error from b)\n",
    "indicates no serious overfitting."
   ]
  },
  {
   "cell_type": "markdown",
   "id": "110a8c20",
   "metadata": {},
   "source": [
    "### e)"
   ]
  },
  {
   "cell_type": "markdown",
   "id": "1533c375",
   "metadata": {},
   "source": [
    "LOO is not a very good idea here – with 1000 observations this would take a very long time. Also, LOO has\n",
    "high variance by nature. Repeated CV with a sufficient number of folds should give us a pretty good idea about\n",
    "the expected GE of our learner."
   ]
  }
 ],
 "metadata": {
  "kernelspec": {
   "display_name": "R-i2ml",
   "language": "R",
   "name": "ir"
  },
  "language_info": {
   "codemirror_mode": "r",
   "file_extension": ".r",
   "mimetype": "text/x-r-source",
   "name": "R",
   "pygments_lexer": "r",
   "version": "4.2.0"
  }
 },
 "nbformat": 4,
 "nbformat_minor": 5
}
