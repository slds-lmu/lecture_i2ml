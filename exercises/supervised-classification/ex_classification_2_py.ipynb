{
  "cells": [
    {
      "cell_type": "markdown",
      "id": "d37d65fc",
      "metadata": {},
      "source": [
        "***\n",
        "**Introduction to Machine Learning** <br>\n",
        "__[https://slds-lmu.github.io/i2ml/](https://slds-lmu.github.io/i2ml/)__\n",
        "***"
      ]
    },
    {
      "cell_type": "markdown",
      "id": "1a3814e2",
      "metadata": {},
      "source": [
        "# Exercise sheet 4: Supervised Classification"
      ]
    },
    {
      "cell_type": "code",
      "execution_count": 1,
      "id": "8c094065",
      "metadata": {},
      "outputs": [],
      "source": [
        "#| label: import\n",
        "# Consider the following libraries for this exercise sheet:\n",
        "\n",
        "# general\n",
        "import numpy as np\n",
        "import pandas as pd\n",
        "from scipy.stats import norm\n",
        "# plotting\n",
        "import matplotlib.pyplot as plt\n",
        "import seaborn as sns\n",
        "# sklearn\n",
        "from sklearn.naive_bayes import CategoricalNB # import Naive Bayes Classifier for categorial distributed features\n",
        "from sklearn.naive_bayes import GaussianNB # import Naive Bayes Classifier for normal distributed features\n",
        "from sklearn.preprocessing import OrdinalEncoder\n",
        "from sklearn.preprocessing import LabelEncoder\n",
        "from sklearn.discriminant_analysis import LinearDiscriminantAnalysis as LDA\n",
        "from sklearn.discriminant_analysis import QuadraticDiscriminantAnalysis as QDA\n",
        "from sklearn.inspection import DecisionBoundaryDisplay\n",
        "from sklearn.metrics import confusion_matrix\n",
        "from sklearn.metrics import precision_recall_fscore_support"
      ]
    },
    {
      "cell_type": "markdown",
      "id": "1b6de22a",
      "metadata": {},
      "source": [
        "## Exercise 1: Naive Bayes"
      ]
    },
    {
      "cell_type": "markdown",
      "id": "52e13a81",
      "metadata": {},
      "source": [
        "You are given the following table with the target variable `Banana`:"
      ]
    },
    {
      "cell_type": "markdown",
      "id": "72f4474e",
      "metadata": {},
      "source": [
        "| ID | Color | Form | Origin | Banana |\n",
        "| --- | --- | --- | --- | --- |\n",
        "| 1 | yellow | oblong | imported | yes |\n",
        "| 2 | yellow | round | domestic | no |\n",
        "| 3 | yellow | oblong | imported | no |\n",
        "| 4 | brown | oblong | imported | yes |\n",
        "| 5 | brown | round | domestic | no |\n",
        "| 6 | green | round | imported | yes |\n",
        "| 7 | green | oblong | domestic | no |\n",
        "| 8 | red | round | imported | no |\n"
      ]
    },
    {
      "cell_type": "markdown",
      "id": "a31dbf28",
      "metadata": {},
      "source": [
        "> a) We want to use a Naive Bayes classifier to predict whether a new fruit is a Banana or not. Estimate the posterior\n",
        "probability $\\hat{\\pi}(\\mathbf{x}_*)$ for a new observation $\\mathbf{x}_* = (yellow,round, imported)$. How would you classify the object?\n"
      ]
    },
    {
      "cell_type": "code",
      "execution_count": 2,
      "id": "70be7d5d",
      "metadata": {},
      "outputs": [],
      "source": [
        "# Enter your code here:"
      ]
    },
    {
      "cell_type": "markdown",
      "id": "d8c7a728",
      "metadata": {},
      "source": [
        "> b) Assume you have an additional feature Length that measures the length in cm. Describe in 1-2 sentences how\n",
        "you would handle this numeric feature with Naive Bayes.\n",
        "\n",
        "> **\\# Enter your answer here:**"
      ]
    },
    {
      "cell_type": "markdown",
      "id": "902fcbdf",
      "metadata": {},
      "source": [
        "## Exercise 2: Discriminant Analysis"
      ]
    },
    {
      "attachments": {
        "unnamed-chunk-4-1-1.png": {
          "image/png": "[encoded data removed]"
        }
      },
      "cell_type": "markdown",
      "id": "1d2dd79b",
      "metadata": {},
      "source": [
        "![unnamed-chunk-4-1-1.png](attachment:unnamed-chunk-4-1-1.png)"
      ]
    },
    {
      "cell_type": "markdown",
      "id": "b900342d",
      "metadata": {},
      "source": [
        "The above plot shows $\\mathcal{D} = \\left( (\\mathbf{x}^{(1)}, y^{(1)}), \\dots, (\\mathbf{x}^{(n)}, y^{(n)}) \\right)$, a data set with $n = 200$ observations of a continuous target variable $y$ and a continuous, 1-dimensional feature variable $\\mathbf{x}$. In the following, we aim at predicting $y$ with a machine learning model that takes $\\mathbf{x}$ as input.\n"
      ]
    },
    {
      "cell_type": "markdown",
      "id": "39fb58f3",
      "metadata": {},
      "source": [
        "> a) To prepare the data for classification, we categorize the target \n",
        "  variable $y$ in $3$ classes and call the transformed target variable $z$, as \n",
        "  follows:\n",
        "  \n",
        "  $$\n",
        "    z^{(i)} = \n",
        "    \\begin{cases}\n",
        "      1, &  y^{(i)} \\in (-\\infty, 2.5] \\\\\n",
        "      2, &  y^{(i)} \\in (2.5, 3.5] \\\\\n",
        "      3, &  y^{(i)} \\in (3.5, \\infty)\n",
        "    \\end{cases}\n",
        "  $$\n",
        "  > Now we can apply quadratic discriminant analysis (QDA):"
      ]
    },
    {
      "cell_type": "markdown",
      "id": "4d4ad133",
      "metadata": {},
      "source": [
        ">> i) Estimate the class means $\\mu_k = E(\\mathbf{x}| z = k)$ for each of the three classes $k \\in \\{1, 2, 3\\}$ visually from the plot.\n",
        "Do not overcomplicate this, a rough estimate is sufficient here. <br>\n",
        "\n",
        ">> **\\# Enter your answer here:** <br>\n",
        "\n",
        ">> ii) Make a plot that visualizes the different estimated densities per class"
      ]
    },
    {
      "cell_type": "code",
      "execution_count": 3,
      "id": "119066d3",
      "metadata": {},
      "outputs": [],
      "source": [
        "# Enter your code here:"
      ]
    },
    {
      "cell_type": "markdown",
      "id": "aefcb8d6",
      "metadata": {},
      "source": [
        ">> iii)  How would your plot from ii) change if we used linear discriminant analysis (LDA) instead of QDA? Explain\n",
        "your answer. <br>\n",
        "\n",
        ">> **\\# Enter your answer here:** <br>\n",
        "\n",
        "\n",
        ">> iv) Why is QDA preferable over LDA for this data?\n",
        "\n",
        ">> **\\# Enter your answer here:**"
      ]
    },
    {
      "cell_type": "markdown",
      "id": "30bd5c44",
      "metadata": {},
      "source": [
        "> b) Given are two new observations $\\mathbf{x}_{\u22171} = \u221210$ and $\\mathbf{x}_{\u22172} = 7$. State the prediction for QDA and explain how you arrive there.\n",
        "\n",
        "> **\\# Enter your answer here:**"
      ]
    },
    {
      "cell_type": "markdown",
      "id": "425f1aba",
      "metadata": {},
      "source": [
        "## Exercise 3: Decision Boundaries for Classification Learners"
      ]
    },
    {
      "cell_type": "markdown",
      "id": "f2e14d03",
      "metadata": {},
      "source": [
        "We will now visualize how well different learners classify the three-class `cassini` data set.\n",
        "Import `cassini_data.csv`.\n",
        "Then, perturb the `x.2` dimension with Gaussian noise (mean $0$, standard deviation $0.5$), and consider the classifiers\n",
        "already introduced in the lecture:"
      ]
    },
    {
      "cell_type": "markdown",
      "id": "380fdb10",
      "metadata": {},
      "source": [
        "- LDA,\n",
        "- QDA, and\n",
        "- Naive Bayes."
      ]
    },
    {
      "cell_type": "markdown",
      "id": "0cfc2737",
      "metadata": {},
      "source": [
        "Plot the learners\u2019 decision boundaries. Can you spot differences in separation ability? <br>\n",
        "(Note that logistic regression cannot handle more than two classes and is therefore not listed here.)"
      ]
    },
    {
      "cell_type": "code",
      "execution_count": 4,
      "id": "f7f0d62b",
      "metadata": {},
      "outputs": [],
      "source": [
        "# read in the CSV file:\n",
        "cassini = pd.read_csv('https://raw.githubusercontent.com/slds-lmu/lecture_i2ml/master/exercises/data/cassini_data.csv')\n",
        "\n",
        "# Enter your code here:"
      ]
    }
  ],
  "metadata": {
    "kernelspec": {
      "display_name": "Python (I2ML)",
      "language": "python",
      "name": "python-i2ml"
    }
  },
  "nbformat": 4,
  "nbformat_minor": 5
}