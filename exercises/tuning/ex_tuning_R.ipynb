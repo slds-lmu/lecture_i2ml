{
 "cells": [
  {
   "cell_type": "markdown",
   "id": "0cd1bb33",
   "metadata": {},
   "source": [
    "***\n",
    "**Introduction to Machine Learning** <br>\n",
    "__[https://slds-lmu.github.io/i2ml/](https://slds-lmu.github.io/i2ml/)__\n",
    "***"
   ]
  },
  {
   "cell_type": "markdown",
   "id": "91a25043",
   "metadata": {},
   "source": [
    "# Exercise sheet 11: Tuning"
   ]
  },
  {
   "cell_type": "code",
   "execution_count": null,
   "id": "1dbc6bfa",
   "metadata": {},
   "outputs": [],
   "source": [
    "#| label: import\n",
    "# Consider the following libraries for this exercise sheet:\n",
    "\n",
    "library(mlr3)\n",
    "library(mlr3learners)\n",
    "library(mlr3tuning)\n",
    "\n",
    "# for visualization\n",
    "library(mlr3viz)\n",
    "library(ggplot2)"
   ]
  },
  {
   "cell_type": "markdown",
   "id": "8dbb6337",
   "metadata": {},
   "source": [
    "## Exercise 3: Tuning $k$-NN\n"
   ]
  },
  {
   "cell_type": "markdown",
   "id": "04f1d651",
   "metadata": {},
   "source": [
    "In this exercise we will perform hyperparameter optimization (HPO) for the task of classifying the `credit risk` data with a $k$-NN classifier.\n",
    "We use `mlr3` ([tuning chapter in the book](https://mlr3book.mlr-org.com/chapters/chapter4/hyperparameter_optimization.html)); see [Jupyter notebook](https://github.com/slds-lmu/lecture_i2ml/blob/master/exercises/tuning/sol_tuning_py.ipynb) for a similar case study in Python.\n",
    "\n",
    "The `kknn` implementation used by `mlr3` contains several hyperparameters, three of which are to be tuned for our prediction:\n",
    "\n",
    "- $k$ (number of neighbors)\n",
    "- `kernel`\n",
    "- `scale`"
   ]
  },
  {
   "cell_type": "markdown",
   "id": "3f6376ab",
   "metadata": {},
   "source": [
    "Start by defining the `german_credit` task, where you reserve 800 observations for training, and the `kknn` learner (the learner should output probabilities)."
   ]
  },
  {
   "cell_type": "code",
   "execution_count": null,
   "id": "84770e79",
   "metadata": {},
   "outputs": [],
   "source": [
    "# Enter your code here:"
   ]
  },
  {
   "cell_type": "markdown",
   "id": "fe097546",
   "metadata": {},
   "source": [
    "Set up the search space to tune over using the `ps` function.\n",
    "Include choices for $k \\in \\{1, 2, \\dots, 100\\}$, `scale` $\\in \\{\\text{yes}, \\text{no}\\}$, and `kernel` $\\in \\{\\text{rectangular}, \\text{epanechnikov}, \\text{gaussian}, \\text{optimal}\\}$."
   ]
  },
  {
   "cell_type": "code",
   "execution_count": null,
   "id": "5ea586d7",
   "metadata": {},
   "outputs": [],
   "source": [
    "# Enter your code here:"
   ]
  },
  {
   "cell_type": "markdown",
   "id": "acf72805",
   "metadata": {},
   "source": [
    "Define the stopping criterion for random search with a so-called *terminator* (`trm`). We want the tuning procedure to finish after 200 evaluations or a maximum runtime of 30 seconds.\n",
    "\n",
    "*Hint:* You can define this combinded terminator via a list of individual terminators."
   ]
  },
  {
   "cell_type": "code",
   "execution_count": null,
   "id": "684fe82d",
   "metadata": {},
   "outputs": [],
   "source": [
    "# Enter your code here:"
   ]
  },
  {
   "cell_type": "markdown",
   "id": "dc968165",
   "metadata": {},
   "source": [
    "Set up a tuning instance using the function `ti`. This object combines all of the above components. Set the evaluation criterion to AUC."
   ]
  },
  {
   "cell_type": "code",
   "execution_count": null,
   "id": "b899e6de",
   "metadata": {},
   "outputs": [],
   "source": [
    "# Enter your code here:"
   ]
  },
  {
   "cell_type": "markdown",
   "id": "c95e6ac9",
   "metadata": {},
   "source": [
    "Finally, define the tuner (`tnr`) of type \"random_search\" and run the optimization. Don't forget to make your code reproducible."
   ]
  },
  {
   "cell_type": "code",
   "execution_count": null,
   "id": "86ac486f",
   "metadata": {},
   "outputs": [],
   "source": [
    "# Enter your code here:"
   ]
  },
  {
   "cell_type": "markdown",
   "id": "94a8a792",
   "metadata": {},
   "source": [
    "Visualize your result using the `autoplot` function.\n"
   ]
  },
  {
   "cell_type": "code",
   "execution_count": null,
   "id": "60d7442d",
   "metadata": {},
   "outputs": [],
   "source": [
    "# Enter your code here:"
   ]
  },
  {
   "cell_type": "markdown",
   "id": "79d7b42f",
   "metadata": {},
   "source": [
    "With the hyperparameter configuration found via HPO, fit the model on all training observations and compute the AUC on your test data.\n"
   ]
  },
  {
   "cell_type": "code",
   "execution_count": null,
   "id": "497291ec",
   "metadata": {},
   "outputs": [],
   "source": [
    "# Enter your code here:"
   ]
  }
 ],
 "metadata": {
  "kernelspec": {
   "display_name": "Python 3 (ipykernel)",
   "language": "python",
   "name": "python3"
  },
  "language_info": {
   "codemirror_mode": {
    "name": "ipython",
    "version": 3
   },
   "file_extension": ".py",
   "mimetype": "text/x-python",
   "name": "python",
   "nbconvert_exporter": "python",
   "pygments_lexer": "ipython3",
   "version": "3.10.12"
  }
 },
 "nbformat": 4,
 "nbformat_minor": 5
}
